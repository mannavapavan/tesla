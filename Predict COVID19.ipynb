{
 "cells": [
  {
   "cell_type": "code",
   "execution_count": 1,
   "metadata": {},
   "outputs": [],
   "source": [
    "import pandas as pd\n",
    "import matplotlib.pyplot as plt\n",
    "import seaborn as sns\n",
    "import numpy as np"
   ]
  },
  {
   "cell_type": "code",
   "execution_count": 2,
   "metadata": {},
   "outputs": [],
   "source": [
    "df = pd.read_csv('https://raw.githubusercontent.com/ammishra08/COVID-19/master/covid_19_datasets/covid_19_globaldata/covid_19_world.csv')"
   ]
  },
  {
   "cell_type": "code",
   "execution_count": 3,
   "metadata": {},
   "outputs": [
    {
     "data": {
      "text/html": [
       "<div>\n",
       "<style scoped>\n",
       "    .dataframe tbody tr th:only-of-type {\n",
       "        vertical-align: middle;\n",
       "    }\n",
       "\n",
       "    .dataframe tbody tr th {\n",
       "        vertical-align: top;\n",
       "    }\n",
       "\n",
       "    .dataframe thead th {\n",
       "        text-align: right;\n",
       "    }\n",
       "</style>\n",
       "<table border=\"1\" class=\"dataframe\">\n",
       "  <thead>\n",
       "    <tr style=\"text-align: right;\">\n",
       "      <th></th>\n",
       "      <th>SNo</th>\n",
       "      <th>ObservationDate</th>\n",
       "      <th>Province/State</th>\n",
       "      <th>Country/Region</th>\n",
       "      <th>Last Update</th>\n",
       "      <th>Confirmed</th>\n",
       "      <th>Deaths</th>\n",
       "      <th>Recovered</th>\n",
       "    </tr>\n",
       "  </thead>\n",
       "  <tbody>\n",
       "    <tr>\n",
       "      <th>0</th>\n",
       "      <td>1</td>\n",
       "      <td>01/22/2020</td>\n",
       "      <td>Anhui</td>\n",
       "      <td>Mainland China</td>\n",
       "      <td>1/22/2020 17:00</td>\n",
       "      <td>1.0</td>\n",
       "      <td>0.0</td>\n",
       "      <td>0.0</td>\n",
       "    </tr>\n",
       "    <tr>\n",
       "      <th>1</th>\n",
       "      <td>2</td>\n",
       "      <td>01/22/2020</td>\n",
       "      <td>Beijing</td>\n",
       "      <td>Mainland China</td>\n",
       "      <td>1/22/2020 17:00</td>\n",
       "      <td>14.0</td>\n",
       "      <td>0.0</td>\n",
       "      <td>0.0</td>\n",
       "    </tr>\n",
       "    <tr>\n",
       "      <th>2</th>\n",
       "      <td>3</td>\n",
       "      <td>01/22/2020</td>\n",
       "      <td>Chongqing</td>\n",
       "      <td>Mainland China</td>\n",
       "      <td>1/22/2020 17:00</td>\n",
       "      <td>6.0</td>\n",
       "      <td>0.0</td>\n",
       "      <td>0.0</td>\n",
       "    </tr>\n",
       "    <tr>\n",
       "      <th>3</th>\n",
       "      <td>4</td>\n",
       "      <td>01/22/2020</td>\n",
       "      <td>Fujian</td>\n",
       "      <td>Mainland China</td>\n",
       "      <td>1/22/2020 17:00</td>\n",
       "      <td>1.0</td>\n",
       "      <td>0.0</td>\n",
       "      <td>0.0</td>\n",
       "    </tr>\n",
       "    <tr>\n",
       "      <th>4</th>\n",
       "      <td>5</td>\n",
       "      <td>01/22/2020</td>\n",
       "      <td>Gansu</td>\n",
       "      <td>Mainland China</td>\n",
       "      <td>1/22/2020 17:00</td>\n",
       "      <td>0.0</td>\n",
       "      <td>0.0</td>\n",
       "      <td>0.0</td>\n",
       "    </tr>\n",
       "    <tr>\n",
       "      <th>...</th>\n",
       "      <td>...</td>\n",
       "      <td>...</td>\n",
       "      <td>...</td>\n",
       "      <td>...</td>\n",
       "      <td>...</td>\n",
       "      <td>...</td>\n",
       "      <td>...</td>\n",
       "      <td>...</td>\n",
       "    </tr>\n",
       "    <tr>\n",
       "      <th>20569</th>\n",
       "      <td>20570</td>\n",
       "      <td>05/01/2020</td>\n",
       "      <td>Wyoming</td>\n",
       "      <td>US</td>\n",
       "      <td>2020-05-02 02:32:27</td>\n",
       "      <td>566.0</td>\n",
       "      <td>7.0</td>\n",
       "      <td>0.0</td>\n",
       "    </tr>\n",
       "    <tr>\n",
       "      <th>20570</th>\n",
       "      <td>20571</td>\n",
       "      <td>05/01/2020</td>\n",
       "      <td>Xinjiang</td>\n",
       "      <td>Mainland China</td>\n",
       "      <td>2020-05-02 02:32:27</td>\n",
       "      <td>76.0</td>\n",
       "      <td>3.0</td>\n",
       "      <td>73.0</td>\n",
       "    </tr>\n",
       "    <tr>\n",
       "      <th>20571</th>\n",
       "      <td>20572</td>\n",
       "      <td>05/01/2020</td>\n",
       "      <td>Yukon</td>\n",
       "      <td>Canada</td>\n",
       "      <td>2020-05-02 02:32:27</td>\n",
       "      <td>11.0</td>\n",
       "      <td>0.0</td>\n",
       "      <td>0.0</td>\n",
       "    </tr>\n",
       "    <tr>\n",
       "      <th>20572</th>\n",
       "      <td>20573</td>\n",
       "      <td>05/01/2020</td>\n",
       "      <td>Yunnan</td>\n",
       "      <td>Mainland China</td>\n",
       "      <td>2020-05-02 02:32:27</td>\n",
       "      <td>185.0</td>\n",
       "      <td>2.0</td>\n",
       "      <td>181.0</td>\n",
       "    </tr>\n",
       "    <tr>\n",
       "      <th>20573</th>\n",
       "      <td>20574</td>\n",
       "      <td>05/01/2020</td>\n",
       "      <td>Zhejiang</td>\n",
       "      <td>Mainland China</td>\n",
       "      <td>2020-05-02 02:32:27</td>\n",
       "      <td>1268.0</td>\n",
       "      <td>1.0</td>\n",
       "      <td>1265.0</td>\n",
       "    </tr>\n",
       "  </tbody>\n",
       "</table>\n",
       "<p>20574 rows × 8 columns</p>\n",
       "</div>"
      ],
      "text/plain": [
       "         SNo ObservationDate Province/State  Country/Region  \\\n",
       "0          1      01/22/2020          Anhui  Mainland China   \n",
       "1          2      01/22/2020        Beijing  Mainland China   \n",
       "2          3      01/22/2020      Chongqing  Mainland China   \n",
       "3          4      01/22/2020         Fujian  Mainland China   \n",
       "4          5      01/22/2020          Gansu  Mainland China   \n",
       "...      ...             ...            ...             ...   \n",
       "20569  20570      05/01/2020        Wyoming              US   \n",
       "20570  20571      05/01/2020       Xinjiang  Mainland China   \n",
       "20571  20572      05/01/2020          Yukon          Canada   \n",
       "20572  20573      05/01/2020         Yunnan  Mainland China   \n",
       "20573  20574      05/01/2020       Zhejiang  Mainland China   \n",
       "\n",
       "               Last Update  Confirmed  Deaths  Recovered  \n",
       "0          1/22/2020 17:00        1.0     0.0        0.0  \n",
       "1          1/22/2020 17:00       14.0     0.0        0.0  \n",
       "2          1/22/2020 17:00        6.0     0.0        0.0  \n",
       "3          1/22/2020 17:00        1.0     0.0        0.0  \n",
       "4          1/22/2020 17:00        0.0     0.0        0.0  \n",
       "...                    ...        ...     ...        ...  \n",
       "20569  2020-05-02 02:32:27      566.0     7.0        0.0  \n",
       "20570  2020-05-02 02:32:27       76.0     3.0       73.0  \n",
       "20571  2020-05-02 02:32:27       11.0     0.0        0.0  \n",
       "20572  2020-05-02 02:32:27      185.0     2.0      181.0  \n",
       "20573  2020-05-02 02:32:27     1268.0     1.0     1265.0  \n",
       "\n",
       "[20574 rows x 8 columns]"
      ]
     },
     "execution_count": 3,
     "metadata": {},
     "output_type": "execute_result"
    }
   ],
   "source": [
    "df"
   ]
  },
  {
   "cell_type": "code",
   "execution_count": 4,
   "metadata": {},
   "outputs": [
    {
     "data": {
      "text/html": [
       "<div>\n",
       "<style scoped>\n",
       "    .dataframe tbody tr th:only-of-type {\n",
       "        vertical-align: middle;\n",
       "    }\n",
       "\n",
       "    .dataframe tbody tr th {\n",
       "        vertical-align: top;\n",
       "    }\n",
       "\n",
       "    .dataframe thead th {\n",
       "        text-align: right;\n",
       "    }\n",
       "</style>\n",
       "<table border=\"1\" class=\"dataframe\">\n",
       "  <thead>\n",
       "    <tr style=\"text-align: right;\">\n",
       "      <th></th>\n",
       "      <th>SNo</th>\n",
       "      <th>Confirmed</th>\n",
       "      <th>Deaths</th>\n",
       "      <th>Recovered</th>\n",
       "    </tr>\n",
       "  </thead>\n",
       "  <tbody>\n",
       "    <tr>\n",
       "      <th>count</th>\n",
       "      <td>20574.000000</td>\n",
       "      <td>20574.000000</td>\n",
       "      <td>20574.000000</td>\n",
       "      <td>20574.000000</td>\n",
       "    </tr>\n",
       "    <tr>\n",
       "      <th>mean</th>\n",
       "      <td>10287.500000</td>\n",
       "      <td>3759.672840</td>\n",
       "      <td>235.671624</td>\n",
       "      <td>999.194615</td>\n",
       "    </tr>\n",
       "    <tr>\n",
       "      <th>std</th>\n",
       "      <td>5939.346555</td>\n",
       "      <td>17740.018084</td>\n",
       "      <td>1656.794253</td>\n",
       "      <td>7050.768499</td>\n",
       "    </tr>\n",
       "    <tr>\n",
       "      <th>min</th>\n",
       "      <td>1.000000</td>\n",
       "      <td>0.000000</td>\n",
       "      <td>0.000000</td>\n",
       "      <td>0.000000</td>\n",
       "    </tr>\n",
       "    <tr>\n",
       "      <th>25%</th>\n",
       "      <td>5144.250000</td>\n",
       "      <td>11.000000</td>\n",
       "      <td>0.000000</td>\n",
       "      <td>0.000000</td>\n",
       "    </tr>\n",
       "    <tr>\n",
       "      <th>50%</th>\n",
       "      <td>10287.500000</td>\n",
       "      <td>125.000000</td>\n",
       "      <td>1.000000</td>\n",
       "      <td>2.000000</td>\n",
       "    </tr>\n",
       "    <tr>\n",
       "      <th>75%</th>\n",
       "      <td>15430.750000</td>\n",
       "      <td>855.000000</td>\n",
       "      <td>12.000000</td>\n",
       "      <td>93.000000</td>\n",
       "    </tr>\n",
       "    <tr>\n",
       "      <th>max</th>\n",
       "      <td>20574.000000</td>\n",
       "      <td>308314.000000</td>\n",
       "      <td>28236.000000</td>\n",
       "      <td>164015.000000</td>\n",
       "    </tr>\n",
       "  </tbody>\n",
       "</table>\n",
       "</div>"
      ],
      "text/plain": [
       "                SNo      Confirmed        Deaths      Recovered\n",
       "count  20574.000000   20574.000000  20574.000000   20574.000000\n",
       "mean   10287.500000    3759.672840    235.671624     999.194615\n",
       "std     5939.346555   17740.018084   1656.794253    7050.768499\n",
       "min        1.000000       0.000000      0.000000       0.000000\n",
       "25%     5144.250000      11.000000      0.000000       0.000000\n",
       "50%    10287.500000     125.000000      1.000000       2.000000\n",
       "75%    15430.750000     855.000000     12.000000      93.000000\n",
       "max    20574.000000  308314.000000  28236.000000  164015.000000"
      ]
     },
     "execution_count": 4,
     "metadata": {},
     "output_type": "execute_result"
    }
   ],
   "source": [
    "df.describe()"
   ]
  },
  {
   "cell_type": "code",
   "execution_count": 5,
   "metadata": {},
   "outputs": [
    {
     "data": {
      "text/html": [
       "<div>\n",
       "<style scoped>\n",
       "    .dataframe tbody tr th:only-of-type {\n",
       "        vertical-align: middle;\n",
       "    }\n",
       "\n",
       "    .dataframe tbody tr th {\n",
       "        vertical-align: top;\n",
       "    }\n",
       "\n",
       "    .dataframe thead th {\n",
       "        text-align: right;\n",
       "    }\n",
       "</style>\n",
       "<table border=\"1\" class=\"dataframe\">\n",
       "  <thead>\n",
       "    <tr style=\"text-align: right;\">\n",
       "      <th></th>\n",
       "      <th>SNo</th>\n",
       "      <th>ObservationDate</th>\n",
       "      <th>Province/State</th>\n",
       "      <th>Country/Region</th>\n",
       "      <th>Last Update</th>\n",
       "      <th>Confirmed</th>\n",
       "      <th>Deaths</th>\n",
       "      <th>Recovered</th>\n",
       "    </tr>\n",
       "  </thead>\n",
       "  <tbody>\n",
       "    <tr>\n",
       "      <th>0</th>\n",
       "      <td>1</td>\n",
       "      <td>01/22/2020</td>\n",
       "      <td>Anhui</td>\n",
       "      <td>Mainland China</td>\n",
       "      <td>1/22/2020 17:00</td>\n",
       "      <td>1.0</td>\n",
       "      <td>0.0</td>\n",
       "      <td>0.0</td>\n",
       "    </tr>\n",
       "    <tr>\n",
       "      <th>1</th>\n",
       "      <td>2</td>\n",
       "      <td>01/22/2020</td>\n",
       "      <td>Beijing</td>\n",
       "      <td>Mainland China</td>\n",
       "      <td>1/22/2020 17:00</td>\n",
       "      <td>14.0</td>\n",
       "      <td>0.0</td>\n",
       "      <td>0.0</td>\n",
       "    </tr>\n",
       "    <tr>\n",
       "      <th>2</th>\n",
       "      <td>3</td>\n",
       "      <td>01/22/2020</td>\n",
       "      <td>Chongqing</td>\n",
       "      <td>Mainland China</td>\n",
       "      <td>1/22/2020 17:00</td>\n",
       "      <td>6.0</td>\n",
       "      <td>0.0</td>\n",
       "      <td>0.0</td>\n",
       "    </tr>\n",
       "    <tr>\n",
       "      <th>3</th>\n",
       "      <td>4</td>\n",
       "      <td>01/22/2020</td>\n",
       "      <td>Fujian</td>\n",
       "      <td>Mainland China</td>\n",
       "      <td>1/22/2020 17:00</td>\n",
       "      <td>1.0</td>\n",
       "      <td>0.0</td>\n",
       "      <td>0.0</td>\n",
       "    </tr>\n",
       "    <tr>\n",
       "      <th>4</th>\n",
       "      <td>5</td>\n",
       "      <td>01/22/2020</td>\n",
       "      <td>Gansu</td>\n",
       "      <td>Mainland China</td>\n",
       "      <td>1/22/2020 17:00</td>\n",
       "      <td>0.0</td>\n",
       "      <td>0.0</td>\n",
       "      <td>0.0</td>\n",
       "    </tr>\n",
       "  </tbody>\n",
       "</table>\n",
       "</div>"
      ],
      "text/plain": [
       "   SNo ObservationDate Province/State  Country/Region      Last Update  \\\n",
       "0    1      01/22/2020          Anhui  Mainland China  1/22/2020 17:00   \n",
       "1    2      01/22/2020        Beijing  Mainland China  1/22/2020 17:00   \n",
       "2    3      01/22/2020      Chongqing  Mainland China  1/22/2020 17:00   \n",
       "3    4      01/22/2020         Fujian  Mainland China  1/22/2020 17:00   \n",
       "4    5      01/22/2020          Gansu  Mainland China  1/22/2020 17:00   \n",
       "\n",
       "   Confirmed  Deaths  Recovered  \n",
       "0        1.0     0.0        0.0  \n",
       "1       14.0     0.0        0.0  \n",
       "2        6.0     0.0        0.0  \n",
       "3        1.0     0.0        0.0  \n",
       "4        0.0     0.0        0.0  "
      ]
     },
     "execution_count": 5,
     "metadata": {},
     "output_type": "execute_result"
    }
   ],
   "source": [
    "df.head()\n"
   ]
  },
  {
   "cell_type": "code",
   "execution_count": 8,
   "metadata": {},
   "outputs": [
    {
     "data": {
      "text/plain": [
       "SNo                    0\n",
       "ObservationDate        0\n",
       "Province/State     10548\n",
       "Country/Region         0\n",
       "Last Update            0\n",
       "Confirmed              0\n",
       "Deaths                 0\n",
       "Recovered              0\n",
       "dtype: int64"
      ]
     },
     "execution_count": 8,
     "metadata": {},
     "output_type": "execute_result"
    }
   ],
   "source": [
    "df.isnull().sum()"
   ]
  },
  {
   "cell_type": "code",
   "execution_count": 11,
   "metadata": {},
   "outputs": [
    {
     "data": {
      "text/plain": [
       "77351509.0"
      ]
     },
     "execution_count": 11,
     "metadata": {},
     "output_type": "execute_result"
    }
   ],
   "source": [
    "df['Confirmed'].sum()"
   ]
  },
  {
   "cell_type": "code",
   "execution_count": 12,
   "metadata": {},
   "outputs": [],
   "source": [
    "df.drop('SNo', axis=1, inplace=True)"
   ]
  },
  {
   "cell_type": "markdown",
   "metadata": {},
   "source": [
    "# Date formatting of ObservationDate column and Last Update column"
   ]
  },
  {
   "cell_type": "code",
   "execution_count": 17,
   "metadata": {},
   "outputs": [],
   "source": [
    "df['ObservationDate'] = pd.to_datetime(df['ObservationDate'])"
   ]
  },
  {
   "cell_type": "code",
   "execution_count": 18,
   "metadata": {},
   "outputs": [
    {
     "data": {
      "text/plain": [
       "0       2020-01-22 17:00:00\n",
       "1       2020-01-22 17:00:00\n",
       "2       2020-01-22 17:00:00\n",
       "3       2020-01-22 17:00:00\n",
       "4       2020-01-22 17:00:00\n",
       "                ...        \n",
       "20569   2020-05-02 02:32:27\n",
       "20570   2020-05-02 02:32:27\n",
       "20571   2020-05-02 02:32:27\n",
       "20572   2020-05-02 02:32:27\n",
       "20573   2020-05-02 02:32:27\n",
       "Name: Last Update, Length: 20574, dtype: datetime64[ns]"
      ]
     },
     "execution_count": 18,
     "metadata": {},
     "output_type": "execute_result"
    }
   ],
   "source": [
    "pd.to_datetime(df['Last Update'])"
   ]
  },
  {
   "cell_type": "code",
   "execution_count": 19,
   "metadata": {},
   "outputs": [
    {
     "data": {
      "text/html": [
       "<div>\n",
       "<style scoped>\n",
       "    .dataframe tbody tr th:only-of-type {\n",
       "        vertical-align: middle;\n",
       "    }\n",
       "\n",
       "    .dataframe tbody tr th {\n",
       "        vertical-align: top;\n",
       "    }\n",
       "\n",
       "    .dataframe thead th {\n",
       "        text-align: right;\n",
       "    }\n",
       "</style>\n",
       "<table border=\"1\" class=\"dataframe\">\n",
       "  <thead>\n",
       "    <tr style=\"text-align: right;\">\n",
       "      <th></th>\n",
       "      <th>ObservationDate</th>\n",
       "      <th>Province/State</th>\n",
       "      <th>Country/Region</th>\n",
       "      <th>Last Update</th>\n",
       "      <th>Confirmed</th>\n",
       "      <th>Deaths</th>\n",
       "      <th>Recovered</th>\n",
       "    </tr>\n",
       "  </thead>\n",
       "  <tbody>\n",
       "    <tr>\n",
       "      <th>0</th>\n",
       "      <td>2020-01-22</td>\n",
       "      <td>Anhui</td>\n",
       "      <td>Mainland China</td>\n",
       "      <td>1/22/2020 17:00</td>\n",
       "      <td>1.0</td>\n",
       "      <td>0.0</td>\n",
       "      <td>0.0</td>\n",
       "    </tr>\n",
       "    <tr>\n",
       "      <th>1</th>\n",
       "      <td>2020-01-22</td>\n",
       "      <td>Beijing</td>\n",
       "      <td>Mainland China</td>\n",
       "      <td>1/22/2020 17:00</td>\n",
       "      <td>14.0</td>\n",
       "      <td>0.0</td>\n",
       "      <td>0.0</td>\n",
       "    </tr>\n",
       "    <tr>\n",
       "      <th>2</th>\n",
       "      <td>2020-01-22</td>\n",
       "      <td>Chongqing</td>\n",
       "      <td>Mainland China</td>\n",
       "      <td>1/22/2020 17:00</td>\n",
       "      <td>6.0</td>\n",
       "      <td>0.0</td>\n",
       "      <td>0.0</td>\n",
       "    </tr>\n",
       "    <tr>\n",
       "      <th>3</th>\n",
       "      <td>2020-01-22</td>\n",
       "      <td>Fujian</td>\n",
       "      <td>Mainland China</td>\n",
       "      <td>1/22/2020 17:00</td>\n",
       "      <td>1.0</td>\n",
       "      <td>0.0</td>\n",
       "      <td>0.0</td>\n",
       "    </tr>\n",
       "    <tr>\n",
       "      <th>4</th>\n",
       "      <td>2020-01-22</td>\n",
       "      <td>Gansu</td>\n",
       "      <td>Mainland China</td>\n",
       "      <td>1/22/2020 17:00</td>\n",
       "      <td>0.0</td>\n",
       "      <td>0.0</td>\n",
       "      <td>0.0</td>\n",
       "    </tr>\n",
       "    <tr>\n",
       "      <th>...</th>\n",
       "      <td>...</td>\n",
       "      <td>...</td>\n",
       "      <td>...</td>\n",
       "      <td>...</td>\n",
       "      <td>...</td>\n",
       "      <td>...</td>\n",
       "      <td>...</td>\n",
       "    </tr>\n",
       "    <tr>\n",
       "      <th>20569</th>\n",
       "      <td>2020-05-01</td>\n",
       "      <td>Wyoming</td>\n",
       "      <td>US</td>\n",
       "      <td>2020-05-02 02:32:27</td>\n",
       "      <td>566.0</td>\n",
       "      <td>7.0</td>\n",
       "      <td>0.0</td>\n",
       "    </tr>\n",
       "    <tr>\n",
       "      <th>20570</th>\n",
       "      <td>2020-05-01</td>\n",
       "      <td>Xinjiang</td>\n",
       "      <td>Mainland China</td>\n",
       "      <td>2020-05-02 02:32:27</td>\n",
       "      <td>76.0</td>\n",
       "      <td>3.0</td>\n",
       "      <td>73.0</td>\n",
       "    </tr>\n",
       "    <tr>\n",
       "      <th>20571</th>\n",
       "      <td>2020-05-01</td>\n",
       "      <td>Yukon</td>\n",
       "      <td>Canada</td>\n",
       "      <td>2020-05-02 02:32:27</td>\n",
       "      <td>11.0</td>\n",
       "      <td>0.0</td>\n",
       "      <td>0.0</td>\n",
       "    </tr>\n",
       "    <tr>\n",
       "      <th>20572</th>\n",
       "      <td>2020-05-01</td>\n",
       "      <td>Yunnan</td>\n",
       "      <td>Mainland China</td>\n",
       "      <td>2020-05-02 02:32:27</td>\n",
       "      <td>185.0</td>\n",
       "      <td>2.0</td>\n",
       "      <td>181.0</td>\n",
       "    </tr>\n",
       "    <tr>\n",
       "      <th>20573</th>\n",
       "      <td>2020-05-01</td>\n",
       "      <td>Zhejiang</td>\n",
       "      <td>Mainland China</td>\n",
       "      <td>2020-05-02 02:32:27</td>\n",
       "      <td>1268.0</td>\n",
       "      <td>1.0</td>\n",
       "      <td>1265.0</td>\n",
       "    </tr>\n",
       "  </tbody>\n",
       "</table>\n",
       "<p>20574 rows × 7 columns</p>\n",
       "</div>"
      ],
      "text/plain": [
       "      ObservationDate Province/State  Country/Region          Last Update  \\\n",
       "0          2020-01-22          Anhui  Mainland China      1/22/2020 17:00   \n",
       "1          2020-01-22        Beijing  Mainland China      1/22/2020 17:00   \n",
       "2          2020-01-22      Chongqing  Mainland China      1/22/2020 17:00   \n",
       "3          2020-01-22         Fujian  Mainland China      1/22/2020 17:00   \n",
       "4          2020-01-22          Gansu  Mainland China      1/22/2020 17:00   \n",
       "...               ...            ...             ...                  ...   \n",
       "20569      2020-05-01        Wyoming              US  2020-05-02 02:32:27   \n",
       "20570      2020-05-01       Xinjiang  Mainland China  2020-05-02 02:32:27   \n",
       "20571      2020-05-01          Yukon          Canada  2020-05-02 02:32:27   \n",
       "20572      2020-05-01         Yunnan  Mainland China  2020-05-02 02:32:27   \n",
       "20573      2020-05-01       Zhejiang  Mainland China  2020-05-02 02:32:27   \n",
       "\n",
       "       Confirmed  Deaths  Recovered  \n",
       "0            1.0     0.0        0.0  \n",
       "1           14.0     0.0        0.0  \n",
       "2            6.0     0.0        0.0  \n",
       "3            1.0     0.0        0.0  \n",
       "4            0.0     0.0        0.0  \n",
       "...          ...     ...        ...  \n",
       "20569      566.0     7.0        0.0  \n",
       "20570       76.0     3.0       73.0  \n",
       "20571       11.0     0.0        0.0  \n",
       "20572      185.0     2.0      181.0  \n",
       "20573     1268.0     1.0     1265.0  \n",
       "\n",
       "[20574 rows x 7 columns]"
      ]
     },
     "execution_count": 19,
     "metadata": {},
     "output_type": "execute_result"
    }
   ],
   "source": [
    "df"
   ]
  },
  {
   "cell_type": "code",
   "execution_count": 21,
   "metadata": {},
   "outputs": [],
   "source": [
    "df_datewise = df.groupby(['ObservationDate']).agg({'Confirmed':'sum', 'Deaths':'sum', 'Recovered':'sum'})"
   ]
  },
  {
   "cell_type": "code",
   "execution_count": 48,
   "metadata": {},
   "outputs": [],
   "source": [
    "df_countrywise = df.groupby(['Country/Region'])\n",
    "# .agg({'ObservationDate':, 'Confirmed':'sum', 'Deaths':'sum', 'Recovered':'sum'})"
   ]
  },
  {
   "cell_type": "code",
   "execution_count": 50,
   "metadata": {},
   "outputs": [
    {
     "data": {
      "text/plain": [
       "<pandas.core.groupby.generic.DataFrameGroupBy object at 0x0000025E9F924648>"
      ]
     },
     "execution_count": 50,
     "metadata": {},
     "output_type": "execute_result"
    }
   ],
   "source": [
    "# df.loc['India']\n",
    "# df.loc['India'].transpose().iplot(title = 'Time series confirmed cases in India', color = 'blue')\n",
    "df_countrywise"
   ]
  },
  {
   "cell_type": "code",
   "execution_count": 44,
   "metadata": {},
   "outputs": [
    {
     "data": {
      "text/html": [
       "<div>\n",
       "<style scoped>\n",
       "    .dataframe tbody tr th:only-of-type {\n",
       "        vertical-align: middle;\n",
       "    }\n",
       "\n",
       "    .dataframe tbody tr th {\n",
       "        vertical-align: top;\n",
       "    }\n",
       "\n",
       "    .dataframe thead th {\n",
       "        text-align: right;\n",
       "    }\n",
       "</style>\n",
       "<table border=\"1\" class=\"dataframe\">\n",
       "  <thead>\n",
       "    <tr style=\"text-align: right;\">\n",
       "      <th></th>\n",
       "      <th>Confirmed</th>\n",
       "      <th>Deaths</th>\n",
       "      <th>Recovered</th>\n",
       "      <th>Days</th>\n",
       "    </tr>\n",
       "    <tr>\n",
       "      <th>ObservationDate</th>\n",
       "      <th></th>\n",
       "      <th></th>\n",
       "      <th></th>\n",
       "      <th></th>\n",
       "    </tr>\n",
       "  </thead>\n",
       "  <tbody>\n",
       "    <tr>\n",
       "      <th>2020-01-22</th>\n",
       "      <td>555.0</td>\n",
       "      <td>17.0</td>\n",
       "      <td>28.0</td>\n",
       "      <td>0</td>\n",
       "    </tr>\n",
       "    <tr>\n",
       "      <th>2020-01-23</th>\n",
       "      <td>653.0</td>\n",
       "      <td>18.0</td>\n",
       "      <td>30.0</td>\n",
       "      <td>1</td>\n",
       "    </tr>\n",
       "    <tr>\n",
       "      <th>2020-01-24</th>\n",
       "      <td>941.0</td>\n",
       "      <td>26.0</td>\n",
       "      <td>36.0</td>\n",
       "      <td>2</td>\n",
       "    </tr>\n",
       "    <tr>\n",
       "      <th>2020-01-25</th>\n",
       "      <td>1438.0</td>\n",
       "      <td>42.0</td>\n",
       "      <td>39.0</td>\n",
       "      <td>3</td>\n",
       "    </tr>\n",
       "    <tr>\n",
       "      <th>2020-01-26</th>\n",
       "      <td>2118.0</td>\n",
       "      <td>56.0</td>\n",
       "      <td>52.0</td>\n",
       "      <td>4</td>\n",
       "    </tr>\n",
       "  </tbody>\n",
       "</table>\n",
       "</div>"
      ],
      "text/plain": [
       "                 Confirmed  Deaths  Recovered  Days\n",
       "ObservationDate                                    \n",
       "2020-01-22           555.0    17.0       28.0     0\n",
       "2020-01-23           653.0    18.0       30.0     1\n",
       "2020-01-24           941.0    26.0       36.0     2\n",
       "2020-01-25          1438.0    42.0       39.0     3\n",
       "2020-01-26          2118.0    56.0       52.0     4"
      ]
     },
     "execution_count": 44,
     "metadata": {},
     "output_type": "execute_result"
    }
   ],
   "source": [
    "df_datewise.head()"
   ]
  },
  {
   "cell_type": "code",
   "execution_count": 41,
   "metadata": {},
   "outputs": [
    {
     "data": {
      "text/plain": [
       "(array([0, 1, 2]), <a list of 3 Text xticklabel objects>)"
      ]
     },
     "execution_count": 41,
     "metadata": {},
     "output_type": "execute_result"
    },
    {
     "data": {
      "image/png": "[encoded data removed]",
      "text/plain": [
       "<Figure size 1080x720 with 1 Axes>"
      ]
     },
     "metadata": {},
     "output_type": "display_data"
    }
   ],
   "source": [
    "sns.set_style('darkgrid')\n",
    "plt.figure(figsize=(15,10))\n",
    "sns.barplot(x = df_countrywise.loc['India'].transpose(), y = df_countrywise['Confirmed'])\n",
    "plt.title(\"Covid19 timeseries confirmed cases in world\")\n",
    "plt.xticks(rotation = 90)"
   ]
  },
  {
   "cell_type": "code",
   "execution_count": 22,
   "metadata": {},
   "outputs": [
    {
     "data": {
      "text/html": [
       "<div>\n",
       "<style scoped>\n",
       "    .dataframe tbody tr th:only-of-type {\n",
       "        vertical-align: middle;\n",
       "    }\n",
       "\n",
       "    .dataframe tbody tr th {\n",
       "        vertical-align: top;\n",
       "    }\n",
       "\n",
       "    .dataframe thead th {\n",
       "        text-align: right;\n",
       "    }\n",
       "</style>\n",
       "<table border=\"1\" class=\"dataframe\">\n",
       "  <thead>\n",
       "    <tr style=\"text-align: right;\">\n",
       "      <th></th>\n",
       "      <th>Confirmed</th>\n",
       "      <th>Deaths</th>\n",
       "      <th>Recovered</th>\n",
       "    </tr>\n",
       "    <tr>\n",
       "      <th>ObservationDate</th>\n",
       "      <th></th>\n",
       "      <th></th>\n",
       "      <th></th>\n",
       "    </tr>\n",
       "  </thead>\n",
       "  <tbody>\n",
       "    <tr>\n",
       "      <th>2020-01-22</th>\n",
       "      <td>555.0</td>\n",
       "      <td>17.0</td>\n",
       "      <td>28.0</td>\n",
       "    </tr>\n",
       "    <tr>\n",
       "      <th>2020-01-23</th>\n",
       "      <td>653.0</td>\n",
       "      <td>18.0</td>\n",
       "      <td>30.0</td>\n",
       "    </tr>\n",
       "    <tr>\n",
       "      <th>2020-01-24</th>\n",
       "      <td>941.0</td>\n",
       "      <td>26.0</td>\n",
       "      <td>36.0</td>\n",
       "    </tr>\n",
       "    <tr>\n",
       "      <th>2020-01-25</th>\n",
       "      <td>1438.0</td>\n",
       "      <td>42.0</td>\n",
       "      <td>39.0</td>\n",
       "    </tr>\n",
       "    <tr>\n",
       "      <th>2020-01-26</th>\n",
       "      <td>2118.0</td>\n",
       "      <td>56.0</td>\n",
       "      <td>52.0</td>\n",
       "    </tr>\n",
       "  </tbody>\n",
       "</table>\n",
       "</div>"
      ],
      "text/plain": [
       "                 Confirmed  Deaths  Recovered\n",
       "ObservationDate                              \n",
       "2020-01-22           555.0    17.0       28.0\n",
       "2020-01-23           653.0    18.0       30.0\n",
       "2020-01-24           941.0    26.0       36.0\n",
       "2020-01-25          1438.0    42.0       39.0\n",
       "2020-01-26          2118.0    56.0       52.0"
      ]
     },
     "execution_count": 22,
     "metadata": {},
     "output_type": "execute_result"
    }
   ],
   "source": [
    "df_datewise.head()"
   ]
  },
  {
   "cell_type": "code",
   "execution_count": 23,
   "metadata": {},
   "outputs": [
    {
     "data": {
      "text/html": [
       "<div>\n",
       "<style scoped>\n",
       "    .dataframe tbody tr th:only-of-type {\n",
       "        vertical-align: middle;\n",
       "    }\n",
       "\n",
       "    .dataframe tbody tr th {\n",
       "        vertical-align: top;\n",
       "    }\n",
       "\n",
       "    .dataframe thead th {\n",
       "        text-align: right;\n",
       "    }\n",
       "</style>\n",
       "<table border=\"1\" class=\"dataframe\">\n",
       "  <thead>\n",
       "    <tr style=\"text-align: right;\">\n",
       "      <th></th>\n",
       "      <th>Confirmed</th>\n",
       "      <th>Deaths</th>\n",
       "      <th>Recovered</th>\n",
       "    </tr>\n",
       "    <tr>\n",
       "      <th>ObservationDate</th>\n",
       "      <th></th>\n",
       "      <th></th>\n",
       "      <th></th>\n",
       "    </tr>\n",
       "  </thead>\n",
       "  <tbody>\n",
       "    <tr>\n",
       "      <th>2020-04-27</th>\n",
       "      <td>3041764.0</td>\n",
       "      <td>211167.0</td>\n",
       "      <td>893967.0</td>\n",
       "    </tr>\n",
       "    <tr>\n",
       "      <th>2020-04-28</th>\n",
       "      <td>3116398.0</td>\n",
       "      <td>217153.0</td>\n",
       "      <td>928658.0</td>\n",
       "    </tr>\n",
       "    <tr>\n",
       "      <th>2020-04-29</th>\n",
       "      <td>3193886.0</td>\n",
       "      <td>227638.0</td>\n",
       "      <td>972719.0</td>\n",
       "    </tr>\n",
       "    <tr>\n",
       "      <th>2020-04-30</th>\n",
       "      <td>3256846.0</td>\n",
       "      <td>233388.0</td>\n",
       "      <td>1014753.0</td>\n",
       "    </tr>\n",
       "    <tr>\n",
       "      <th>2020-05-01</th>\n",
       "      <td>3343777.0</td>\n",
       "      <td>238650.0</td>\n",
       "      <td>1053327.0</td>\n",
       "    </tr>\n",
       "  </tbody>\n",
       "</table>\n",
       "</div>"
      ],
      "text/plain": [
       "                 Confirmed    Deaths  Recovered\n",
       "ObservationDate                                \n",
       "2020-04-27       3041764.0  211167.0   893967.0\n",
       "2020-04-28       3116398.0  217153.0   928658.0\n",
       "2020-04-29       3193886.0  227638.0   972719.0\n",
       "2020-04-30       3256846.0  233388.0  1014753.0\n",
       "2020-05-01       3343777.0  238650.0  1053327.0"
      ]
     },
     "execution_count": 23,
     "metadata": {},
     "output_type": "execute_result"
    }
   ],
   "source": [
    "df_datewise.tail()"
   ]
  },
  {
   "cell_type": "code",
   "execution_count": 25,
   "metadata": {
    "scrolled": true
   },
   "outputs": [
    {
     "data": {
      "text/plain": [
       "(array([  0,   1,   2,   3,   4,   5,   6,   7,   8,   9,  10,  11,  12,\n",
       "         13,  14,  15,  16,  17,  18,  19,  20,  21,  22,  23,  24,  25,\n",
       "         26,  27,  28,  29,  30,  31,  32,  33,  34,  35,  36,  37,  38,\n",
       "         39,  40,  41,  42,  43,  44,  45,  46,  47,  48,  49,  50,  51,\n",
       "         52,  53,  54,  55,  56,  57,  58,  59,  60,  61,  62,  63,  64,\n",
       "         65,  66,  67,  68,  69,  70,  71,  72,  73,  74,  75,  76,  77,\n",
       "         78,  79,  80,  81,  82,  83,  84,  85,  86,  87,  88,  89,  90,\n",
       "         91,  92,  93,  94,  95,  96,  97,  98,  99, 100]),\n",
       " <a list of 101 Text xticklabel objects>)"
      ]
     },
     "execution_count": 25,
     "metadata": {},
     "output_type": "execute_result"
    },
    {
     "data": {
      "image/png": "[encoded data removed]",
      "text/plain": [
       "<Figure size 1080x720 with 1 Axes>"
      ]
     },
     "metadata": {},
     "output_type": "display_data"
    }
   ],
   "source": [
    "sns.set_style('darkgrid')\n",
    "plt.figure(figsize=(15,10))\n",
    "sns.barplot(x = df_datewise.index.date, y = df_datewise['Confirmed'])\n",
    "plt.title(\"Covid19 timeseries confirmed cases in world\")\n",
    "plt.xticks(rotation = 90)"
   ]
  },
  {
   "cell_type": "code",
   "execution_count": null,
   "metadata": {},
   "outputs": [],
   "source": []
  },
  {
   "cell_type": "code",
   "execution_count": 28,
   "metadata": {
    "scrolled": true
   },
   "outputs": [
    {
     "data": {
      "text/plain": [
       "<function matplotlib.pyplot.show(*args, **kw)>"
      ]
     },
     "execution_count": 28,
     "metadata": {},
     "output_type": "execute_result"
    },
    {
     "data": {
      "image/png": "[encoded data removed]",
      "text/plain": [
       "<Figure size 1080x720 with 1 Axes>"
      ]
     },
     "metadata": {},
     "output_type": "display_data"
    }
   ],
   "source": [
    "sns.set_style('darkgrid')\n",
    "plt.figure(figsize=(15,10))\n",
    "activ_cases=df_datewise['Confirmed']-df_datewise['Recovered']-df_datewise['Deaths']\n",
    "sns.barplot(x = df_datewise.index.date, y = activ_cases)\n",
    "plt.title(\"Covid19 timeseries confirmed cases in world\")\n",
    "plt.xticks(rotation = 90)\n",
    "plt.show"
   ]
  },
  {
   "cell_type": "code",
   "execution_count": 30,
   "metadata": {
    "scrolled": false
   },
   "outputs": [
    {
     "data": {
      "text/plain": [
       "<function matplotlib.pyplot.show(*args, **kw)>"
      ]
     },
     "execution_count": 30,
     "metadata": {},
     "output_type": "execute_result"
    },
    {
     "data": {
      "image/png": "[encoded data removed]",
      "text/plain": [
       "<Figure size 1080x720 with 1 Axes>"
      ]
     },
     "metadata": {},
     "output_type": "display_data"
    }
   ],
   "source": [
    "sns.set_style('darkgrid')\n",
    "plt.figure(figsize=(15,10))\n",
    "sns.barplot(x = df_datewise.index.date, y = df_datewise['Confirmed']-df_datewise['Recovered']-df_datewise['Deaths'])\n",
    "plt.title(\"Covid19 timeseries confirmed cases in world\")\n",
    "plt.xticks(rotation = 90)\n",
    "plt.show"
   ]
  },
  {
   "cell_type": "markdown",
   "metadata": {},
   "source": [
    "# Predictions and forecasting"
   ]
  },
  {
   "cell_type": "markdown",
   "metadata": {},
   "source": [
    "# Linear Regression"
   ]
  },
  {
   "cell_type": "code",
   "execution_count": 39,
   "metadata": {
    "scrolled": true
   },
   "outputs": [
    {
     "data": {
      "text/html": [
       "<div>\n",
       "<style scoped>\n",
       "    .dataframe tbody tr th:only-of-type {\n",
       "        vertical-align: middle;\n",
       "    }\n",
       "\n",
       "    .dataframe tbody tr th {\n",
       "        vertical-align: top;\n",
       "    }\n",
       "\n",
       "    .dataframe thead th {\n",
       "        text-align: right;\n",
       "    }\n",
       "</style>\n",
       "<table border=\"1\" class=\"dataframe\">\n",
       "  <thead>\n",
       "    <tr style=\"text-align: right;\">\n",
       "      <th></th>\n",
       "      <th>Confirmed</th>\n",
       "      <th>Deaths</th>\n",
       "      <th>Recovered</th>\n",
       "      <th>Days</th>\n",
       "    </tr>\n",
       "    <tr>\n",
       "      <th>ObservationDate</th>\n",
       "      <th></th>\n",
       "      <th></th>\n",
       "      <th></th>\n",
       "      <th></th>\n",
       "    </tr>\n",
       "  </thead>\n",
       "  <tbody>\n",
       "    <tr>\n",
       "      <th>2020-01-22</th>\n",
       "      <td>555.0</td>\n",
       "      <td>17.0</td>\n",
       "      <td>28.0</td>\n",
       "      <td>0</td>\n",
       "    </tr>\n",
       "    <tr>\n",
       "      <th>2020-01-23</th>\n",
       "      <td>653.0</td>\n",
       "      <td>18.0</td>\n",
       "      <td>30.0</td>\n",
       "      <td>1</td>\n",
       "    </tr>\n",
       "    <tr>\n",
       "      <th>2020-01-24</th>\n",
       "      <td>941.0</td>\n",
       "      <td>26.0</td>\n",
       "      <td>36.0</td>\n",
       "      <td>2</td>\n",
       "    </tr>\n",
       "    <tr>\n",
       "      <th>2020-01-25</th>\n",
       "      <td>1438.0</td>\n",
       "      <td>42.0</td>\n",
       "      <td>39.0</td>\n",
       "      <td>3</td>\n",
       "    </tr>\n",
       "    <tr>\n",
       "      <th>2020-01-26</th>\n",
       "      <td>2118.0</td>\n",
       "      <td>56.0</td>\n",
       "      <td>52.0</td>\n",
       "      <td>4</td>\n",
       "    </tr>\n",
       "    <tr>\n",
       "      <th>...</th>\n",
       "      <td>...</td>\n",
       "      <td>...</td>\n",
       "      <td>...</td>\n",
       "      <td>...</td>\n",
       "    </tr>\n",
       "    <tr>\n",
       "      <th>2020-04-27</th>\n",
       "      <td>3041764.0</td>\n",
       "      <td>211167.0</td>\n",
       "      <td>893967.0</td>\n",
       "      <td>96</td>\n",
       "    </tr>\n",
       "    <tr>\n",
       "      <th>2020-04-28</th>\n",
       "      <td>3116398.0</td>\n",
       "      <td>217153.0</td>\n",
       "      <td>928658.0</td>\n",
       "      <td>97</td>\n",
       "    </tr>\n",
       "    <tr>\n",
       "      <th>2020-04-29</th>\n",
       "      <td>3193886.0</td>\n",
       "      <td>227638.0</td>\n",
       "      <td>972719.0</td>\n",
       "      <td>98</td>\n",
       "    </tr>\n",
       "    <tr>\n",
       "      <th>2020-04-30</th>\n",
       "      <td>3256846.0</td>\n",
       "      <td>233388.0</td>\n",
       "      <td>1014753.0</td>\n",
       "      <td>99</td>\n",
       "    </tr>\n",
       "    <tr>\n",
       "      <th>2020-05-01</th>\n",
       "      <td>3343777.0</td>\n",
       "      <td>238650.0</td>\n",
       "      <td>1053327.0</td>\n",
       "      <td>100</td>\n",
       "    </tr>\n",
       "  </tbody>\n",
       "</table>\n",
       "<p>101 rows × 4 columns</p>\n",
       "</div>"
      ],
      "text/plain": [
       "                 Confirmed    Deaths  Recovered  Days\n",
       "ObservationDate                                      \n",
       "2020-01-22           555.0      17.0       28.0     0\n",
       "2020-01-23           653.0      18.0       30.0     1\n",
       "2020-01-24           941.0      26.0       36.0     2\n",
       "2020-01-25          1438.0      42.0       39.0     3\n",
       "2020-01-26          2118.0      56.0       52.0     4\n",
       "...                    ...       ...        ...   ...\n",
       "2020-04-27       3041764.0  211167.0   893967.0    96\n",
       "2020-04-28       3116398.0  217153.0   928658.0    97\n",
       "2020-04-29       3193886.0  227638.0   972719.0    98\n",
       "2020-04-30       3256846.0  233388.0  1014753.0    99\n",
       "2020-05-01       3343777.0  238650.0  1053327.0   100\n",
       "\n",
       "[101 rows x 4 columns]"
      ]
     },
     "execution_count": 39,
     "metadata": {},
     "output_type": "execute_result"
    }
   ],
   "source": [
    "df_datewise ['Days'] = df_datewise.index - df_datewise.index[0]\n",
    "df_datewise ['Days'] = df_datewise['Days'].dt.days\n",
    "df_datewise"
   ]
  },
  {
   "cell_type": "markdown",
   "metadata": {},
   "source": [
    "# Time Series"
   ]
  },
  {
   "cell_type": "code",
   "execution_count": 84,
   "metadata": {},
   "outputs": [
    {
     "data": {
      "text/html": [
       "<div>\n",
       "<style scoped>\n",
       "    .dataframe tbody tr th:only-of-type {\n",
       "        vertical-align: middle;\n",
       "    }\n",
       "\n",
       "    .dataframe tbody tr th {\n",
       "        vertical-align: top;\n",
       "    }\n",
       "\n",
       "    .dataframe thead th {\n",
       "        text-align: right;\n",
       "    }\n",
       "</style>\n",
       "<table border=\"1\" class=\"dataframe\">\n",
       "  <thead>\n",
       "    <tr style=\"text-align: right;\">\n",
       "      <th></th>\n",
       "      <th>Confirmed</th>\n",
       "      <th>Deaths</th>\n",
       "      <th>Recovered</th>\n",
       "      <th>Days</th>\n",
       "    </tr>\n",
       "    <tr>\n",
       "      <th>ObservationDate</th>\n",
       "      <th></th>\n",
       "      <th></th>\n",
       "      <th></th>\n",
       "      <th></th>\n",
       "    </tr>\n",
       "  </thead>\n",
       "  <tbody>\n",
       "    <tr>\n",
       "      <th>2020-01-22</th>\n",
       "      <td>555.0</td>\n",
       "      <td>17.0</td>\n",
       "      <td>28.0</td>\n",
       "      <td>0</td>\n",
       "    </tr>\n",
       "    <tr>\n",
       "      <th>2020-01-23</th>\n",
       "      <td>653.0</td>\n",
       "      <td>18.0</td>\n",
       "      <td>30.0</td>\n",
       "      <td>1</td>\n",
       "    </tr>\n",
       "    <tr>\n",
       "      <th>2020-01-24</th>\n",
       "      <td>941.0</td>\n",
       "      <td>26.0</td>\n",
       "      <td>36.0</td>\n",
       "      <td>2</td>\n",
       "    </tr>\n",
       "    <tr>\n",
       "      <th>2020-01-25</th>\n",
       "      <td>1438.0</td>\n",
       "      <td>42.0</td>\n",
       "      <td>39.0</td>\n",
       "      <td>3</td>\n",
       "    </tr>\n",
       "    <tr>\n",
       "      <th>2020-01-26</th>\n",
       "      <td>2118.0</td>\n",
       "      <td>56.0</td>\n",
       "      <td>52.0</td>\n",
       "      <td>4</td>\n",
       "    </tr>\n",
       "    <tr>\n",
       "      <th>...</th>\n",
       "      <td>...</td>\n",
       "      <td>...</td>\n",
       "      <td>...</td>\n",
       "      <td>...</td>\n",
       "    </tr>\n",
       "    <tr>\n",
       "      <th>2020-04-16</th>\n",
       "      <td>2152647.0</td>\n",
       "      <td>143801.0</td>\n",
       "      <td>542107.0</td>\n",
       "      <td>85</td>\n",
       "    </tr>\n",
       "    <tr>\n",
       "      <th>2020-04-17</th>\n",
       "      <td>2240191.0</td>\n",
       "      <td>153822.0</td>\n",
       "      <td>568343.0</td>\n",
       "      <td>86</td>\n",
       "    </tr>\n",
       "    <tr>\n",
       "      <th>2020-04-18</th>\n",
       "      <td>2317759.0</td>\n",
       "      <td>159510.0</td>\n",
       "      <td>592319.0</td>\n",
       "      <td>87</td>\n",
       "    </tr>\n",
       "    <tr>\n",
       "      <th>2020-04-19</th>\n",
       "      <td>2401379.0</td>\n",
       "      <td>165044.0</td>\n",
       "      <td>623903.0</td>\n",
       "      <td>88</td>\n",
       "    </tr>\n",
       "    <tr>\n",
       "      <th>2020-04-20</th>\n",
       "      <td>2472259.0</td>\n",
       "      <td>169986.0</td>\n",
       "      <td>645738.0</td>\n",
       "      <td>89</td>\n",
       "    </tr>\n",
       "  </tbody>\n",
       "</table>\n",
       "<p>90 rows × 4 columns</p>\n",
       "</div>"
      ],
      "text/plain": [
       "                 Confirmed    Deaths  Recovered  Days\n",
       "ObservationDate                                      \n",
       "2020-01-22           555.0      17.0       28.0     0\n",
       "2020-01-23           653.0      18.0       30.0     1\n",
       "2020-01-24           941.0      26.0       36.0     2\n",
       "2020-01-25          1438.0      42.0       39.0     3\n",
       "2020-01-26          2118.0      56.0       52.0     4\n",
       "...                    ...       ...        ...   ...\n",
       "2020-04-16       2152647.0  143801.0   542107.0    85\n",
       "2020-04-17       2240191.0  153822.0   568343.0    86\n",
       "2020-04-18       2317759.0  159510.0   592319.0    87\n",
       "2020-04-19       2401379.0  165044.0   623903.0    88\n",
       "2020-04-20       2472259.0  169986.0   645738.0    89\n",
       "\n",
       "[90 rows x 4 columns]"
      ]
     },
     "execution_count": 84,
     "metadata": {},
     "output_type": "execute_result"
    }
   ],
   "source": [
    "train_ml = df_datewise.iloc[:int(df_datewise.shape[0]*0.9)]\n",
    "train_ml\n"
   ]
  },
  {
   "cell_type": "code",
   "execution_count": 88,
   "metadata": {},
   "outputs": [
    {
     "data": {
      "text/html": [
       "<div>\n",
       "<style scoped>\n",
       "    .dataframe tbody tr th:only-of-type {\n",
       "        vertical-align: middle;\n",
       "    }\n",
       "\n",
       "    .dataframe tbody tr th {\n",
       "        vertical-align: top;\n",
       "    }\n",
       "\n",
       "    .dataframe thead th {\n",
       "        text-align: right;\n",
       "    }\n",
       "</style>\n",
       "<table border=\"1\" class=\"dataframe\">\n",
       "  <thead>\n",
       "    <tr style=\"text-align: right;\">\n",
       "      <th></th>\n",
       "      <th>Confirmed</th>\n",
       "      <th>Deaths</th>\n",
       "      <th>Recovered</th>\n",
       "      <th>Days</th>\n",
       "    </tr>\n",
       "    <tr>\n",
       "      <th>ObservationDate</th>\n",
       "      <th></th>\n",
       "      <th></th>\n",
       "      <th></th>\n",
       "      <th></th>\n",
       "    </tr>\n",
       "  </thead>\n",
       "  <tbody>\n",
       "    <tr>\n",
       "      <th>2020-04-21</th>\n",
       "      <td>2549123.0</td>\n",
       "      <td>176583.0</td>\n",
       "      <td>679819.0</td>\n",
       "      <td>90</td>\n",
       "    </tr>\n",
       "    <tr>\n",
       "      <th>2020-04-22</th>\n",
       "      <td>2623960.0</td>\n",
       "      <td>183066.0</td>\n",
       "      <td>709694.0</td>\n",
       "      <td>91</td>\n",
       "    </tr>\n",
       "    <tr>\n",
       "      <th>2020-04-23</th>\n",
       "      <td>2708885.0</td>\n",
       "      <td>190858.0</td>\n",
       "      <td>738486.0</td>\n",
       "      <td>92</td>\n",
       "    </tr>\n",
       "    <tr>\n",
       "      <th>2020-04-24</th>\n",
       "      <td>2810715.0</td>\n",
       "      <td>197151.0</td>\n",
       "      <td>793420.0</td>\n",
       "      <td>93</td>\n",
       "    </tr>\n",
       "    <tr>\n",
       "      <th>2020-04-25</th>\n",
       "      <td>2896746.0</td>\n",
       "      <td>202846.0</td>\n",
       "      <td>816685.0</td>\n",
       "      <td>94</td>\n",
       "    </tr>\n",
       "    <tr>\n",
       "      <th>2020-04-26</th>\n",
       "      <td>2971475.0</td>\n",
       "      <td>206544.0</td>\n",
       "      <td>865733.0</td>\n",
       "      <td>95</td>\n",
       "    </tr>\n",
       "    <tr>\n",
       "      <th>2020-04-27</th>\n",
       "      <td>3041764.0</td>\n",
       "      <td>211167.0</td>\n",
       "      <td>893967.0</td>\n",
       "      <td>96</td>\n",
       "    </tr>\n",
       "    <tr>\n",
       "      <th>2020-04-28</th>\n",
       "      <td>3116398.0</td>\n",
       "      <td>217153.0</td>\n",
       "      <td>928658.0</td>\n",
       "      <td>97</td>\n",
       "    </tr>\n",
       "    <tr>\n",
       "      <th>2020-04-29</th>\n",
       "      <td>3193886.0</td>\n",
       "      <td>227638.0</td>\n",
       "      <td>972719.0</td>\n",
       "      <td>98</td>\n",
       "    </tr>\n",
       "    <tr>\n",
       "      <th>2020-04-30</th>\n",
       "      <td>3256846.0</td>\n",
       "      <td>233388.0</td>\n",
       "      <td>1014753.0</td>\n",
       "      <td>99</td>\n",
       "    </tr>\n",
       "    <tr>\n",
       "      <th>2020-05-01</th>\n",
       "      <td>3343777.0</td>\n",
       "      <td>238650.0</td>\n",
       "      <td>1053327.0</td>\n",
       "      <td>100</td>\n",
       "    </tr>\n",
       "  </tbody>\n",
       "</table>\n",
       "</div>"
      ],
      "text/plain": [
       "                 Confirmed    Deaths  Recovered  Days\n",
       "ObservationDate                                      \n",
       "2020-04-21       2549123.0  176583.0   679819.0    90\n",
       "2020-04-22       2623960.0  183066.0   709694.0    91\n",
       "2020-04-23       2708885.0  190858.0   738486.0    92\n",
       "2020-04-24       2810715.0  197151.0   793420.0    93\n",
       "2020-04-25       2896746.0  202846.0   816685.0    94\n",
       "2020-04-26       2971475.0  206544.0   865733.0    95\n",
       "2020-04-27       3041764.0  211167.0   893967.0    96\n",
       "2020-04-28       3116398.0  217153.0   928658.0    97\n",
       "2020-04-29       3193886.0  227638.0   972719.0    98\n",
       "2020-04-30       3256846.0  233388.0  1014753.0    99\n",
       "2020-05-01       3343777.0  238650.0  1053327.0   100"
      ]
     },
     "execution_count": 88,
     "metadata": {},
     "output_type": "execute_result"
    }
   ],
   "source": [
    "test_ml = df_datewise.iloc[int(df_datewise.shape[0]*0.9):]\n",
    "test_ml"
   ]
  },
  {
   "cell_type": "code",
   "execution_count": 89,
   "metadata": {},
   "outputs": [
    {
     "data": {
      "text/plain": [
       "(90, 4)"
      ]
     },
     "execution_count": 89,
     "metadata": {},
     "output_type": "execute_result"
    }
   ],
   "source": [
    "train_ml.shape\n"
   ]
  },
  {
   "cell_type": "code",
   "execution_count": 90,
   "metadata": {},
   "outputs": [
    {
     "data": {
      "text/plain": [
       "(11, 4)"
      ]
     },
     "execution_count": 90,
     "metadata": {},
     "output_type": "execute_result"
    }
   ],
   "source": [
    "test_ml.shape\n"
   ]
  },
  {
   "cell_type": "code",
   "execution_count": 91,
   "metadata": {},
   "outputs": [],
   "source": [
    "## ML - Linear Regression\n",
    "## sklearn package \n",
    "from sklearn.linear_model import LinearRegression\n",
    "lin_reg = LinearRegression(normalize=True)"
   ]
  },
  {
   "cell_type": "code",
   "execution_count": 96,
   "metadata": {},
   "outputs": [],
   "source": [
    "# x = np.array(train_ml['Confirmed']).reshape(-1,1)\n",
    "X = np.array(train_ml['Days']).reshape(-1,1)\n",
    "Y = np.array(train_ml['Confirmed']).reshape(-1,1)\n"
   ]
  },
  {
   "cell_type": "raw",
   "metadata": {},
   "source": [
    "X"
   ]
  },
  {
   "cell_type": "code",
   "execution_count": 95,
   "metadata": {
    "scrolled": true
   },
   "outputs": [
    {
     "data": {
      "text/plain": [
       "array([[5.550000e+02],\n",
       "       [6.530000e+02],\n",
       "       [9.410000e+02],\n",
       "       [1.438000e+03],\n",
       "       [2.118000e+03],\n",
       "       [2.927000e+03],\n",
       "       [5.578000e+03],\n",
       "       [6.165000e+03],\n",
       "       [8.235000e+03],\n",
       "       [9.925000e+03],\n",
       "       [1.203800e+04],\n",
       "       [1.678700e+04],\n",
       "       [1.988100e+04],\n",
       "       [2.389200e+04],\n",
       "       [2.763600e+04],\n",
       "       [3.081800e+04],\n",
       "       [3.439200e+04],\n",
       "       [3.712100e+04],\n",
       "       [4.015100e+04],\n",
       "       [4.276300e+04],\n",
       "       [4.480300e+04],\n",
       "       [4.522200e+04],\n",
       "       [6.037000e+04],\n",
       "       [6.688700e+04],\n",
       "       [6.903200e+04],\n",
       "       [7.122600e+04],\n",
       "       [7.326000e+04],\n",
       "       [7.513800e+04],\n",
       "       [7.564100e+04],\n",
       "       [7.619900e+04],\n",
       "       [7.684300e+04],\n",
       "       [7.859900e+04],\n",
       "       [7.898500e+04],\n",
       "       [7.957000e+04],\n",
       "       [8.041500e+04],\n",
       "       [8.139700e+04],\n",
       "       [8.275600e+04],\n",
       "       [8.412400e+04],\n",
       "       [8.601300e+04],\n",
       "       [8.837100e+04],\n",
       "       [9.030900e+04],\n",
       "       [9.284400e+04],\n",
       "       [9.512400e+04],\n",
       "       [9.788600e+04],\n",
       "       [1.018000e+05],\n",
       "       [1.058360e+05],\n",
       "       [1.098350e+05],\n",
       "       [1.135820e+05],\n",
       "       [1.185820e+05],\n",
       "       [1.258650e+05],\n",
       "       [1.283430e+05],\n",
       "       [1.451930e+05],\n",
       "       [1.560990e+05],\n",
       "       [1.674470e+05],\n",
       "       [1.815460e+05],\n",
       "       [1.971680e+05],\n",
       "       [2.149150e+05],\n",
       "       [2.427130e+05],\n",
       "       [2.721670e+05],\n",
       "       [3.045490e+05],\n",
       "       [3.371220e+05],\n",
       "       [3.782830e+05],\n",
       "       [4.179620e+05],\n",
       "       [4.675940e+05],\n",
       "       [5.295910e+05],\n",
       "       [5.932910e+05],\n",
       "       [6.606930e+05],\n",
       "       [7.201400e+05],\n",
       "       [7.823890e+05],\n",
       "       [8.574870e+05],\n",
       "       [9.326050e+05],\n",
       "       [1.013303e+06],\n",
       "       [1.095917e+06],\n",
       "       [1.197408e+06],\n",
       "       [1.272115e+06],\n",
       "       [1.345101e+06],\n",
       "       [1.426096e+06],\n",
       "       [1.511104e+06],\n",
       "       [1.595350e+06],\n",
       "       [1.691719e+06],\n",
       "       [1.771514e+06],\n",
       "       [1.846680e+06],\n",
       "       [1.917320e+06],\n",
       "       [1.976192e+06],\n",
       "       [2.056055e+06],\n",
       "       [2.152647e+06],\n",
       "       [2.240191e+06],\n",
       "       [2.317759e+06],\n",
       "       [2.401379e+06],\n",
       "       [2.472259e+06]])"
      ]
     },
     "execution_count": 95,
     "metadata": {},
     "output_type": "execute_result"
    }
   ],
   "source": [
    "Y"
   ]
  },
  {
   "cell_type": "code",
   "execution_count": 97,
   "metadata": {},
   "outputs": [
    {
     "data": {
      "text/plain": [
       "LinearRegression(copy_X=True, fit_intercept=True, n_jobs=None, normalize=True)"
      ]
     },
     "execution_count": 97,
     "metadata": {},
     "output_type": "execute_result"
    }
   ],
   "source": [
    "lin_reg.fit(X,Y)"
   ]
  },
  {
   "cell_type": "code",
   "execution_count": 98,
   "metadata": {},
   "outputs": [],
   "source": [
    "## Prediction\n",
    "predicted_value = lin_reg.predict(np.array(test_ml['Days']).reshape(-1,1))"
   ]
  },
  {
   "cell_type": "code",
   "execution_count": 99,
   "metadata": {},
   "outputs": [],
   "source": [
    "predicted_value_all = lin_reg.predict(np.array(df_datewise['Days']).reshape(-1,1))"
   ]
  },
  {
   "cell_type": "code",
   "execution_count": 100,
   "metadata": {},
   "outputs": [],
   "source": [
    "## Plot the predicted vs Actual value\n"
   ]
  },
  {
   "cell_type": "code",
   "execution_count": 101,
   "metadata": {
    "scrolled": false
   },
   "outputs": [
    {
     "data": {
      "image/png": "[encoded data removed]",
      "text/plain": [
       "<Figure size 864x648 with 1 Axes>"
      ]
     },
     "metadata": {},
     "output_type": "display_data"
    }
   ],
   "source": [
    "plt.figure(figsize=(12,9))\n",
    "plt.plot(df_datewise['Confirmed'], label = 'Confirmed')\n",
    "plt.plot(df_datewise.index, predicted_value_all, linestyle = '--', color = 'red', label = 'Predicted Cases')\n",
    "plt.legend()\n",
    "plt.show()"
   ]
  },
  {
   "cell_type": "code",
   "execution_count": null,
   "metadata": {},
   "outputs": [],
   "source": [
    "lin_reg.score(Y , predicted_value)"
   ]
  },
  {
   "cell_type": "markdown",
   "metadata": {},
   "source": [
    "# FBProphet - ARIMA (Auto Regressive Integrated Moving Average)"
   ]
  },
  {
   "cell_type": "code",
   "execution_count": 102,
   "metadata": {},
   "outputs": [],
   "source": [
    "from fbprophet import Prophet"
   ]
  },
  {
   "cell_type": "code",
   "execution_count": 128,
   "metadata": {},
   "outputs": [],
   "source": [
    "prophet_model = Prophet(interval_width=0.95, weekly_seasonality=True, daily_seasonality=True)"
   ]
  },
  {
   "cell_type": "code",
   "execution_count": 129,
   "metadata": {},
   "outputs": [],
   "source": [
    "## input samples for fbprophet\n",
    "prophet_confirmed = pd.DataFrame(zip(list(df_datewise.index), list(df_datewise['Confirmed'])), columns=['ds','y'])"
   ]
  },
  {
   "cell_type": "code",
   "execution_count": 130,
   "metadata": {},
   "outputs": [
    {
     "name": "stderr",
     "output_type": "stream",
     "text": [
      "INFO:fbprophet:Disabling yearly seasonality. Run prophet with yearly_seasonality=True to override this.\n"
     ]
    },
    {
     "data": {
      "text/plain": [
       "<fbprophet.forecaster.Prophet at 0x25ea3e47088>"
      ]
     },
     "execution_count": 130,
     "metadata": {},
     "output_type": "execute_result"
    }
   ],
   "source": [
    "prophet_model.fit(prophet_confirmed)"
   ]
  },
  {
   "cell_type": "code",
   "execution_count": 131,
   "metadata": {},
   "outputs": [],
   "source": [
    "forecast_c = prophet_model.make_future_dataframe(periods=18)"
   ]
  },
  {
   "cell_type": "code",
   "execution_count": 132,
   "metadata": {},
   "outputs": [
    {
     "data": {
      "text/html": [
       "<div>\n",
       "<style scoped>\n",
       "    .dataframe tbody tr th:only-of-type {\n",
       "        vertical-align: middle;\n",
       "    }\n",
       "\n",
       "    .dataframe tbody tr th {\n",
       "        vertical-align: top;\n",
       "    }\n",
       "\n",
       "    .dataframe thead th {\n",
       "        text-align: right;\n",
       "    }\n",
       "</style>\n",
       "<table border=\"1\" class=\"dataframe\">\n",
       "  <thead>\n",
       "    <tr style=\"text-align: right;\">\n",
       "      <th></th>\n",
       "      <th>ds</th>\n",
       "    </tr>\n",
       "  </thead>\n",
       "  <tbody>\n",
       "    <tr>\n",
       "      <th>0</th>\n",
       "      <td>2020-01-22</td>\n",
       "    </tr>\n",
       "    <tr>\n",
       "      <th>1</th>\n",
       "      <td>2020-01-23</td>\n",
       "    </tr>\n",
       "    <tr>\n",
       "      <th>2</th>\n",
       "      <td>2020-01-24</td>\n",
       "    </tr>\n",
       "    <tr>\n",
       "      <th>3</th>\n",
       "      <td>2020-01-25</td>\n",
       "    </tr>\n",
       "    <tr>\n",
       "      <th>4</th>\n",
       "      <td>2020-01-26</td>\n",
       "    </tr>\n",
       "    <tr>\n",
       "      <th>...</th>\n",
       "      <td>...</td>\n",
       "    </tr>\n",
       "    <tr>\n",
       "      <th>114</th>\n",
       "      <td>2020-05-15</td>\n",
       "    </tr>\n",
       "    <tr>\n",
       "      <th>115</th>\n",
       "      <td>2020-05-16</td>\n",
       "    </tr>\n",
       "    <tr>\n",
       "      <th>116</th>\n",
       "      <td>2020-05-17</td>\n",
       "    </tr>\n",
       "    <tr>\n",
       "      <th>117</th>\n",
       "      <td>2020-05-18</td>\n",
       "    </tr>\n",
       "    <tr>\n",
       "      <th>118</th>\n",
       "      <td>2020-05-19</td>\n",
       "    </tr>\n",
       "  </tbody>\n",
       "</table>\n",
       "<p>119 rows × 1 columns</p>\n",
       "</div>"
      ],
      "text/plain": [
       "            ds\n",
       "0   2020-01-22\n",
       "1   2020-01-23\n",
       "2   2020-01-24\n",
       "3   2020-01-25\n",
       "4   2020-01-26\n",
       "..         ...\n",
       "114 2020-05-15\n",
       "115 2020-05-16\n",
       "116 2020-05-17\n",
       "117 2020-05-18\n",
       "118 2020-05-19\n",
       "\n",
       "[119 rows x 1 columns]"
      ]
     },
     "execution_count": 132,
     "metadata": {},
     "output_type": "execute_result"
    }
   ],
   "source": [
    "forecast_c"
   ]
  },
  {
   "cell_type": "code",
   "execution_count": 133,
   "metadata": {},
   "outputs": [],
   "source": [
    "confirmed_forecast = prophet_model.predict(forecast_c)"
   ]
  },
  {
   "cell_type": "code",
   "execution_count": 134,
   "metadata": {},
   "outputs": [
    {
     "data": {
      "text/html": [
       "<div>\n",
       "<style scoped>\n",
       "    .dataframe tbody tr th:only-of-type {\n",
       "        vertical-align: middle;\n",
       "    }\n",
       "\n",
       "    .dataframe tbody tr th {\n",
       "        vertical-align: top;\n",
       "    }\n",
       "\n",
       "    .dataframe thead th {\n",
       "        text-align: right;\n",
       "    }\n",
       "</style>\n",
       "<table border=\"1\" class=\"dataframe\">\n",
       "  <thead>\n",
       "    <tr style=\"text-align: right;\">\n",
       "      <th></th>\n",
       "      <th>ds</th>\n",
       "      <th>yhat</th>\n",
       "      <th>yhat_lower</th>\n",
       "      <th>yhat_upper</th>\n",
       "    </tr>\n",
       "  </thead>\n",
       "  <tbody>\n",
       "    <tr>\n",
       "      <th>0</th>\n",
       "      <td>2020-01-22</td>\n",
       "      <td>-3.895215e+03</td>\n",
       "      <td>-1.534847e+04</td>\n",
       "      <td>7.225546e+03</td>\n",
       "    </tr>\n",
       "    <tr>\n",
       "      <th>1</th>\n",
       "      <td>2020-01-23</td>\n",
       "      <td>-1.909599e+03</td>\n",
       "      <td>-1.332202e+04</td>\n",
       "      <td>9.335757e+03</td>\n",
       "    </tr>\n",
       "    <tr>\n",
       "      <th>2</th>\n",
       "      <td>2020-01-24</td>\n",
       "      <td>3.107216e+03</td>\n",
       "      <td>-7.885394e+03</td>\n",
       "      <td>1.463507e+04</td>\n",
       "    </tr>\n",
       "    <tr>\n",
       "      <th>3</th>\n",
       "      <td>2020-01-25</td>\n",
       "      <td>6.432049e+03</td>\n",
       "      <td>-4.459037e+03</td>\n",
       "      <td>1.746143e+04</td>\n",
       "    </tr>\n",
       "    <tr>\n",
       "      <th>4</th>\n",
       "      <td>2020-01-26</td>\n",
       "      <td>5.728928e+03</td>\n",
       "      <td>-4.811288e+03</td>\n",
       "      <td>1.675219e+04</td>\n",
       "    </tr>\n",
       "    <tr>\n",
       "      <th>...</th>\n",
       "      <td>...</td>\n",
       "      <td>...</td>\n",
       "      <td>...</td>\n",
       "      <td>...</td>\n",
       "    </tr>\n",
       "    <tr>\n",
       "      <th>114</th>\n",
       "      <td>2020-05-15</td>\n",
       "      <td>4.473609e+06</td>\n",
       "      <td>4.303482e+06</td>\n",
       "      <td>4.635495e+06</td>\n",
       "    </tr>\n",
       "    <tr>\n",
       "      <th>115</th>\n",
       "      <td>2020-05-16</td>\n",
       "      <td>4.556230e+06</td>\n",
       "      <td>4.366162e+06</td>\n",
       "      <td>4.736295e+06</td>\n",
       "    </tr>\n",
       "    <tr>\n",
       "      <th>116</th>\n",
       "      <td>2020-05-17</td>\n",
       "      <td>4.633955e+06</td>\n",
       "      <td>4.428763e+06</td>\n",
       "      <td>4.830364e+06</td>\n",
       "    </tr>\n",
       "    <tr>\n",
       "      <th>117</th>\n",
       "      <td>2020-05-18</td>\n",
       "      <td>4.709884e+06</td>\n",
       "      <td>4.480110e+06</td>\n",
       "      <td>4.930118e+06</td>\n",
       "    </tr>\n",
       "    <tr>\n",
       "      <th>118</th>\n",
       "      <td>2020-05-19</td>\n",
       "      <td>4.786858e+06</td>\n",
       "      <td>4.540919e+06</td>\n",
       "      <td>5.022906e+06</td>\n",
       "    </tr>\n",
       "  </tbody>\n",
       "</table>\n",
       "<p>119 rows × 4 columns</p>\n",
       "</div>"
      ],
      "text/plain": [
       "            ds          yhat    yhat_lower    yhat_upper\n",
       "0   2020-01-22 -3.895215e+03 -1.534847e+04  7.225546e+03\n",
       "1   2020-01-23 -1.909599e+03 -1.332202e+04  9.335757e+03\n",
       "2   2020-01-24  3.107216e+03 -7.885394e+03  1.463507e+04\n",
       "3   2020-01-25  6.432049e+03 -4.459037e+03  1.746143e+04\n",
       "4   2020-01-26  5.728928e+03 -4.811288e+03  1.675219e+04\n",
       "..         ...           ...           ...           ...\n",
       "114 2020-05-15  4.473609e+06  4.303482e+06  4.635495e+06\n",
       "115 2020-05-16  4.556230e+06  4.366162e+06  4.736295e+06\n",
       "116 2020-05-17  4.633955e+06  4.428763e+06  4.830364e+06\n",
       "117 2020-05-18  4.709884e+06  4.480110e+06  4.930118e+06\n",
       "118 2020-05-19  4.786858e+06  4.540919e+06  5.022906e+06\n",
       "\n",
       "[119 rows x 4 columns]"
      ]
     },
     "execution_count": 134,
     "metadata": {},
     "output_type": "execute_result"
    }
   ],
   "source": [
    "confirmed_forecast[['ds', 'yhat', 'yhat_lower', 'yhat_upper']]"
   ]
  },
  {
   "cell_type": "code",
   "execution_count": 136,
   "metadata": {},
   "outputs": [
    {
     "name": "stdout",
     "output_type": "stream",
     "text": [
      "Root mean squared error for prophet model: 5446.2939732983705\n"
     ]
    }
   ],
   "source": [
    "from sklearn.metrics import mean_squared_error\n",
    "np.sqrt(mean_squared_error(df_datewise['Confirmed'],confirmed_forecast['yhat'].head(df_datewise.shape[0])))\n",
    "print(\"Root mean squared error for prophet model:\", np.sqrt(mean_squared_error(df_datewise['Confirmed'],confirmed_forecast['yhat'].head(df_datewise.shape[0]))))"
   ]
  },
  {
   "cell_type": "code",
   "execution_count": 137,
   "metadata": {},
   "outputs": [
    {
     "name": "stdout",
     "output_type": "stream",
     "text": [
      "Figure(720x432)\n"
     ]
    },
    {
     "data": {
      "image/png": "[encoded data removed]",
      "text/plain": [
       "<Figure size 720x432 with 1 Axes>"
      ]
     },
     "metadata": {},
     "output_type": "display_data"
    }
   ],
   "source": [
    "print(prophet_model.plot(confirmed_forecast))"
   ]
  },
  {
   "cell_type": "markdown",
   "metadata": {},
   "source": [
    "## LSTM - RNN (Recurrent Neural Network)"
   ]
  },
  {
   "cell_type": "code",
   "execution_count": 141,
   "metadata": {},
   "outputs": [],
   "source": [
    "from keras.models import Sequential\n",
    "## LSTM - Part of RNN\n",
    "from keras.layers import LSTM, Dense\n",
    "from keras.layers import Dropout\n",
    "from sklearn.preprocessing import MinMaxScaler\n",
    "from tensorflow.keras.preprocessing.sequence import TimeseriesGenerator"
   ]
  },
  {
   "cell_type": "code",
   "execution_count": 142,
   "metadata": {},
   "outputs": [
    {
     "data": {
      "text/html": [
       "<div>\n",
       "<style scoped>\n",
       "    .dataframe tbody tr th:only-of-type {\n",
       "        vertical-align: middle;\n",
       "    }\n",
       "\n",
       "    .dataframe tbody tr th {\n",
       "        vertical-align: top;\n",
       "    }\n",
       "\n",
       "    .dataframe thead th {\n",
       "        text-align: right;\n",
       "    }\n",
       "</style>\n",
       "<table border=\"1\" class=\"dataframe\">\n",
       "  <thead>\n",
       "    <tr style=\"text-align: right;\">\n",
       "      <th></th>\n",
       "      <th>ObservationDate</th>\n",
       "      <th>Province/State</th>\n",
       "      <th>Country/Region</th>\n",
       "      <th>Last Update</th>\n",
       "      <th>Confirmed</th>\n",
       "      <th>Deaths</th>\n",
       "      <th>Recovered</th>\n",
       "    </tr>\n",
       "  </thead>\n",
       "  <tbody>\n",
       "    <tr>\n",
       "      <th>0</th>\n",
       "      <td>2020-01-22</td>\n",
       "      <td>Anhui</td>\n",
       "      <td>Mainland China</td>\n",
       "      <td>1/22/2020 17:00</td>\n",
       "      <td>1.0</td>\n",
       "      <td>0.0</td>\n",
       "      <td>0.0</td>\n",
       "    </tr>\n",
       "    <tr>\n",
       "      <th>1</th>\n",
       "      <td>2020-01-22</td>\n",
       "      <td>Beijing</td>\n",
       "      <td>Mainland China</td>\n",
       "      <td>1/22/2020 17:00</td>\n",
       "      <td>14.0</td>\n",
       "      <td>0.0</td>\n",
       "      <td>0.0</td>\n",
       "    </tr>\n",
       "    <tr>\n",
       "      <th>2</th>\n",
       "      <td>2020-01-22</td>\n",
       "      <td>Chongqing</td>\n",
       "      <td>Mainland China</td>\n",
       "      <td>1/22/2020 17:00</td>\n",
       "      <td>6.0</td>\n",
       "      <td>0.0</td>\n",
       "      <td>0.0</td>\n",
       "    </tr>\n",
       "    <tr>\n",
       "      <th>3</th>\n",
       "      <td>2020-01-22</td>\n",
       "      <td>Fujian</td>\n",
       "      <td>Mainland China</td>\n",
       "      <td>1/22/2020 17:00</td>\n",
       "      <td>1.0</td>\n",
       "      <td>0.0</td>\n",
       "      <td>0.0</td>\n",
       "    </tr>\n",
       "    <tr>\n",
       "      <th>4</th>\n",
       "      <td>2020-01-22</td>\n",
       "      <td>Gansu</td>\n",
       "      <td>Mainland China</td>\n",
       "      <td>1/22/2020 17:00</td>\n",
       "      <td>0.0</td>\n",
       "      <td>0.0</td>\n",
       "      <td>0.0</td>\n",
       "    </tr>\n",
       "    <tr>\n",
       "      <th>...</th>\n",
       "      <td>...</td>\n",
       "      <td>...</td>\n",
       "      <td>...</td>\n",
       "      <td>...</td>\n",
       "      <td>...</td>\n",
       "      <td>...</td>\n",
       "      <td>...</td>\n",
       "    </tr>\n",
       "    <tr>\n",
       "      <th>20569</th>\n",
       "      <td>2020-05-01</td>\n",
       "      <td>Wyoming</td>\n",
       "      <td>US</td>\n",
       "      <td>2020-05-02 02:32:27</td>\n",
       "      <td>566.0</td>\n",
       "      <td>7.0</td>\n",
       "      <td>0.0</td>\n",
       "    </tr>\n",
       "    <tr>\n",
       "      <th>20570</th>\n",
       "      <td>2020-05-01</td>\n",
       "      <td>Xinjiang</td>\n",
       "      <td>Mainland China</td>\n",
       "      <td>2020-05-02 02:32:27</td>\n",
       "      <td>76.0</td>\n",
       "      <td>3.0</td>\n",
       "      <td>73.0</td>\n",
       "    </tr>\n",
       "    <tr>\n",
       "      <th>20571</th>\n",
       "      <td>2020-05-01</td>\n",
       "      <td>Yukon</td>\n",
       "      <td>Canada</td>\n",
       "      <td>2020-05-02 02:32:27</td>\n",
       "      <td>11.0</td>\n",
       "      <td>0.0</td>\n",
       "      <td>0.0</td>\n",
       "    </tr>\n",
       "    <tr>\n",
       "      <th>20572</th>\n",
       "      <td>2020-05-01</td>\n",
       "      <td>Yunnan</td>\n",
       "      <td>Mainland China</td>\n",
       "      <td>2020-05-02 02:32:27</td>\n",
       "      <td>185.0</td>\n",
       "      <td>2.0</td>\n",
       "      <td>181.0</td>\n",
       "    </tr>\n",
       "    <tr>\n",
       "      <th>20573</th>\n",
       "      <td>2020-05-01</td>\n",
       "      <td>Zhejiang</td>\n",
       "      <td>Mainland China</td>\n",
       "      <td>2020-05-02 02:32:27</td>\n",
       "      <td>1268.0</td>\n",
       "      <td>1.0</td>\n",
       "      <td>1265.0</td>\n",
       "    </tr>\n",
       "  </tbody>\n",
       "</table>\n",
       "<p>20574 rows × 7 columns</p>\n",
       "</div>"
      ],
      "text/plain": [
       "      ObservationDate Province/State  Country/Region          Last Update  \\\n",
       "0          2020-01-22          Anhui  Mainland China      1/22/2020 17:00   \n",
       "1          2020-01-22        Beijing  Mainland China      1/22/2020 17:00   \n",
       "2          2020-01-22      Chongqing  Mainland China      1/22/2020 17:00   \n",
       "3          2020-01-22         Fujian  Mainland China      1/22/2020 17:00   \n",
       "4          2020-01-22          Gansu  Mainland China      1/22/2020 17:00   \n",
       "...               ...            ...             ...                  ...   \n",
       "20569      2020-05-01        Wyoming              US  2020-05-02 02:32:27   \n",
       "20570      2020-05-01       Xinjiang  Mainland China  2020-05-02 02:32:27   \n",
       "20571      2020-05-01          Yukon          Canada  2020-05-02 02:32:27   \n",
       "20572      2020-05-01         Yunnan  Mainland China  2020-05-02 02:32:27   \n",
       "20573      2020-05-01       Zhejiang  Mainland China  2020-05-02 02:32:27   \n",
       "\n",
       "       Confirmed  Deaths  Recovered  \n",
       "0            1.0     0.0        0.0  \n",
       "1           14.0     0.0        0.0  \n",
       "2            6.0     0.0        0.0  \n",
       "3            1.0     0.0        0.0  \n",
       "4            0.0     0.0        0.0  \n",
       "...          ...     ...        ...  \n",
       "20569      566.0     7.0        0.0  \n",
       "20570       76.0     3.0       73.0  \n",
       "20571       11.0     0.0        0.0  \n",
       "20572      185.0     2.0      181.0  \n",
       "20573     1268.0     1.0     1265.0  \n",
       "\n",
       "[20574 rows x 7 columns]"
      ]
     },
     "execution_count": 142,
     "metadata": {},
     "output_type": "execute_result"
    }
   ],
   "source": [
    "df"
   ]
  },
  {
   "cell_type": "code",
   "execution_count": 143,
   "metadata": {},
   "outputs": [],
   "source": [
    "data = df[df['Country/Region'] == 'India']"
   ]
  },
  {
   "cell_type": "code",
   "execution_count": 144,
   "metadata": {},
   "outputs": [],
   "source": [
    "data = data.loc[:, ['ObservationDate', 'Confirmed']]"
   ]
  },
  {
   "cell_type": "code",
   "execution_count": 145,
   "metadata": {},
   "outputs": [],
   "source": [
    "data = data.groupby('ObservationDate')[['Confirmed']].max().reset_index()"
   ]
  },
  {
   "cell_type": "code",
   "execution_count": 146,
   "metadata": {},
   "outputs": [
    {
     "data": {
      "text/html": [
       "<div>\n",
       "<style scoped>\n",
       "    .dataframe tbody tr th:only-of-type {\n",
       "        vertical-align: middle;\n",
       "    }\n",
       "\n",
       "    .dataframe tbody tr th {\n",
       "        vertical-align: top;\n",
       "    }\n",
       "\n",
       "    .dataframe thead th {\n",
       "        text-align: right;\n",
       "    }\n",
       "</style>\n",
       "<table border=\"1\" class=\"dataframe\">\n",
       "  <thead>\n",
       "    <tr style=\"text-align: right;\">\n",
       "      <th></th>\n",
       "      <th>ObservationDate</th>\n",
       "      <th>Confirmed</th>\n",
       "    </tr>\n",
       "  </thead>\n",
       "  <tbody>\n",
       "    <tr>\n",
       "      <th>0</th>\n",
       "      <td>2020-01-30</td>\n",
       "      <td>1.0</td>\n",
       "    </tr>\n",
       "    <tr>\n",
       "      <th>1</th>\n",
       "      <td>2020-01-31</td>\n",
       "      <td>1.0</td>\n",
       "    </tr>\n",
       "    <tr>\n",
       "      <th>2</th>\n",
       "      <td>2020-02-01</td>\n",
       "      <td>1.0</td>\n",
       "    </tr>\n",
       "    <tr>\n",
       "      <th>3</th>\n",
       "      <td>2020-02-02</td>\n",
       "      <td>2.0</td>\n",
       "    </tr>\n",
       "    <tr>\n",
       "      <th>4</th>\n",
       "      <td>2020-02-03</td>\n",
       "      <td>3.0</td>\n",
       "    </tr>\n",
       "    <tr>\n",
       "      <th>...</th>\n",
       "      <td>...</td>\n",
       "      <td>...</td>\n",
       "    </tr>\n",
       "    <tr>\n",
       "      <th>88</th>\n",
       "      <td>2020-04-27</td>\n",
       "      <td>29451.0</td>\n",
       "    </tr>\n",
       "    <tr>\n",
       "      <th>89</th>\n",
       "      <td>2020-04-28</td>\n",
       "      <td>31324.0</td>\n",
       "    </tr>\n",
       "    <tr>\n",
       "      <th>90</th>\n",
       "      <td>2020-04-29</td>\n",
       "      <td>33062.0</td>\n",
       "    </tr>\n",
       "    <tr>\n",
       "      <th>91</th>\n",
       "      <td>2020-04-30</td>\n",
       "      <td>34863.0</td>\n",
       "    </tr>\n",
       "    <tr>\n",
       "      <th>92</th>\n",
       "      <td>2020-05-01</td>\n",
       "      <td>37257.0</td>\n",
       "    </tr>\n",
       "  </tbody>\n",
       "</table>\n",
       "<p>93 rows × 2 columns</p>\n",
       "</div>"
      ],
      "text/plain": [
       "   ObservationDate  Confirmed\n",
       "0       2020-01-30        1.0\n",
       "1       2020-01-31        1.0\n",
       "2       2020-02-01        1.0\n",
       "3       2020-02-02        2.0\n",
       "4       2020-02-03        3.0\n",
       "..             ...        ...\n",
       "88      2020-04-27    29451.0\n",
       "89      2020-04-28    31324.0\n",
       "90      2020-04-29    33062.0\n",
       "91      2020-04-30    34863.0\n",
       "92      2020-05-01    37257.0\n",
       "\n",
       "[93 rows x 2 columns]"
      ]
     },
     "execution_count": 146,
     "metadata": {},
     "output_type": "execute_result"
    }
   ],
   "source": [
    "data"
   ]
  },
  {
   "cell_type": "code",
   "execution_count": 147,
   "metadata": {},
   "outputs": [],
   "source": [
    "dataset = data.drop(\"ObservationDate\", axis = 1)"
   ]
  },
  {
   "cell_type": "code",
   "execution_count": 148,
   "metadata": {},
   "outputs": [
    {
     "data": {
      "text/html": [
       "<div>\n",
       "<style scoped>\n",
       "    .dataframe tbody tr th:only-of-type {\n",
       "        vertical-align: middle;\n",
       "    }\n",
       "\n",
       "    .dataframe tbody tr th {\n",
       "        vertical-align: top;\n",
       "    }\n",
       "\n",
       "    .dataframe thead th {\n",
       "        text-align: right;\n",
       "    }\n",
       "</style>\n",
       "<table border=\"1\" class=\"dataframe\">\n",
       "  <thead>\n",
       "    <tr style=\"text-align: right;\">\n",
       "      <th></th>\n",
       "      <th>Confirmed</th>\n",
       "    </tr>\n",
       "  </thead>\n",
       "  <tbody>\n",
       "    <tr>\n",
       "      <th>0</th>\n",
       "      <td>1.0</td>\n",
       "    </tr>\n",
       "    <tr>\n",
       "      <th>1</th>\n",
       "      <td>1.0</td>\n",
       "    </tr>\n",
       "    <tr>\n",
       "      <th>2</th>\n",
       "      <td>1.0</td>\n",
       "    </tr>\n",
       "    <tr>\n",
       "      <th>3</th>\n",
       "      <td>2.0</td>\n",
       "    </tr>\n",
       "    <tr>\n",
       "      <th>4</th>\n",
       "      <td>3.0</td>\n",
       "    </tr>\n",
       "    <tr>\n",
       "      <th>...</th>\n",
       "      <td>...</td>\n",
       "    </tr>\n",
       "    <tr>\n",
       "      <th>88</th>\n",
       "      <td>29451.0</td>\n",
       "    </tr>\n",
       "    <tr>\n",
       "      <th>89</th>\n",
       "      <td>31324.0</td>\n",
       "    </tr>\n",
       "    <tr>\n",
       "      <th>90</th>\n",
       "      <td>33062.0</td>\n",
       "    </tr>\n",
       "    <tr>\n",
       "      <th>91</th>\n",
       "      <td>34863.0</td>\n",
       "    </tr>\n",
       "    <tr>\n",
       "      <th>92</th>\n",
       "      <td>37257.0</td>\n",
       "    </tr>\n",
       "  </tbody>\n",
       "</table>\n",
       "<p>93 rows × 1 columns</p>\n",
       "</div>"
      ],
      "text/plain": [
       "    Confirmed\n",
       "0         1.0\n",
       "1         1.0\n",
       "2         1.0\n",
       "3         2.0\n",
       "4         3.0\n",
       "..        ...\n",
       "88    29451.0\n",
       "89    31324.0\n",
       "90    33062.0\n",
       "91    34863.0\n",
       "92    37257.0\n",
       "\n",
       "[93 rows x 1 columns]"
      ]
     },
     "execution_count": 148,
     "metadata": {},
     "output_type": "execute_result"
    }
   ],
   "source": [
    "dataset"
   ]
  },
  {
   "cell_type": "code",
   "execution_count": 149,
   "metadata": {},
   "outputs": [],
   "source": [
    "data = np.array(dataset).reshape(-1,1)\n",
    "train_data = dataset[:len(dataset)-5]\n",
    "# for validation take  last 5 values\n",
    "test_data = dataset[len(dataset)-5:]"
   ]
  },
  {
   "cell_type": "code",
   "execution_count": 150,
   "metadata": {},
   "outputs": [],
   "source": [
    "##MinMaxScaling for PreProcessing Data\n",
    "#scaling large samples into equal range of (0,1)\n",
    "#scaling the dataset\n",
    "scaler = MinMaxScaler()\n",
    "scaler.fit(train_data)\n",
    "scaled_train_data = scaler.transform(train_data)\n",
    "scaled_test_data = scaler.transform(test_data)"
   ]
  },
  {
   "cell_type": "code",
   "execution_count": 151,
   "metadata": {},
   "outputs": [],
   "source": [
    "n_input = 5\n",
    "n_feature = 1"
   ]
  },
  {
   "cell_type": "code",
   "execution_count": 153,
   "metadata": {},
   "outputs": [],
   "source": [
    "generator = TimeseriesGenerator(scaled_train_data, scaled_train_data, length=n_input, batch_size=10)"
   ]
  },
  {
   "cell_type": "code",
   "execution_count": 154,
   "metadata": {},
   "outputs": [
    {
     "data": {
      "text/plain": [
       "<tensorflow.python.keras.preprocessing.sequence.TimeseriesGenerator at 0x25eabdba748>"
      ]
     },
     "execution_count": 154,
     "metadata": {},
     "output_type": "execute_result"
    }
   ],
   "source": [
    "#x input value\n",
    "generator"
   ]
  },
  {
   "cell_type": "code",
   "execution_count": 155,
   "metadata": {},
   "outputs": [],
   "source": [
    "##LSTM Model\n",
    "lstm_model = Sequential()\n",
    "# layer -1\n",
    "lstm_model.add(LSTM(units = 64, return_sequences= True, input_shape = (n_input, n_feature)))\n",
    "lstm_model.add(Dropout(0.2))\n",
    "# Hidden Layer -I\n",
    "lstm_model.add(LSTM(units = 64, return_sequences= True))\n",
    "lstm_model.add(Dropout(0.2))\n",
    "# Hidden Layer -II\n",
    "lstm_model.add(LSTM(units = 64))\n",
    "lstm_model.add(Dropout(0.2))\n",
    "#Ooutput layer\n",
    "lstm_model.add(Dense(units = 1))\n",
    "\n",
    "##Optimization & Loss Function\n",
    "lstm_model.compile(optimizer = 'adam', loss='mean_squared_error')"
   ]
  },
  {
   "cell_type": "code",
   "execution_count": 156,
   "metadata": {
    "scrolled": true
   },
   "outputs": [
    {
     "name": "stdout",
     "output_type": "stream",
     "text": [
      "Model: \"sequential_1\"\n",
      "_________________________________________________________________\n",
      "Layer (type)                 Output Shape              Param #   \n",
      "=================================================================\n",
      "lstm_1 (LSTM)                (None, 5, 64)             16896     \n",
      "_________________________________________________________________\n",
      "dropout_1 (Dropout)          (None, 5, 64)             0         \n",
      "_________________________________________________________________\n",
      "lstm_2 (LSTM)                (None, 5, 64)             33024     \n",
      "_________________________________________________________________\n",
      "dropout_2 (Dropout)          (None, 5, 64)             0         \n",
      "_________________________________________________________________\n",
      "lstm_3 (LSTM)                (None, 64)                33024     \n",
      "_________________________________________________________________\n",
      "dropout_3 (Dropout)          (None, 64)                0         \n",
      "_________________________________________________________________\n",
      "dense_1 (Dense)              (None, 1)                 65        \n",
      "=================================================================\n",
      "Total params: 83,009\n",
      "Trainable params: 83,009\n",
      "Non-trainable params: 0\n",
      "_________________________________________________________________\n"
     ]
    }
   ],
   "source": [
    "lstm_model.summary()"
   ]
  },
  {
   "cell_type": "code",
   "execution_count": 157,
   "metadata": {
    "scrolled": false
   },
   "outputs": [
    {
     "name": "stdout",
     "output_type": "stream",
     "text": [
      "Epoch 1/53\n",
      "9/9 [==============================] - 5s 546ms/step - loss: 0.1269\n",
      "Epoch 2/53\n",
      "9/9 [==============================] - 0s 10ms/step - loss: 0.0920\n",
      "Epoch 3/53\n",
      "9/9 [==============================] - 0s 14ms/step - loss: 0.0689\n",
      "Epoch 4/53\n",
      "9/9 [==============================] - 0s 8ms/step - loss: 0.0484\n",
      "Epoch 5/53\n",
      "9/9 [==============================] - 0s 9ms/step - loss: 0.0206\n",
      "Epoch 6/53\n",
      "9/9 [==============================] - 0s 12ms/step - loss: 0.0070\n",
      "Epoch 7/53\n",
      "9/9 [==============================] - 0s 9ms/step - loss: 0.0167\n",
      "Epoch 8/53\n",
      "9/9 [==============================] - 0s 10ms/step - loss: 0.0086\n",
      "Epoch 9/53\n",
      "9/9 [==============================] - 0s 9ms/step - loss: 0.0033\n",
      "Epoch 10/53\n",
      "9/9 [==============================] - 0s 11ms/step - loss: 0.0165\n",
      "Epoch 11/53\n",
      "9/9 [==============================] - 0s 9ms/step - loss: 0.0150\n",
      "Epoch 12/53\n",
      "9/9 [==============================] - 0s 9ms/step - loss: 0.0093\n",
      "Epoch 13/53\n",
      "9/9 [==============================] - 0s 8ms/step - loss: 0.0040\n",
      "Epoch 14/53\n",
      "9/9 [==============================] - 0s 11ms/step - loss: 0.0027\n",
      "Epoch 15/53\n",
      "9/9 [==============================] - 0s 8ms/step - loss: 0.0047\n",
      "Epoch 16/53\n",
      "9/9 [==============================] - 0s 8ms/step - loss: 0.0025\n",
      "Epoch 17/53\n",
      "9/9 [==============================] - 0s 10ms/step - loss: 0.0034\n",
      "Epoch 18/53\n",
      "9/9 [==============================] - 0s 8ms/step - loss: 0.0052\n",
      "Epoch 19/53\n",
      "9/9 [==============================] - 0s 9ms/step - loss: 0.0046\n",
      "Epoch 20/53\n",
      "9/9 [==============================] - 0s 8ms/step - loss: 0.0022\n",
      "Epoch 21/53\n",
      "9/9 [==============================] - 0s 10ms/step - loss: 0.0017\n",
      "Epoch 22/53\n",
      "9/9 [==============================] - 0s 9ms/step - loss: 0.0021\n",
      "Epoch 23/53\n",
      "9/9 [==============================] - 0s 8ms/step - loss: 0.0042\n",
      "Epoch 24/53\n",
      "9/9 [==============================] - 0s 9ms/step - loss: 0.0047\n",
      "Epoch 25/53\n",
      "9/9 [==============================] - 0s 11ms/step - loss: 0.0026\n",
      "Epoch 26/53\n",
      "9/9 [==============================] - 0s 9ms/step - loss: 0.0019\n",
      "Epoch 27/53\n",
      "9/9 [==============================] - 0s 8ms/step - loss: 0.0017\n",
      "Epoch 28/53\n",
      "9/9 [==============================] - 0s 11ms/step - loss: 0.0013\n",
      "Epoch 29/53\n",
      "9/9 [==============================] - 0s 8ms/step - loss: 0.0030\n",
      "Epoch 30/53\n",
      "9/9 [==============================] - 0s 10ms/step - loss: 0.0038\n",
      "Epoch 31/53\n",
      "9/9 [==============================] - 0s 9ms/step - loss: 0.0017\n",
      "Epoch 32/53\n",
      "9/9 [==============================] - 0s 9ms/step - loss: 9.1494e-04\n",
      "Epoch 33/53\n",
      "9/9 [==============================] - 0s 12ms/step - loss: 0.0060\n",
      "Epoch 34/53\n",
      "9/9 [==============================] - 0s 10ms/step - loss: 0.0045\n",
      "Epoch 35/53\n",
      "9/9 [==============================] - 0s 10ms/step - loss: 0.0013\n",
      "Epoch 36/53\n",
      "9/9 [==============================] - 0s 11ms/step - loss: 9.7587e-04\n",
      "Epoch 37/53\n",
      "9/9 [==============================] - 0s 9ms/step - loss: 9.1207e-04\n",
      "Epoch 38/53\n",
      "9/9 [==============================] - 0s 9ms/step - loss: 9.5568e-04\n",
      "Epoch 39/53\n",
      "9/9 [==============================] - 0s 12ms/step - loss: 0.0013\n",
      "Epoch 40/53\n",
      "9/9 [==============================] - 0s 10ms/step - loss: 0.0016\n",
      "Epoch 41/53\n",
      "9/9 [==============================] - 0s 11ms/step - loss: 0.0012\n",
      "Epoch 42/53\n",
      "9/9 [==============================] - 0s 10ms/step - loss: 8.7705e-04\n",
      "Epoch 43/53\n",
      "9/9 [==============================] - 0s 11ms/step - loss: 0.0013\n",
      "Epoch 44/53\n",
      "9/9 [==============================] - 0s 9ms/step - loss: 0.0012\n",
      "Epoch 45/53\n",
      "9/9 [==============================] - 0s 11ms/step - loss: 0.0014\n",
      "Epoch 46/53\n",
      "9/9 [==============================] - 0s 8ms/step - loss: 0.0013\n",
      "Epoch 47/53\n",
      "9/9 [==============================] - 0s 11ms/step - loss: 9.8303e-04\n",
      "Epoch 48/53\n",
      "9/9 [==============================] - 0s 10ms/step - loss: 0.0017\n",
      "Epoch 49/53\n",
      "9/9 [==============================] - 0s 10ms/step - loss: 0.0026\n",
      "Epoch 50/53\n",
      "9/9 [==============================] - 0s 11ms/step - loss: 9.5560e-04\n",
      "Epoch 51/53\n",
      "9/9 [==============================] - 0s 10ms/step - loss: 0.0015\n",
      "Epoch 52/53\n",
      "9/9 [==============================] - 0s 9ms/step - loss: 0.0014\n",
      "Epoch 53/53\n",
      "9/9 [==============================] - 0s 8ms/step - loss: 0.0016\n"
     ]
    },
    {
     "data": {
      "text/plain": [
       "<keras.callbacks.callbacks.History at 0x25eab7d6988>"
      ]
     },
     "execution_count": 157,
     "metadata": {},
     "output_type": "execute_result"
    }
   ],
   "source": [
    "#Total iterations for training\n",
    "lstm_model.fit(generator, epochs=53)"
   ]
  },
  {
   "cell_type": "code",
   "execution_count": 158,
   "metadata": {},
   "outputs": [
    {
     "data": {
      "text/plain": [
       "{'loss': [0.07344948389291825,\n",
       "  0.05314408843012818,\n",
       "  0.04237057059913515,\n",
       "  0.04020277427576752,\n",
       "  0.01954921147595328,\n",
       "  0.00588799703653049,\n",
       "  0.009729459024446803,\n",
       "  0.008104994827327431,\n",
       "  0.0026779003316502884,\n",
       "  0.0075029974511588915,\n",
       "  0.012107068611149737,\n",
       "  0.006041447338872555,\n",
       "  0.003738678596263011,\n",
       "  0.002058258589780721,\n",
       "  0.0027078087402175248,\n",
       "  0.0023828112404212826,\n",
       "  0.002921218146480261,\n",
       "  0.0030020016066011892,\n",
       "  0.0032238995056586756,\n",
       "  0.0018290840157697606,\n",
       "  0.0017399472617179558,\n",
       "  0.0020003890757538736,\n",
       "  0.0020271064075197765,\n",
       "  0.003805073463874841,\n",
       "  0.0023954267107253245,\n",
       "  0.0014047665770112324,\n",
       "  0.0014710425709480144,\n",
       "  0.0011475892515371957,\n",
       "  0.0018339025393880185,\n",
       "  0.002320378147860209,\n",
       "  0.0013944942606556937,\n",
       "  0.0009531742463264255,\n",
       "  0.0027421730579611993,\n",
       "  0.0037184464206977985,\n",
       "  0.0011810544395751982,\n",
       "  0.0009484422661915298,\n",
       "  0.0009507209886425085,\n",
       "  0.0009516530062025694,\n",
       "  0.0009320271555586796,\n",
       "  0.001235954254232375,\n",
       "  0.0009379351505636608,\n",
       "  0.0008170250449953769,\n",
       "  0.0012726858877142083,\n",
       "  0.0011666361820226233,\n",
       "  0.0012422239810090893,\n",
       "  0.0012031127614563848,\n",
       "  0.0009567788304166352,\n",
       "  0.0010975113632795625,\n",
       "  0.0017709743045866545,\n",
       "  0.0008054521146611905,\n",
       "  0.0012774627754101474,\n",
       "  0.000923035089398176,\n",
       "  0.0011773115958098367]}"
      ]
     },
     "execution_count": 158,
     "metadata": {},
     "output_type": "execute_result"
    }
   ],
   "source": [
    "lstm_model.history.history"
   ]
  },
  {
   "cell_type": "code",
   "execution_count": null,
   "metadata": {},
   "outputs": [],
   "source": [
    "pd.DataFrame"
   ]
  },
  {
   "cell_type": "code",
   "execution_count": null,
   "metadata": {},
   "outputs": [],
   "source": [
    "lstm_model.predict"
   ]
  }
 ],
 "metadata": {
  "kernelspec": {
   "display_name": "Python 3",
   "language": "python",
   "name": "python3"
  },
  "language_info": {
   "codemirror_mode": {
    "name": "ipython",
    "version": 3
   },
   "file_extension": ".py",
   "mimetype": "text/x-python",
   "name": "python",
   "nbconvert_exporter": "python",
   "pygments_lexer": "ipython3",
   "version": "3.7.7"
  }
 },
 "nbformat": 4,
 "nbformat_minor": 4
}
