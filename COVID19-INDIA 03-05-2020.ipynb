{
 "cells": [
  {
   "cell_type": "code",
   "execution_count": 3,
   "metadata": {},
   "outputs": [
    {
     "data": {
      "text/html": [
       "        <script type=\"text/javascript\">\n",
       "        window.PlotlyConfig = {MathJaxConfig: 'local'};\n",
       "        if (window.MathJax) {MathJax.Hub.Config({SVG: {font: \"STIX-Web\"}});}\n",
       "        if (typeof require !== 'undefined') {\n",
       "        require.undef(\"plotly\");\n",
       "        requirejs.config({\n",
       "            paths: {\n",
       "                'plotly': ['https://cdn.plot.ly/plotly-latest.min']\n",
       "            }\n",
       "        });\n",
       "        require(['plotly'], function(Plotly) {\n",
       "            window._Plotly = Plotly;\n",
       "        });\n",
       "        }\n",
       "        </script>\n",
       "        "
      ]
     },
     "metadata": {},
     "output_type": "display_data"
    },
    {
     "data": {
      "text/html": [
       "        <script type=\"text/javascript\">\n",
       "        window.PlotlyConfig = {MathJaxConfig: 'local'};\n",
       "        if (window.MathJax) {MathJax.Hub.Config({SVG: {font: \"STIX-Web\"}});}\n",
       "        if (typeof require !== 'undefined') {\n",
       "        require.undef(\"plotly\");\n",
       "        requirejs.config({\n",
       "            paths: {\n",
       "                'plotly': ['https://cdn.plot.ly/plotly-latest.min']\n",
       "            }\n",
       "        });\n",
       "        require(['plotly'], function(Plotly) {\n",
       "            window._Plotly = Plotly;\n",
       "        });\n",
       "        }\n",
       "        </script>\n",
       "        "
      ]
     },
     "metadata": {},
     "output_type": "display_data"
    }
   ],
   "source": [
    "# To convert N-D array data into a data frame - collection of 2D\n",
    "import pandas as pd\n",
    "\n",
    "# numerical array mathematical operations\n",
    "import numpy as np\n",
    "\n",
    "# simple graphs - bar, pie, line plot , histogram\n",
    "import matplotlib.pyplot as plt\n",
    "\n",
    "#for distributional graph - heatmap, violinplot, count plot, density plot\n",
    "import seaborn as sns\n",
    "\n",
    "# we have online whihc is interactive and offline \n",
    "from plotly.offline import iplot, init_notebook_mode\n",
    "\n",
    "import cufflinks\n",
    "cufflinks.go_offline(connected=True)\n",
    "init_notebook_mode(connected=True)\n",
    "\n",
    "import matplotlib.pyplot as plt\n",
    "from matplotlib import ticker \n",
    "\n",
    "import folium\n",
    "# Load the dataset using url\n",
    "import requests"
   ]
  },
  {
   "cell_type": "code",
   "execution_count": 8,
   "metadata": {},
   "outputs": [],
   "source": [
    "# can use pd with _json to import data\n",
    "india_json_data = requests.get('https://raw.githubusercontent.com/ammishra08/COVID-19/master/covid_19_datasets/covid19_india/india_statewise.json').json()"
   ]
  },
  {
   "cell_type": "code",
   "execution_count": 9,
   "metadata": {
    "scrolled": true
   },
   "outputs": [
    {
     "data": {
      "text/plain": [
       "{'success': True,\n",
       " 'data': {'source': 'covid19india.org',\n",
       "  'lastRefreshed': '2020-05-03T03:30:20.698Z',\n",
       "  'total': {'confirmed': 39699,\n",
       "   'recovered': 10828,\n",
       "   'deaths': 1323,\n",
       "   'active': 27544},\n",
       "  'statewise': [{'state': 'Maharashtra',\n",
       "    'confirmed': 12296,\n",
       "    'recovered': 2000,\n",
       "    'deaths': 521,\n",
       "    'active': 9775},\n",
       "   {'state': 'Gujarat',\n",
       "    'confirmed': 5054,\n",
       "    'recovered': 896,\n",
       "    'deaths': 262,\n",
       "    'active': 3896},\n",
       "   {'state': 'Delhi',\n",
       "    'confirmed': 4122,\n",
       "    'recovered': 1256,\n",
       "    'deaths': 64,\n",
       "    'active': 2802},\n",
       "   {'state': 'Madhya Pradesh',\n",
       "    'confirmed': 2788,\n",
       "    'recovered': 622,\n",
       "    'deaths': 151,\n",
       "    'active': 2015},\n",
       "   {'state': 'Rajasthan',\n",
       "    'confirmed': 2772,\n",
       "    'recovered': 1242,\n",
       "    'deaths': 68,\n",
       "    'active': 1462},\n",
       "   {'state': 'Tamil Nadu',\n",
       "    'confirmed': 2757,\n",
       "    'recovered': 1341,\n",
       "    'deaths': 29,\n",
       "    'active': 1387},\n",
       "   {'state': 'Uttar Pradesh',\n",
       "    'confirmed': 2487,\n",
       "    'recovered': 698,\n",
       "    'deaths': 43,\n",
       "    'active': 1746},\n",
       "   {'state': 'Andhra Pradesh',\n",
       "    'confirmed': 1525,\n",
       "    'recovered': 441,\n",
       "    'deaths': 33,\n",
       "    'active': 1051},\n",
       "   {'state': 'Telangana',\n",
       "    'confirmed': 1061,\n",
       "    'recovered': 499,\n",
       "    'deaths': 29,\n",
       "    'active': 533},\n",
       "   {'state': 'West Bengal',\n",
       "    'confirmed': 795,\n",
       "    'recovered': 139,\n",
       "    'deaths': 48,\n",
       "    'active': 608},\n",
       "   {'state': 'Jammu and Kashmir',\n",
       "    'confirmed': 666,\n",
       "    'recovered': 254,\n",
       "    'deaths': 8,\n",
       "    'active': 404},\n",
       "   {'state': 'Karnataka',\n",
       "    'confirmed': 601,\n",
       "    'recovered': 271,\n",
       "    'deaths': 25,\n",
       "    'active': 304},\n",
       "   {'state': 'Kerala',\n",
       "    'confirmed': 500,\n",
       "    'recovered': 400,\n",
       "    'deaths': 4,\n",
       "    'active': 96},\n",
       "   {'state': 'Bihar',\n",
       "    'confirmed': 481,\n",
       "    'recovered': 107,\n",
       "    'deaths': 4,\n",
       "    'active': 370},\n",
       "   {'state': 'Punjab',\n",
       "    'confirmed': 772,\n",
       "    'recovered': 112,\n",
       "    'deaths': 20,\n",
       "    'active': 640},\n",
       "   {'state': 'Haryana',\n",
       "    'confirmed': 376,\n",
       "    'recovered': 242,\n",
       "    'deaths': 5,\n",
       "    'active': 129},\n",
       "   {'state': 'Odisha',\n",
       "    'confirmed': 157,\n",
       "    'recovered': 56,\n",
       "    'deaths': 1,\n",
       "    'active': 100},\n",
       "   {'state': 'Jharkhand',\n",
       "    'confirmed': 115,\n",
       "    'recovered': 22,\n",
       "    'deaths': 3,\n",
       "    'active': 90},\n",
       "   {'state': 'Chandigarh',\n",
       "    'confirmed': 94,\n",
       "    'recovered': 19,\n",
       "    'deaths': 0,\n",
       "    'active': 75},\n",
       "   {'state': 'Uttarakhand',\n",
       "    'confirmed': 59,\n",
       "    'recovered': 39,\n",
       "    'deaths': 1,\n",
       "    'active': 19},\n",
       "   {'state': 'Himachal Pradesh',\n",
       "    'confirmed': 40,\n",
       "    'recovered': 33,\n",
       "    'deaths': 2,\n",
       "    'active': 2},\n",
       "   {'state': 'Assam',\n",
       "    'confirmed': 43,\n",
       "    'recovered': 33,\n",
       "    'deaths': 1,\n",
       "    'active': 9},\n",
       "   {'state': 'Chhattisgarh',\n",
       "    'confirmed': 43,\n",
       "    'recovered': 36,\n",
       "    'deaths': 0,\n",
       "    'active': 7},\n",
       "   {'state': 'Andaman and Nicobar Islands',\n",
       "    'confirmed': 33,\n",
       "    'recovered': 26,\n",
       "    'deaths': 0,\n",
       "    'active': 7},\n",
       "   {'state': 'Ladakh',\n",
       "    'confirmed': 23,\n",
       "    'recovered': 17,\n",
       "    'deaths': 0,\n",
       "    'active': 6},\n",
       "   {'state': 'Meghalaya',\n",
       "    'confirmed': 12,\n",
       "    'recovered': 10,\n",
       "    'deaths': 1,\n",
       "    'active': 1},\n",
       "   {'state': 'Puducherry',\n",
       "    'confirmed': 12,\n",
       "    'recovered': 5,\n",
       "    'deaths': 0,\n",
       "    'active': 7},\n",
       "   {'state': 'Goa', 'confirmed': 7, 'recovered': 7, 'deaths': 0, 'active': 0},\n",
       "   {'state': 'Manipur',\n",
       "    'confirmed': 2,\n",
       "    'recovered': 2,\n",
       "    'deaths': 0,\n",
       "    'active': 0},\n",
       "   {'state': 'Tripura',\n",
       "    'confirmed': 4,\n",
       "    'recovered': 2,\n",
       "    'deaths': 0,\n",
       "    'active': 2},\n",
       "   {'state': 'Mizoram',\n",
       "    'confirmed': 1,\n",
       "    'recovered': 0,\n",
       "    'deaths': 0,\n",
       "    'active': 1},\n",
       "   {'state': 'Arunachal Pradesh',\n",
       "    'confirmed': 1,\n",
       "    'recovered': 1,\n",
       "    'deaths': 0,\n",
       "    'active': 0},\n",
       "   {'state': 'Nagaland',\n",
       "    'confirmed': 0,\n",
       "    'recovered': 0,\n",
       "    'deaths': 0,\n",
       "    'active': 0},\n",
       "   {'state': 'Dadra and Nagar Haveli',\n",
       "    'confirmed': 0,\n",
       "    'recovered': 0,\n",
       "    'deaths': 0,\n",
       "    'active': 0},\n",
       "   {'state': 'Daman and Diu',\n",
       "    'confirmed': 0,\n",
       "    'recovered': 0,\n",
       "    'deaths': 0,\n",
       "    'active': 0},\n",
       "   {'state': 'Lakshadweep',\n",
       "    'confirmed': 0,\n",
       "    'recovered': 0,\n",
       "    'deaths': 0,\n",
       "    'active': 0},\n",
       "   {'state': 'Sikkim',\n",
       "    'confirmed': 0,\n",
       "    'recovered': 0,\n",
       "    'deaths': 0,\n",
       "    'active': 0}]},\n",
       " 'lastRefreshed': '2020-05-03T03:30:20.698Z',\n",
       " 'lastOriginUpdate': '2020-05-03T03:30:20.698Z'}"
      ]
     },
     "execution_count": 9,
     "metadata": {},
     "output_type": "execute_result"
    }
   ],
   "source": [
    "india_json_data"
   ]
  },
  {
   "cell_type": "code",
   "execution_count": 10,
   "metadata": {},
   "outputs": [
    {
     "name": "stderr",
     "output_type": "stream",
     "text": [
      "C:\\ProgramData\\Anaconda3\\lib\\site-packages\\ipykernel_launcher.py:1: FutureWarning:\n",
      "\n",
      "pandas.io.json.json_normalize is deprecated, use pandas.json_normalize instead\n",
      "\n"
     ]
    }
   ],
   "source": [
    "df_india = pd.io.json.json_normalize(india_json_data['data']['statewise'])"
   ]
  },
  {
   "cell_type": "code",
   "execution_count": 11,
   "metadata": {
    "scrolled": true
   },
   "outputs": [
    {
     "data": {
      "text/html": [
       "<div>\n",
       "<style scoped>\n",
       "    .dataframe tbody tr th:only-of-type {\n",
       "        vertical-align: middle;\n",
       "    }\n",
       "\n",
       "    .dataframe tbody tr th {\n",
       "        vertical-align: top;\n",
       "    }\n",
       "\n",
       "    .dataframe thead th {\n",
       "        text-align: right;\n",
       "    }\n",
       "</style>\n",
       "<table border=\"1\" class=\"dataframe\">\n",
       "  <thead>\n",
       "    <tr style=\"text-align: right;\">\n",
       "      <th></th>\n",
       "      <th>state</th>\n",
       "      <th>confirmed</th>\n",
       "      <th>recovered</th>\n",
       "      <th>deaths</th>\n",
       "      <th>active</th>\n",
       "    </tr>\n",
       "  </thead>\n",
       "  <tbody>\n",
       "    <tr>\n",
       "      <th>0</th>\n",
       "      <td>Maharashtra</td>\n",
       "      <td>12296</td>\n",
       "      <td>2000</td>\n",
       "      <td>521</td>\n",
       "      <td>9775</td>\n",
       "    </tr>\n",
       "    <tr>\n",
       "      <th>1</th>\n",
       "      <td>Gujarat</td>\n",
       "      <td>5054</td>\n",
       "      <td>896</td>\n",
       "      <td>262</td>\n",
       "      <td>3896</td>\n",
       "    </tr>\n",
       "    <tr>\n",
       "      <th>2</th>\n",
       "      <td>Delhi</td>\n",
       "      <td>4122</td>\n",
       "      <td>1256</td>\n",
       "      <td>64</td>\n",
       "      <td>2802</td>\n",
       "    </tr>\n",
       "    <tr>\n",
       "      <th>3</th>\n",
       "      <td>Madhya Pradesh</td>\n",
       "      <td>2788</td>\n",
       "      <td>622</td>\n",
       "      <td>151</td>\n",
       "      <td>2015</td>\n",
       "    </tr>\n",
       "    <tr>\n",
       "      <th>4</th>\n",
       "      <td>Rajasthan</td>\n",
       "      <td>2772</td>\n",
       "      <td>1242</td>\n",
       "      <td>68</td>\n",
       "      <td>1462</td>\n",
       "    </tr>\n",
       "    <tr>\n",
       "      <th>5</th>\n",
       "      <td>Tamil Nadu</td>\n",
       "      <td>2757</td>\n",
       "      <td>1341</td>\n",
       "      <td>29</td>\n",
       "      <td>1387</td>\n",
       "    </tr>\n",
       "    <tr>\n",
       "      <th>6</th>\n",
       "      <td>Uttar Pradesh</td>\n",
       "      <td>2487</td>\n",
       "      <td>698</td>\n",
       "      <td>43</td>\n",
       "      <td>1746</td>\n",
       "    </tr>\n",
       "    <tr>\n",
       "      <th>7</th>\n",
       "      <td>Andhra Pradesh</td>\n",
       "      <td>1525</td>\n",
       "      <td>441</td>\n",
       "      <td>33</td>\n",
       "      <td>1051</td>\n",
       "    </tr>\n",
       "    <tr>\n",
       "      <th>8</th>\n",
       "      <td>Telangana</td>\n",
       "      <td>1061</td>\n",
       "      <td>499</td>\n",
       "      <td>29</td>\n",
       "      <td>533</td>\n",
       "    </tr>\n",
       "    <tr>\n",
       "      <th>9</th>\n",
       "      <td>West Bengal</td>\n",
       "      <td>795</td>\n",
       "      <td>139</td>\n",
       "      <td>48</td>\n",
       "      <td>608</td>\n",
       "    </tr>\n",
       "    <tr>\n",
       "      <th>10</th>\n",
       "      <td>Jammu and Kashmir</td>\n",
       "      <td>666</td>\n",
       "      <td>254</td>\n",
       "      <td>8</td>\n",
       "      <td>404</td>\n",
       "    </tr>\n",
       "    <tr>\n",
       "      <th>11</th>\n",
       "      <td>Karnataka</td>\n",
       "      <td>601</td>\n",
       "      <td>271</td>\n",
       "      <td>25</td>\n",
       "      <td>304</td>\n",
       "    </tr>\n",
       "    <tr>\n",
       "      <th>12</th>\n",
       "      <td>Kerala</td>\n",
       "      <td>500</td>\n",
       "      <td>400</td>\n",
       "      <td>4</td>\n",
       "      <td>96</td>\n",
       "    </tr>\n",
       "    <tr>\n",
       "      <th>13</th>\n",
       "      <td>Bihar</td>\n",
       "      <td>481</td>\n",
       "      <td>107</td>\n",
       "      <td>4</td>\n",
       "      <td>370</td>\n",
       "    </tr>\n",
       "    <tr>\n",
       "      <th>14</th>\n",
       "      <td>Punjab</td>\n",
       "      <td>772</td>\n",
       "      <td>112</td>\n",
       "      <td>20</td>\n",
       "      <td>640</td>\n",
       "    </tr>\n",
       "    <tr>\n",
       "      <th>15</th>\n",
       "      <td>Haryana</td>\n",
       "      <td>376</td>\n",
       "      <td>242</td>\n",
       "      <td>5</td>\n",
       "      <td>129</td>\n",
       "    </tr>\n",
       "    <tr>\n",
       "      <th>16</th>\n",
       "      <td>Odisha</td>\n",
       "      <td>157</td>\n",
       "      <td>56</td>\n",
       "      <td>1</td>\n",
       "      <td>100</td>\n",
       "    </tr>\n",
       "    <tr>\n",
       "      <th>17</th>\n",
       "      <td>Jharkhand</td>\n",
       "      <td>115</td>\n",
       "      <td>22</td>\n",
       "      <td>3</td>\n",
       "      <td>90</td>\n",
       "    </tr>\n",
       "    <tr>\n",
       "      <th>18</th>\n",
       "      <td>Chandigarh</td>\n",
       "      <td>94</td>\n",
       "      <td>19</td>\n",
       "      <td>0</td>\n",
       "      <td>75</td>\n",
       "    </tr>\n",
       "    <tr>\n",
       "      <th>19</th>\n",
       "      <td>Uttarakhand</td>\n",
       "      <td>59</td>\n",
       "      <td>39</td>\n",
       "      <td>1</td>\n",
       "      <td>19</td>\n",
       "    </tr>\n",
       "    <tr>\n",
       "      <th>20</th>\n",
       "      <td>Himachal Pradesh</td>\n",
       "      <td>40</td>\n",
       "      <td>33</td>\n",
       "      <td>2</td>\n",
       "      <td>2</td>\n",
       "    </tr>\n",
       "    <tr>\n",
       "      <th>21</th>\n",
       "      <td>Assam</td>\n",
       "      <td>43</td>\n",
       "      <td>33</td>\n",
       "      <td>1</td>\n",
       "      <td>9</td>\n",
       "    </tr>\n",
       "    <tr>\n",
       "      <th>22</th>\n",
       "      <td>Chhattisgarh</td>\n",
       "      <td>43</td>\n",
       "      <td>36</td>\n",
       "      <td>0</td>\n",
       "      <td>7</td>\n",
       "    </tr>\n",
       "    <tr>\n",
       "      <th>23</th>\n",
       "      <td>Andaman and Nicobar Islands</td>\n",
       "      <td>33</td>\n",
       "      <td>26</td>\n",
       "      <td>0</td>\n",
       "      <td>7</td>\n",
       "    </tr>\n",
       "    <tr>\n",
       "      <th>24</th>\n",
       "      <td>Ladakh</td>\n",
       "      <td>23</td>\n",
       "      <td>17</td>\n",
       "      <td>0</td>\n",
       "      <td>6</td>\n",
       "    </tr>\n",
       "    <tr>\n",
       "      <th>25</th>\n",
       "      <td>Meghalaya</td>\n",
       "      <td>12</td>\n",
       "      <td>10</td>\n",
       "      <td>1</td>\n",
       "      <td>1</td>\n",
       "    </tr>\n",
       "    <tr>\n",
       "      <th>26</th>\n",
       "      <td>Puducherry</td>\n",
       "      <td>12</td>\n",
       "      <td>5</td>\n",
       "      <td>0</td>\n",
       "      <td>7</td>\n",
       "    </tr>\n",
       "    <tr>\n",
       "      <th>27</th>\n",
       "      <td>Goa</td>\n",
       "      <td>7</td>\n",
       "      <td>7</td>\n",
       "      <td>0</td>\n",
       "      <td>0</td>\n",
       "    </tr>\n",
       "    <tr>\n",
       "      <th>28</th>\n",
       "      <td>Manipur</td>\n",
       "      <td>2</td>\n",
       "      <td>2</td>\n",
       "      <td>0</td>\n",
       "      <td>0</td>\n",
       "    </tr>\n",
       "    <tr>\n",
       "      <th>29</th>\n",
       "      <td>Tripura</td>\n",
       "      <td>4</td>\n",
       "      <td>2</td>\n",
       "      <td>0</td>\n",
       "      <td>2</td>\n",
       "    </tr>\n",
       "    <tr>\n",
       "      <th>30</th>\n",
       "      <td>Mizoram</td>\n",
       "      <td>1</td>\n",
       "      <td>0</td>\n",
       "      <td>0</td>\n",
       "      <td>1</td>\n",
       "    </tr>\n",
       "    <tr>\n",
       "      <th>31</th>\n",
       "      <td>Arunachal Pradesh</td>\n",
       "      <td>1</td>\n",
       "      <td>1</td>\n",
       "      <td>0</td>\n",
       "      <td>0</td>\n",
       "    </tr>\n",
       "    <tr>\n",
       "      <th>32</th>\n",
       "      <td>Nagaland</td>\n",
       "      <td>0</td>\n",
       "      <td>0</td>\n",
       "      <td>0</td>\n",
       "      <td>0</td>\n",
       "    </tr>\n",
       "    <tr>\n",
       "      <th>33</th>\n",
       "      <td>Dadra and Nagar Haveli</td>\n",
       "      <td>0</td>\n",
       "      <td>0</td>\n",
       "      <td>0</td>\n",
       "      <td>0</td>\n",
       "    </tr>\n",
       "    <tr>\n",
       "      <th>34</th>\n",
       "      <td>Daman and Diu</td>\n",
       "      <td>0</td>\n",
       "      <td>0</td>\n",
       "      <td>0</td>\n",
       "      <td>0</td>\n",
       "    </tr>\n",
       "    <tr>\n",
       "      <th>35</th>\n",
       "      <td>Lakshadweep</td>\n",
       "      <td>0</td>\n",
       "      <td>0</td>\n",
       "      <td>0</td>\n",
       "      <td>0</td>\n",
       "    </tr>\n",
       "    <tr>\n",
       "      <th>36</th>\n",
       "      <td>Sikkim</td>\n",
       "      <td>0</td>\n",
       "      <td>0</td>\n",
       "      <td>0</td>\n",
       "      <td>0</td>\n",
       "    </tr>\n",
       "  </tbody>\n",
       "</table>\n",
       "</div>"
      ],
      "text/plain": [
       "                          state  confirmed  recovered  deaths  active\n",
       "0                   Maharashtra      12296       2000     521    9775\n",
       "1                       Gujarat       5054        896     262    3896\n",
       "2                         Delhi       4122       1256      64    2802\n",
       "3                Madhya Pradesh       2788        622     151    2015\n",
       "4                     Rajasthan       2772       1242      68    1462\n",
       "5                    Tamil Nadu       2757       1341      29    1387\n",
       "6                 Uttar Pradesh       2487        698      43    1746\n",
       "7                Andhra Pradesh       1525        441      33    1051\n",
       "8                     Telangana       1061        499      29     533\n",
       "9                   West Bengal        795        139      48     608\n",
       "10            Jammu and Kashmir        666        254       8     404\n",
       "11                    Karnataka        601        271      25     304\n",
       "12                       Kerala        500        400       4      96\n",
       "13                        Bihar        481        107       4     370\n",
       "14                       Punjab        772        112      20     640\n",
       "15                      Haryana        376        242       5     129\n",
       "16                       Odisha        157         56       1     100\n",
       "17                    Jharkhand        115         22       3      90\n",
       "18                   Chandigarh         94         19       0      75\n",
       "19                  Uttarakhand         59         39       1      19\n",
       "20             Himachal Pradesh         40         33       2       2\n",
       "21                        Assam         43         33       1       9\n",
       "22                 Chhattisgarh         43         36       0       7\n",
       "23  Andaman and Nicobar Islands         33         26       0       7\n",
       "24                       Ladakh         23         17       0       6\n",
       "25                    Meghalaya         12         10       1       1\n",
       "26                   Puducherry         12          5       0       7\n",
       "27                          Goa          7          7       0       0\n",
       "28                      Manipur          2          2       0       0\n",
       "29                      Tripura          4          2       0       2\n",
       "30                      Mizoram          1          0       0       1\n",
       "31            Arunachal Pradesh          1          1       0       0\n",
       "32                     Nagaland          0          0       0       0\n",
       "33       Dadra and Nagar Haveli          0          0       0       0\n",
       "34                Daman and Diu          0          0       0       0\n",
       "35                  Lakshadweep          0          0       0       0\n",
       "36                       Sikkim          0          0       0       0"
      ]
     },
     "execution_count": 11,
     "metadata": {},
     "output_type": "execute_result"
    }
   ],
   "source": [
    "df_india"
   ]
  },
  {
   "cell_type": "markdown",
   "metadata": {},
   "source": [
    "# Convert state column into an index"
   ]
  },
  {
   "cell_type": "code",
   "execution_count": 12,
   "metadata": {
    "scrolled": true
   },
   "outputs": [
    {
     "data": {
      "text/html": [
       "<div>\n",
       "<style scoped>\n",
       "    .dataframe tbody tr th:only-of-type {\n",
       "        vertical-align: middle;\n",
       "    }\n",
       "\n",
       "    .dataframe tbody tr th {\n",
       "        vertical-align: top;\n",
       "    }\n",
       "\n",
       "    .dataframe thead th {\n",
       "        text-align: right;\n",
       "    }\n",
       "</style>\n",
       "<table border=\"1\" class=\"dataframe\">\n",
       "  <thead>\n",
       "    <tr style=\"text-align: right;\">\n",
       "      <th></th>\n",
       "      <th>confirmed</th>\n",
       "      <th>recovered</th>\n",
       "      <th>deaths</th>\n",
       "      <th>active</th>\n",
       "    </tr>\n",
       "    <tr>\n",
       "      <th>state</th>\n",
       "      <th></th>\n",
       "      <th></th>\n",
       "      <th></th>\n",
       "      <th></th>\n",
       "    </tr>\n",
       "  </thead>\n",
       "  <tbody>\n",
       "    <tr>\n",
       "      <th>Maharashtra</th>\n",
       "      <td>12296</td>\n",
       "      <td>2000</td>\n",
       "      <td>521</td>\n",
       "      <td>9775</td>\n",
       "    </tr>\n",
       "    <tr>\n",
       "      <th>Gujarat</th>\n",
       "      <td>5054</td>\n",
       "      <td>896</td>\n",
       "      <td>262</td>\n",
       "      <td>3896</td>\n",
       "    </tr>\n",
       "    <tr>\n",
       "      <th>Delhi</th>\n",
       "      <td>4122</td>\n",
       "      <td>1256</td>\n",
       "      <td>64</td>\n",
       "      <td>2802</td>\n",
       "    </tr>\n",
       "    <tr>\n",
       "      <th>Madhya Pradesh</th>\n",
       "      <td>2788</td>\n",
       "      <td>622</td>\n",
       "      <td>151</td>\n",
       "      <td>2015</td>\n",
       "    </tr>\n",
       "    <tr>\n",
       "      <th>Rajasthan</th>\n",
       "      <td>2772</td>\n",
       "      <td>1242</td>\n",
       "      <td>68</td>\n",
       "      <td>1462</td>\n",
       "    </tr>\n",
       "    <tr>\n",
       "      <th>Tamil Nadu</th>\n",
       "      <td>2757</td>\n",
       "      <td>1341</td>\n",
       "      <td>29</td>\n",
       "      <td>1387</td>\n",
       "    </tr>\n",
       "    <tr>\n",
       "      <th>Uttar Pradesh</th>\n",
       "      <td>2487</td>\n",
       "      <td>698</td>\n",
       "      <td>43</td>\n",
       "      <td>1746</td>\n",
       "    </tr>\n",
       "    <tr>\n",
       "      <th>Andhra Pradesh</th>\n",
       "      <td>1525</td>\n",
       "      <td>441</td>\n",
       "      <td>33</td>\n",
       "      <td>1051</td>\n",
       "    </tr>\n",
       "    <tr>\n",
       "      <th>Telangana</th>\n",
       "      <td>1061</td>\n",
       "      <td>499</td>\n",
       "      <td>29</td>\n",
       "      <td>533</td>\n",
       "    </tr>\n",
       "    <tr>\n",
       "      <th>West Bengal</th>\n",
       "      <td>795</td>\n",
       "      <td>139</td>\n",
       "      <td>48</td>\n",
       "      <td>608</td>\n",
       "    </tr>\n",
       "    <tr>\n",
       "      <th>Jammu and Kashmir</th>\n",
       "      <td>666</td>\n",
       "      <td>254</td>\n",
       "      <td>8</td>\n",
       "      <td>404</td>\n",
       "    </tr>\n",
       "    <tr>\n",
       "      <th>Karnataka</th>\n",
       "      <td>601</td>\n",
       "      <td>271</td>\n",
       "      <td>25</td>\n",
       "      <td>304</td>\n",
       "    </tr>\n",
       "    <tr>\n",
       "      <th>Kerala</th>\n",
       "      <td>500</td>\n",
       "      <td>400</td>\n",
       "      <td>4</td>\n",
       "      <td>96</td>\n",
       "    </tr>\n",
       "    <tr>\n",
       "      <th>Bihar</th>\n",
       "      <td>481</td>\n",
       "      <td>107</td>\n",
       "      <td>4</td>\n",
       "      <td>370</td>\n",
       "    </tr>\n",
       "    <tr>\n",
       "      <th>Punjab</th>\n",
       "      <td>772</td>\n",
       "      <td>112</td>\n",
       "      <td>20</td>\n",
       "      <td>640</td>\n",
       "    </tr>\n",
       "    <tr>\n",
       "      <th>Haryana</th>\n",
       "      <td>376</td>\n",
       "      <td>242</td>\n",
       "      <td>5</td>\n",
       "      <td>129</td>\n",
       "    </tr>\n",
       "    <tr>\n",
       "      <th>Odisha</th>\n",
       "      <td>157</td>\n",
       "      <td>56</td>\n",
       "      <td>1</td>\n",
       "      <td>100</td>\n",
       "    </tr>\n",
       "    <tr>\n",
       "      <th>Jharkhand</th>\n",
       "      <td>115</td>\n",
       "      <td>22</td>\n",
       "      <td>3</td>\n",
       "      <td>90</td>\n",
       "    </tr>\n",
       "    <tr>\n",
       "      <th>Chandigarh</th>\n",
       "      <td>94</td>\n",
       "      <td>19</td>\n",
       "      <td>0</td>\n",
       "      <td>75</td>\n",
       "    </tr>\n",
       "    <tr>\n",
       "      <th>Uttarakhand</th>\n",
       "      <td>59</td>\n",
       "      <td>39</td>\n",
       "      <td>1</td>\n",
       "      <td>19</td>\n",
       "    </tr>\n",
       "    <tr>\n",
       "      <th>Himachal Pradesh</th>\n",
       "      <td>40</td>\n",
       "      <td>33</td>\n",
       "      <td>2</td>\n",
       "      <td>2</td>\n",
       "    </tr>\n",
       "    <tr>\n",
       "      <th>Assam</th>\n",
       "      <td>43</td>\n",
       "      <td>33</td>\n",
       "      <td>1</td>\n",
       "      <td>9</td>\n",
       "    </tr>\n",
       "    <tr>\n",
       "      <th>Chhattisgarh</th>\n",
       "      <td>43</td>\n",
       "      <td>36</td>\n",
       "      <td>0</td>\n",
       "      <td>7</td>\n",
       "    </tr>\n",
       "    <tr>\n",
       "      <th>Andaman and Nicobar Islands</th>\n",
       "      <td>33</td>\n",
       "      <td>26</td>\n",
       "      <td>0</td>\n",
       "      <td>7</td>\n",
       "    </tr>\n",
       "    <tr>\n",
       "      <th>Ladakh</th>\n",
       "      <td>23</td>\n",
       "      <td>17</td>\n",
       "      <td>0</td>\n",
       "      <td>6</td>\n",
       "    </tr>\n",
       "    <tr>\n",
       "      <th>Meghalaya</th>\n",
       "      <td>12</td>\n",
       "      <td>10</td>\n",
       "      <td>1</td>\n",
       "      <td>1</td>\n",
       "    </tr>\n",
       "    <tr>\n",
       "      <th>Puducherry</th>\n",
       "      <td>12</td>\n",
       "      <td>5</td>\n",
       "      <td>0</td>\n",
       "      <td>7</td>\n",
       "    </tr>\n",
       "    <tr>\n",
       "      <th>Goa</th>\n",
       "      <td>7</td>\n",
       "      <td>7</td>\n",
       "      <td>0</td>\n",
       "      <td>0</td>\n",
       "    </tr>\n",
       "    <tr>\n",
       "      <th>Manipur</th>\n",
       "      <td>2</td>\n",
       "      <td>2</td>\n",
       "      <td>0</td>\n",
       "      <td>0</td>\n",
       "    </tr>\n",
       "    <tr>\n",
       "      <th>Tripura</th>\n",
       "      <td>4</td>\n",
       "      <td>2</td>\n",
       "      <td>0</td>\n",
       "      <td>2</td>\n",
       "    </tr>\n",
       "    <tr>\n",
       "      <th>Mizoram</th>\n",
       "      <td>1</td>\n",
       "      <td>0</td>\n",
       "      <td>0</td>\n",
       "      <td>1</td>\n",
       "    </tr>\n",
       "    <tr>\n",
       "      <th>Arunachal Pradesh</th>\n",
       "      <td>1</td>\n",
       "      <td>1</td>\n",
       "      <td>0</td>\n",
       "      <td>0</td>\n",
       "    </tr>\n",
       "    <tr>\n",
       "      <th>Nagaland</th>\n",
       "      <td>0</td>\n",
       "      <td>0</td>\n",
       "      <td>0</td>\n",
       "      <td>0</td>\n",
       "    </tr>\n",
       "    <tr>\n",
       "      <th>Dadra and Nagar Haveli</th>\n",
       "      <td>0</td>\n",
       "      <td>0</td>\n",
       "      <td>0</td>\n",
       "      <td>0</td>\n",
       "    </tr>\n",
       "    <tr>\n",
       "      <th>Daman and Diu</th>\n",
       "      <td>0</td>\n",
       "      <td>0</td>\n",
       "      <td>0</td>\n",
       "      <td>0</td>\n",
       "    </tr>\n",
       "    <tr>\n",
       "      <th>Lakshadweep</th>\n",
       "      <td>0</td>\n",
       "      <td>0</td>\n",
       "      <td>0</td>\n",
       "      <td>0</td>\n",
       "    </tr>\n",
       "    <tr>\n",
       "      <th>Sikkim</th>\n",
       "      <td>0</td>\n",
       "      <td>0</td>\n",
       "      <td>0</td>\n",
       "      <td>0</td>\n",
       "    </tr>\n",
       "  </tbody>\n",
       "</table>\n",
       "</div>"
      ],
      "text/plain": [
       "                             confirmed  recovered  deaths  active\n",
       "state                                                            \n",
       "Maharashtra                      12296       2000     521    9775\n",
       "Gujarat                           5054        896     262    3896\n",
       "Delhi                             4122       1256      64    2802\n",
       "Madhya Pradesh                    2788        622     151    2015\n",
       "Rajasthan                         2772       1242      68    1462\n",
       "Tamil Nadu                        2757       1341      29    1387\n",
       "Uttar Pradesh                     2487        698      43    1746\n",
       "Andhra Pradesh                    1525        441      33    1051\n",
       "Telangana                         1061        499      29     533\n",
       "West Bengal                        795        139      48     608\n",
       "Jammu and Kashmir                  666        254       8     404\n",
       "Karnataka                          601        271      25     304\n",
       "Kerala                             500        400       4      96\n",
       "Bihar                              481        107       4     370\n",
       "Punjab                             772        112      20     640\n",
       "Haryana                            376        242       5     129\n",
       "Odisha                             157         56       1     100\n",
       "Jharkhand                          115         22       3      90\n",
       "Chandigarh                          94         19       0      75\n",
       "Uttarakhand                         59         39       1      19\n",
       "Himachal Pradesh                    40         33       2       2\n",
       "Assam                               43         33       1       9\n",
       "Chhattisgarh                        43         36       0       7\n",
       "Andaman and Nicobar Islands         33         26       0       7\n",
       "Ladakh                              23         17       0       6\n",
       "Meghalaya                           12         10       1       1\n",
       "Puducherry                          12          5       0       7\n",
       "Goa                                  7          7       0       0\n",
       "Manipur                              2          2       0       0\n",
       "Tripura                              4          2       0       2\n",
       "Mizoram                              1          0       0       1\n",
       "Arunachal Pradesh                    1          1       0       0\n",
       "Nagaland                             0          0       0       0\n",
       "Dadra and Nagar Haveli               0          0       0       0\n",
       "Daman and Diu                        0          0       0       0\n",
       "Lakshadweep                          0          0       0       0\n",
       "Sikkim                               0          0       0       0"
      ]
     },
     "execution_count": 12,
     "metadata": {},
     "output_type": "execute_result"
    }
   ],
   "source": [
    "\n",
    "df_india.set_index('state', inplace=True)\n",
    "df_india"
   ]
  },
  {
   "cell_type": "code",
   "execution_count": 14,
   "metadata": {},
   "outputs": [
    {
     "data": {
      "text/plain": [
       "state\n",
       "Maharashtra                    12296\n",
       "Gujarat                         5054\n",
       "Delhi                           4122\n",
       "Madhya Pradesh                  2788\n",
       "Rajasthan                       2772\n",
       "Tamil Nadu                      2757\n",
       "Uttar Pradesh                   2487\n",
       "Andhra Pradesh                  1525\n",
       "Telangana                       1061\n",
       "West Bengal                      795\n",
       "Punjab                           772\n",
       "Jammu and Kashmir                666\n",
       "Karnataka                        601\n",
       "Kerala                           500\n",
       "Bihar                            481\n",
       "Haryana                          376\n",
       "Odisha                           157\n",
       "Jharkhand                        115\n",
       "Chandigarh                        94\n",
       "Uttarakhand                       59\n",
       "Assam                             43\n",
       "Chhattisgarh                      43\n",
       "Himachal Pradesh                  40\n",
       "Andaman and Nicobar Islands       33\n",
       "Ladakh                            23\n",
       "Meghalaya                         12\n",
       "Puducherry                        12\n",
       "Goa                                7\n",
       "Tripura                            4\n",
       "Manipur                            2\n",
       "Mizoram                            1\n",
       "Arunachal Pradesh                  1\n",
       "Dadra and Nagar Haveli             0\n",
       "Daman and Diu                      0\n",
       "Lakshadweep                        0\n",
       "Nagaland                           0\n",
       "Sikkim                             0\n",
       "Name: confirmed, dtype: int64"
      ]
     },
     "execution_count": 14,
     "metadata": {},
     "output_type": "execute_result"
    }
   ],
   "source": [
    "df_india['confirmed'].sort_values(ascending=False)"
   ]
  },
  {
   "cell_type": "code",
   "execution_count": 15,
   "metadata": {},
   "outputs": [
    {
     "data": {
      "text/html": [
       "<div>\n",
       "<style scoped>\n",
       "    .dataframe tbody tr th:only-of-type {\n",
       "        vertical-align: middle;\n",
       "    }\n",
       "\n",
       "    .dataframe tbody tr th {\n",
       "        vertical-align: top;\n",
       "    }\n",
       "\n",
       "    .dataframe thead th {\n",
       "        text-align: right;\n",
       "    }\n",
       "</style>\n",
       "<table border=\"1\" class=\"dataframe\">\n",
       "  <thead>\n",
       "    <tr style=\"text-align: right;\">\n",
       "      <th></th>\n",
       "      <th>confirmed</th>\n",
       "      <th>recovered</th>\n",
       "      <th>deaths</th>\n",
       "      <th>active</th>\n",
       "    </tr>\n",
       "  </thead>\n",
       "  <tbody>\n",
       "    <tr>\n",
       "      <th>count</th>\n",
       "      <td>37.000000</td>\n",
       "      <td>37.000000</td>\n",
       "      <td>37.000000</td>\n",
       "      <td>37.000000</td>\n",
       "    </tr>\n",
       "    <tr>\n",
       "      <th>mean</th>\n",
       "      <td>1072.945946</td>\n",
       "      <td>292.648649</td>\n",
       "      <td>35.756757</td>\n",
       "      <td>744.432432</td>\n",
       "    </tr>\n",
       "    <tr>\n",
       "      <th>std</th>\n",
       "      <td>2276.315224</td>\n",
       "      <td>479.581022</td>\n",
       "      <td>96.088329</td>\n",
       "      <td>1762.705111</td>\n",
       "    </tr>\n",
       "    <tr>\n",
       "      <th>min</th>\n",
       "      <td>0.000000</td>\n",
       "      <td>0.000000</td>\n",
       "      <td>0.000000</td>\n",
       "      <td>0.000000</td>\n",
       "    </tr>\n",
       "    <tr>\n",
       "      <th>25%</th>\n",
       "      <td>7.000000</td>\n",
       "      <td>5.000000</td>\n",
       "      <td>0.000000</td>\n",
       "      <td>1.000000</td>\n",
       "    </tr>\n",
       "    <tr>\n",
       "      <th>50%</th>\n",
       "      <td>94.000000</td>\n",
       "      <td>36.000000</td>\n",
       "      <td>1.000000</td>\n",
       "      <td>75.000000</td>\n",
       "    </tr>\n",
       "    <tr>\n",
       "      <th>75%</th>\n",
       "      <td>795.000000</td>\n",
       "      <td>400.000000</td>\n",
       "      <td>29.000000</td>\n",
       "      <td>608.000000</td>\n",
       "    </tr>\n",
       "    <tr>\n",
       "      <th>max</th>\n",
       "      <td>12296.000000</td>\n",
       "      <td>2000.000000</td>\n",
       "      <td>521.000000</td>\n",
       "      <td>9775.000000</td>\n",
       "    </tr>\n",
       "  </tbody>\n",
       "</table>\n",
       "</div>"
      ],
      "text/plain": [
       "          confirmed    recovered      deaths       active\n",
       "count     37.000000    37.000000   37.000000    37.000000\n",
       "mean    1072.945946   292.648649   35.756757   744.432432\n",
       "std     2276.315224   479.581022   96.088329  1762.705111\n",
       "min        0.000000     0.000000    0.000000     0.000000\n",
       "25%        7.000000     5.000000    0.000000     1.000000\n",
       "50%       94.000000    36.000000    1.000000    75.000000\n",
       "75%      795.000000   400.000000   29.000000   608.000000\n",
       "max    12296.000000  2000.000000  521.000000  9775.000000"
      ]
     },
     "execution_count": 15,
     "metadata": {},
     "output_type": "execute_result"
    }
   ],
   "source": [
    "df_india.describe()"
   ]
  },
  {
   "cell_type": "code",
   "execution_count": 21,
   "metadata": {
    "scrolled": true
   },
   "outputs": [
    {
     "data": {
      "image/png": "[encoded data removed]",
      "text/plain": [
       "<Figure size 1080x720 with 1 Axes>"
      ]
     },
     "metadata": {},
     "output_type": "display_data"
    }
   ],
   "source": [
    "sns.set_style('darkgrid')\n",
    "plt.figure(figsize=(15,10))\n",
    "sns.barplot(x = df_india.index, y = df_india['confirmed'])\n",
    "plt.xticks(rotation = 90)\n",
    "plt.show()"
   ]
  },
  {
   "cell_type": "markdown",
   "metadata": {},
   "source": [
    "# Bar Graph using Plotly"
   ]
  },
  {
   "cell_type": "code",
   "execution_count": 24,
   "metadata": {
    "scrolled": true
   },
   "outputs": [
    {
     "data": {
      "application/vnd.plotly.v1+json": {
       "config": {
        "plotlyServerURL": "https://plot.ly"
       },
       "data": [
        {
         "alignmentgroup": "True",
         "hovertemplate": "x=%{x}<br>confirmed=%{marker.color}<extra></extra>",
         "legendgroup": "",
         "marker": {
          "color": [
           12296,
           5054,
           4122,
           2788,
           2772,
           2757,
           2487,
           1525,
           1061,
           795,
           666,
           601,
           500,
           481,
           772,
           376,
           157,
           115,
           94,
           59,
           40,
           43,
           43,
           33,
           23,
           12,
           12,
           7,
           2,
           4,
           1,
           1,
           0,
           0,
           0,
           0,
           0
          ],
          "coloraxis": "coloraxis"
         },
         "name": "",
         "offsetgroup": "",
         "orientation": "v",
         "showlegend": false,
         "textposition": "auto",
         "type": "bar",
         "x": [
          "Maharashtra",
          "Gujarat",
          "Delhi",
          "Madhya Pradesh",
          "Rajasthan",
          "Tamil Nadu",
          "Uttar Pradesh",
          "Andhra Pradesh",
          "Telangana",
          "West Bengal",
          "Jammu and Kashmir",
          "Karnataka",
          "Kerala",
          "Bihar",
          "Punjab",
          "Haryana",
          "Odisha",
          "Jharkhand",
          "Chandigarh",
          "Uttarakhand",
          "Himachal Pradesh",
          "Assam",
          "Chhattisgarh",
          "Andaman and Nicobar Islands",
          "Ladakh",
          "Meghalaya",
          "Puducherry",
          "Goa",
          "Manipur",
          "Tripura",
          "Mizoram",
          "Arunachal Pradesh",
          "Nagaland",
          "Dadra and Nagar Haveli",
          "Daman and Diu",
          "Lakshadweep",
          "Sikkim"
         ],
         "xaxis": "x",
         "y": [
          12296,
          5054,
          4122,
          2788,
          2772,
          2757,
          2487,
          1525,
          1061,
          795,
          666,
          601,
          500,
          481,
          772,
          376,
          157,
          115,
          94,
          59,
          40,
          43,
          43,
          33,
          23,
          12,
          12,
          7,
          2,
          4,
          1,
          1,
          0,
          0,
          0,
          0,
          0
         ],
         "yaxis": "y"
        }
       ],
       "layout": {
        "barmode": "relative",
        "coloraxis": {
         "colorbar": {
          "title": {
           "text": "confirmed"
          }
         },
         "colorscale": [
          [
           0,
           "#0d0887"
          ],
          [
           0.1111111111111111,
           "#46039f"
          ],
          [
           0.2222222222222222,
           "#7201a8"
          ],
          [
           0.3333333333333333,
           "#9c179e"
          ],
          [
           0.4444444444444444,
           "#bd3786"
          ],
          [
           0.5555555555555556,
           "#d8576b"
          ],
          [
           0.6666666666666666,
           "#ed7953"
          ],
          [
           0.7777777777777778,
           "#fb9f3a"
          ],
          [
           0.8888888888888888,
           "#fdca26"
          ],
          [
           1,
           "#f0f921"
          ]
         ]
        },
        "height": 800,
        "legend": {
         "tracegroupgap": 0
        },
        "margin": {
         "t": 60
        },
        "template": {
         "data": {
          "bar": [
           {
            "error_x": {
             "color": "#2a3f5f"
            },
            "error_y": {
             "color": "#2a3f5f"
            },
            "marker": {
             "line": {
              "color": "#E5ECF6",
              "width": 0.5
             }
            },
            "type": "bar"
           }
          ],
          "barpolar": [
           {
            "marker": {
             "line": {
              "color": "#E5ECF6",
              "width": 0.5
             }
            },
            "type": "barpolar"
           }
          ],
          "carpet": [
           {
            "aaxis": {
             "endlinecolor": "#2a3f5f",
             "gridcolor": "white",
             "linecolor": "white",
             "minorgridcolor": "white",
             "startlinecolor": "#2a3f5f"
            },
            "baxis": {
             "endlinecolor": "#2a3f5f",
             "gridcolor": "white",
             "linecolor": "white",
             "minorgridcolor": "white",
             "startlinecolor": "#2a3f5f"
            },
            "type": "carpet"
           }
          ],
          "choropleth": [
           {
            "colorbar": {
             "outlinewidth": 0,
             "ticks": ""
            },
            "type": "choropleth"
           }
          ],
          "contour": [
           {
            "colorbar": {
             "outlinewidth": 0,
             "ticks": ""
            },
            "colorscale": [
             [
              0,
              "#0d0887"
             ],
             [
              0.1111111111111111,
              "#46039f"
             ],
             [
              0.2222222222222222,
              "#7201a8"
             ],
             [
              0.3333333333333333,
              "#9c179e"
             ],
             [
              0.4444444444444444,
              "#bd3786"
             ],
             [
              0.5555555555555556,
              "#d8576b"
             ],
             [
              0.6666666666666666,
              "#ed7953"
             ],
             [
              0.7777777777777778,
              "#fb9f3a"
             ],
             [
              0.8888888888888888,
              "#fdca26"
             ],
             [
              1,
              "#f0f921"
             ]
            ],
            "type": "contour"
           }
          ],
          "contourcarpet": [
           {
            "colorbar": {
             "outlinewidth": 0,
             "ticks": ""
            },
            "type": "contourcarpet"
           }
          ],
          "heatmap": [
           {
            "colorbar": {
             "outlinewidth": 0,
             "ticks": ""
            },
            "colorscale": [
             [
              0,
              "#0d0887"
             ],
             [
              0.1111111111111111,
              "#46039f"
             ],
             [
              0.2222222222222222,
              "#7201a8"
             ],
             [
              0.3333333333333333,
              "#9c179e"
             ],
             [
              0.4444444444444444,
              "#bd3786"
             ],
             [
              0.5555555555555556,
              "#d8576b"
             ],
             [
              0.6666666666666666,
              "#ed7953"
             ],
             [
              0.7777777777777778,
              "#fb9f3a"
             ],
             [
              0.8888888888888888,
              "#fdca26"
             ],
             [
              1,
              "#f0f921"
             ]
            ],
            "type": "heatmap"
           }
          ],
          "heatmapgl": [
           {
            "colorbar": {
             "outlinewidth": 0,
             "ticks": ""
            },
            "colorscale": [
             [
              0,
              "#0d0887"
             ],
             [
              0.1111111111111111,
              "#46039f"
             ],
             [
              0.2222222222222222,
              "#7201a8"
             ],
             [
              0.3333333333333333,
              "#9c179e"
             ],
             [
              0.4444444444444444,
              "#bd3786"
             ],
             [
              0.5555555555555556,
              "#d8576b"
             ],
             [
              0.6666666666666666,
              "#ed7953"
             ],
             [
              0.7777777777777778,
              "#fb9f3a"
             ],
             [
              0.8888888888888888,
              "#fdca26"
             ],
             [
              1,
              "#f0f921"
             ]
            ],
            "type": "heatmapgl"
           }
          ],
          "histogram": [
           {
            "marker": {
             "colorbar": {
              "outlinewidth": 0,
              "ticks": ""
             }
            },
            "type": "histogram"
           }
          ],
          "histogram2d": [
           {
            "colorbar": {
             "outlinewidth": 0,
             "ticks": ""
            },
            "colorscale": [
             [
              0,
              "#0d0887"
             ],
             [
              0.1111111111111111,
              "#46039f"
             ],
             [
              0.2222222222222222,
              "#7201a8"
             ],
             [
              0.3333333333333333,
              "#9c179e"
             ],
             [
              0.4444444444444444,
              "#bd3786"
             ],
             [
              0.5555555555555556,
              "#d8576b"
             ],
             [
              0.6666666666666666,
              "#ed7953"
             ],
             [
              0.7777777777777778,
              "#fb9f3a"
             ],
             [
              0.8888888888888888,
              "#fdca26"
             ],
             [
              1,
              "#f0f921"
             ]
            ],
            "type": "histogram2d"
           }
          ],
          "histogram2dcontour": [
           {
            "colorbar": {
             "outlinewidth": 0,
             "ticks": ""
            },
            "colorscale": [
             [
              0,
              "#0d0887"
             ],
             [
              0.1111111111111111,
              "#46039f"
             ],
             [
              0.2222222222222222,
              "#7201a8"
             ],
             [
              0.3333333333333333,
              "#9c179e"
             ],
             [
              0.4444444444444444,
              "#bd3786"
             ],
             [
              0.5555555555555556,
              "#d8576b"
             ],
             [
              0.6666666666666666,
              "#ed7953"
             ],
             [
              0.7777777777777778,
              "#fb9f3a"
             ],
             [
              0.8888888888888888,
              "#fdca26"
             ],
             [
              1,
              "#f0f921"
             ]
            ],
            "type": "histogram2dcontour"
           }
          ],
          "mesh3d": [
           {
            "colorbar": {
             "outlinewidth": 0,
             "ticks": ""
            },
            "type": "mesh3d"
           }
          ],
          "parcoords": [
           {
            "line": {
             "colorbar": {
              "outlinewidth": 0,
              "ticks": ""
             }
            },
            "type": "parcoords"
           }
          ],
          "pie": [
           {
            "automargin": true,
            "type": "pie"
           }
          ],
          "scatter": [
           {
            "marker": {
             "colorbar": {
              "outlinewidth": 0,
              "ticks": ""
             }
            },
            "type": "scatter"
           }
          ],
          "scatter3d": [
           {
            "line": {
             "colorbar": {
              "outlinewidth": 0,
              "ticks": ""
             }
            },
            "marker": {
             "colorbar": {
              "outlinewidth": 0,
              "ticks": ""
             }
            },
            "type": "scatter3d"
           }
          ],
          "scattercarpet": [
           {
            "marker": {
             "colorbar": {
              "outlinewidth": 0,
              "ticks": ""
             }
            },
            "type": "scattercarpet"
           }
          ],
          "scattergeo": [
           {
            "marker": {
             "colorbar": {
              "outlinewidth": 0,
              "ticks": ""
             }
            },
            "type": "scattergeo"
           }
          ],
          "scattergl": [
           {
            "marker": {
             "colorbar": {
              "outlinewidth": 0,
              "ticks": ""
             }
            },
            "type": "scattergl"
           }
          ],
          "scattermapbox": [
           {
            "marker": {
             "colorbar": {
              "outlinewidth": 0,
              "ticks": ""
             }
            },
            "type": "scattermapbox"
           }
          ],
          "scatterpolar": [
           {
            "marker": {
             "colorbar": {
              "outlinewidth": 0,
              "ticks": ""
             }
            },
            "type": "scatterpolar"
           }
          ],
          "scatterpolargl": [
           {
            "marker": {
             "colorbar": {
              "outlinewidth": 0,
              "ticks": ""
             }
            },
            "type": "scatterpolargl"
           }
          ],
          "scatterternary": [
           {
            "marker": {
             "colorbar": {
              "outlinewidth": 0,
              "ticks": ""
             }
            },
            "type": "scatterternary"
           }
          ],
          "surface": [
           {
            "colorbar": {
             "outlinewidth": 0,
             "ticks": ""
            },
            "colorscale": [
             [
              0,
              "#0d0887"
             ],
             [
              0.1111111111111111,
              "#46039f"
             ],
             [
              0.2222222222222222,
              "#7201a8"
             ],
             [
              0.3333333333333333,
              "#9c179e"
             ],
             [
              0.4444444444444444,
              "#bd3786"
             ],
             [
              0.5555555555555556,
              "#d8576b"
             ],
             [
              0.6666666666666666,
              "#ed7953"
             ],
             [
              0.7777777777777778,
              "#fb9f3a"
             ],
             [
              0.8888888888888888,
              "#fdca26"
             ],
             [
              1,
              "#f0f921"
             ]
            ],
            "type": "surface"
           }
          ],
          "table": [
           {
            "cells": {
             "fill": {
              "color": "#EBF0F8"
             },
             "line": {
              "color": "white"
             }
            },
            "header": {
             "fill": {
              "color": "#C8D4E3"
             },
             "line": {
              "color": "white"
             }
            },
            "type": "table"
           }
          ]
         },
         "layout": {
          "annotationdefaults": {
           "arrowcolor": "#2a3f5f",
           "arrowhead": 0,
           "arrowwidth": 1
          },
          "coloraxis": {
           "colorbar": {
            "outlinewidth": 0,
            "ticks": ""
           }
          },
          "colorscale": {
           "diverging": [
            [
             0,
             "#8e0152"
            ],
            [
             0.1,
             "#c51b7d"
            ],
            [
             0.2,
             "#de77ae"
            ],
            [
             0.3,
             "#f1b6da"
            ],
            [
             0.4,
             "#fde0ef"
            ],
            [
             0.5,
             "#f7f7f7"
            ],
            [
             0.6,
             "#e6f5d0"
            ],
            [
             0.7,
             "#b8e186"
            ],
            [
             0.8,
             "#7fbc41"
            ],
            [
             0.9,
             "#4d9221"
            ],
            [
             1,
             "#276419"
            ]
           ],
           "sequential": [
            [
             0,
             "#0d0887"
            ],
            [
             0.1111111111111111,
             "#46039f"
            ],
            [
             0.2222222222222222,
             "#7201a8"
            ],
            [
             0.3333333333333333,
             "#9c179e"
            ],
            [
             0.4444444444444444,
             "#bd3786"
            ],
            [
             0.5555555555555556,
             "#d8576b"
            ],
            [
             0.6666666666666666,
             "#ed7953"
            ],
            [
             0.7777777777777778,
             "#fb9f3a"
            ],
            [
             0.8888888888888888,
             "#fdca26"
            ],
            [
             1,
             "#f0f921"
            ]
           ],
           "sequentialminus": [
            [
             0,
             "#0d0887"
            ],
            [
             0.1111111111111111,
             "#46039f"
            ],
            [
             0.2222222222222222,
             "#7201a8"
            ],
            [
             0.3333333333333333,
             "#9c179e"
            ],
            [
             0.4444444444444444,
             "#bd3786"
            ],
            [
             0.5555555555555556,
             "#d8576b"
            ],
            [
             0.6666666666666666,
             "#ed7953"
            ],
            [
             0.7777777777777778,
             "#fb9f3a"
            ],
            [
             0.8888888888888888,
             "#fdca26"
            ],
            [
             1,
             "#f0f921"
            ]
           ]
          },
          "colorway": [
           "#636efa",
           "#EF553B",
           "#00cc96",
           "#ab63fa",
           "#FFA15A",
           "#19d3f3",
           "#FF6692",
           "#B6E880",
           "#FF97FF",
           "#FECB52"
          ],
          "font": {
           "color": "#2a3f5f"
          },
          "geo": {
           "bgcolor": "white",
           "lakecolor": "white",
           "landcolor": "#E5ECF6",
           "showlakes": true,
           "showland": true,
           "subunitcolor": "white"
          },
          "hoverlabel": {
           "align": "left"
          },
          "hovermode": "closest",
          "mapbox": {
           "style": "light"
          },
          "paper_bgcolor": "white",
          "plot_bgcolor": "#E5ECF6",
          "polar": {
           "angularaxis": {
            "gridcolor": "white",
            "linecolor": "white",
            "ticks": ""
           },
           "bgcolor": "#E5ECF6",
           "radialaxis": {
            "gridcolor": "white",
            "linecolor": "white",
            "ticks": ""
           }
          },
          "scene": {
           "xaxis": {
            "backgroundcolor": "#E5ECF6",
            "gridcolor": "white",
            "gridwidth": 2,
            "linecolor": "white",
            "showbackground": true,
            "ticks": "",
            "zerolinecolor": "white"
           },
           "yaxis": {
            "backgroundcolor": "#E5ECF6",
            "gridcolor": "white",
            "gridwidth": 2,
            "linecolor": "white",
            "showbackground": true,
            "ticks": "",
            "zerolinecolor": "white"
           },
           "zaxis": {
            "backgroundcolor": "#E5ECF6",
            "gridcolor": "white",
            "gridwidth": 2,
            "linecolor": "white",
            "showbackground": true,
            "ticks": "",
            "zerolinecolor": "white"
           }
          },
          "shapedefaults": {
           "line": {
            "color": "#2a3f5f"
           }
          },
          "ternary": {
           "aaxis": {
            "gridcolor": "white",
            "linecolor": "white",
            "ticks": ""
           },
           "baxis": {
            "gridcolor": "white",
            "linecolor": "white",
            "ticks": ""
           },
           "bgcolor": "#E5ECF6",
           "caxis": {
            "gridcolor": "white",
            "linecolor": "white",
            "ticks": ""
           }
          },
          "title": {
           "x": 0.05
          },
          "xaxis": {
           "automargin": true,
           "gridcolor": "white",
           "linecolor": "white",
           "ticks": "",
           "title": {
            "standoff": 15
           },
           "zerolinecolor": "white",
           "zerolinewidth": 2
          },
          "yaxis": {
           "automargin": true,
           "gridcolor": "white",
           "linecolor": "white",
           "ticks": "",
           "title": {
            "standoff": 15
           },
           "zerolinecolor": "white",
           "zerolinewidth": 2
          }
         }
        },
        "width": 1000,
        "xaxis": {
         "anchor": "y",
         "domain": [
          0,
          1
         ],
         "title": {
          "text": "x"
         }
        },
        "yaxis": {
         "anchor": "x",
         "domain": [
          0,
          1
         ],
         "title": {
          "text": "confirmed"
         }
        }
       }
      },
      "text/html": [
       "<div>\n",
       "        \n",
       "        \n",
       "            <div id=\"beb071b0-8bc8-4d6d-8b27-a65f41564555\" class=\"plotly-graph-div\" style=\"height:800px; width:1000px;\"></div>\n",
       "            <script type=\"text/javascript\">\n",
       "                require([\"plotly\"], function(Plotly) {\n",
       "                    window.PLOTLYENV=window.PLOTLYENV || {};\n",
       "                    \n",
       "                if (document.getElementById(\"beb071b0-8bc8-4d6d-8b27-a65f41564555\")) {\n",
       "                    Plotly.newPlot(\n",
       "                        'beb071b0-8bc8-4d6d-8b27-a65f41564555',\n",
       "                        [{\"alignmentgroup\": \"True\", \"hovertemplate\": \"x=%{x}<br>confirmed=%{marker.color}<extra></extra>\", \"legendgroup\": \"\", \"marker\": {\"color\": [12296, 5054, 4122, 2788, 2772, 2757, 2487, 1525, 1061, 795, 666, 601, 500, 481, 772, 376, 157, 115, 94, 59, 40, 43, 43, 33, 23, 12, 12, 7, 2, 4, 1, 1, 0, 0, 0, 0, 0], \"coloraxis\": \"coloraxis\"}, \"name\": \"\", \"offsetgroup\": \"\", \"orientation\": \"v\", \"showlegend\": false, \"textposition\": \"auto\", \"type\": \"bar\", \"x\": [\"Maharashtra\", \"Gujarat\", \"Delhi\", \"Madhya Pradesh\", \"Rajasthan\", \"Tamil Nadu\", \"Uttar Pradesh\", \"Andhra Pradesh\", \"Telangana\", \"West Bengal\", \"Jammu and Kashmir\", \"Karnataka\", \"Kerala\", \"Bihar\", \"Punjab\", \"Haryana\", \"Odisha\", \"Jharkhand\", \"Chandigarh\", \"Uttarakhand\", \"Himachal Pradesh\", \"Assam\", \"Chhattisgarh\", \"Andaman and Nicobar Islands\", \"Ladakh\", \"Meghalaya\", \"Puducherry\", \"Goa\", \"Manipur\", \"Tripura\", \"Mizoram\", \"Arunachal Pradesh\", \"Nagaland\", \"Dadra and Nagar Haveli\", \"Daman and Diu\", \"Lakshadweep\", \"Sikkim\"], \"xaxis\": \"x\", \"y\": [12296, 5054, 4122, 2788, 2772, 2757, 2487, 1525, 1061, 795, 666, 601, 500, 481, 772, 376, 157, 115, 94, 59, 40, 43, 43, 33, 23, 12, 12, 7, 2, 4, 1, 1, 0, 0, 0, 0, 0], \"yaxis\": \"y\"}],\n",
       "                        {\"barmode\": \"relative\", \"coloraxis\": {\"colorbar\": {\"title\": {\"text\": \"confirmed\"}}, \"colorscale\": [[0.0, \"#0d0887\"], [0.1111111111111111, \"#46039f\"], [0.2222222222222222, \"#7201a8\"], [0.3333333333333333, \"#9c179e\"], [0.4444444444444444, \"#bd3786\"], [0.5555555555555556, \"#d8576b\"], [0.6666666666666666, \"#ed7953\"], [0.7777777777777778, \"#fb9f3a\"], [0.8888888888888888, \"#fdca26\"], [1.0, \"#f0f921\"]]}, \"height\": 800, \"legend\": {\"tracegroupgap\": 0}, \"margin\": {\"t\": 60}, \"template\": {\"data\": {\"bar\": [{\"error_x\": {\"color\": \"#2a3f5f\"}, \"error_y\": {\"color\": \"#2a3f5f\"}, \"marker\": {\"line\": {\"color\": \"#E5ECF6\", \"width\": 0.5}}, \"type\": \"bar\"}], \"barpolar\": [{\"marker\": {\"line\": {\"color\": \"#E5ECF6\", \"width\": 0.5}}, \"type\": \"barpolar\"}], \"carpet\": [{\"aaxis\": {\"endlinecolor\": \"#2a3f5f\", \"gridcolor\": \"white\", \"linecolor\": \"white\", \"minorgridcolor\": \"white\", \"startlinecolor\": \"#2a3f5f\"}, \"baxis\": {\"endlinecolor\": \"#2a3f5f\", \"gridcolor\": \"white\", \"linecolor\": \"white\", \"minorgridcolor\": \"white\", \"startlinecolor\": \"#2a3f5f\"}, \"type\": \"carpet\"}], \"choropleth\": [{\"colorbar\": {\"outlinewidth\": 0, \"ticks\": \"\"}, \"type\": \"choropleth\"}], \"contour\": [{\"colorbar\": {\"outlinewidth\": 0, \"ticks\": \"\"}, \"colorscale\": [[0.0, \"#0d0887\"], [0.1111111111111111, \"#46039f\"], [0.2222222222222222, \"#7201a8\"], [0.3333333333333333, \"#9c179e\"], [0.4444444444444444, \"#bd3786\"], [0.5555555555555556, \"#d8576b\"], [0.6666666666666666, \"#ed7953\"], [0.7777777777777778, \"#fb9f3a\"], [0.8888888888888888, \"#fdca26\"], [1.0, \"#f0f921\"]], \"type\": \"contour\"}], \"contourcarpet\": [{\"colorbar\": {\"outlinewidth\": 0, \"ticks\": \"\"}, \"type\": \"contourcarpet\"}], \"heatmap\": [{\"colorbar\": {\"outlinewidth\": 0, \"ticks\": \"\"}, \"colorscale\": [[0.0, \"#0d0887\"], [0.1111111111111111, \"#46039f\"], [0.2222222222222222, \"#7201a8\"], [0.3333333333333333, \"#9c179e\"], [0.4444444444444444, \"#bd3786\"], [0.5555555555555556, \"#d8576b\"], [0.6666666666666666, \"#ed7953\"], [0.7777777777777778, \"#fb9f3a\"], [0.8888888888888888, \"#fdca26\"], [1.0, \"#f0f921\"]], \"type\": \"heatmap\"}], \"heatmapgl\": [{\"colorbar\": {\"outlinewidth\": 0, \"ticks\": \"\"}, \"colorscale\": [[0.0, \"#0d0887\"], [0.1111111111111111, \"#46039f\"], [0.2222222222222222, \"#7201a8\"], [0.3333333333333333, \"#9c179e\"], [0.4444444444444444, \"#bd3786\"], [0.5555555555555556, \"#d8576b\"], [0.6666666666666666, \"#ed7953\"], [0.7777777777777778, \"#fb9f3a\"], [0.8888888888888888, \"#fdca26\"], [1.0, \"#f0f921\"]], \"type\": \"heatmapgl\"}], \"histogram\": [{\"marker\": {\"colorbar\": {\"outlinewidth\": 0, \"ticks\": \"\"}}, \"type\": \"histogram\"}], \"histogram2d\": [{\"colorbar\": {\"outlinewidth\": 0, \"ticks\": \"\"}, \"colorscale\": [[0.0, \"#0d0887\"], [0.1111111111111111, \"#46039f\"], [0.2222222222222222, \"#7201a8\"], [0.3333333333333333, \"#9c179e\"], [0.4444444444444444, \"#bd3786\"], [0.5555555555555556, \"#d8576b\"], [0.6666666666666666, \"#ed7953\"], [0.7777777777777778, \"#fb9f3a\"], [0.8888888888888888, \"#fdca26\"], [1.0, \"#f0f921\"]], \"type\": \"histogram2d\"}], \"histogram2dcontour\": [{\"colorbar\": {\"outlinewidth\": 0, \"ticks\": \"\"}, \"colorscale\": [[0.0, \"#0d0887\"], [0.1111111111111111, \"#46039f\"], [0.2222222222222222, \"#7201a8\"], [0.3333333333333333, \"#9c179e\"], [0.4444444444444444, \"#bd3786\"], [0.5555555555555556, \"#d8576b\"], [0.6666666666666666, \"#ed7953\"], [0.7777777777777778, \"#fb9f3a\"], [0.8888888888888888, \"#fdca26\"], [1.0, \"#f0f921\"]], \"type\": \"histogram2dcontour\"}], \"mesh3d\": [{\"colorbar\": {\"outlinewidth\": 0, \"ticks\": \"\"}, \"type\": \"mesh3d\"}], \"parcoords\": [{\"line\": {\"colorbar\": {\"outlinewidth\": 0, \"ticks\": \"\"}}, \"type\": \"parcoords\"}], \"pie\": [{\"automargin\": true, \"type\": \"pie\"}], \"scatter\": [{\"marker\": {\"colorbar\": {\"outlinewidth\": 0, \"ticks\": \"\"}}, \"type\": \"scatter\"}], \"scatter3d\": [{\"line\": {\"colorbar\": {\"outlinewidth\": 0, \"ticks\": \"\"}}, \"marker\": {\"colorbar\": {\"outlinewidth\": 0, \"ticks\": \"\"}}, \"type\": \"scatter3d\"}], \"scattercarpet\": [{\"marker\": {\"colorbar\": {\"outlinewidth\": 0, \"ticks\": \"\"}}, \"type\": \"scattercarpet\"}], \"scattergeo\": [{\"marker\": {\"colorbar\": {\"outlinewidth\": 0, \"ticks\": \"\"}}, \"type\": \"scattergeo\"}], \"scattergl\": [{\"marker\": {\"colorbar\": {\"outlinewidth\": 0, \"ticks\": \"\"}}, \"type\": \"scattergl\"}], \"scattermapbox\": [{\"marker\": {\"colorbar\": {\"outlinewidth\": 0, \"ticks\": \"\"}}, \"type\": \"scattermapbox\"}], \"scatterpolar\": [{\"marker\": {\"colorbar\": {\"outlinewidth\": 0, \"ticks\": \"\"}}, \"type\": \"scatterpolar\"}], \"scatterpolargl\": [{\"marker\": {\"colorbar\": {\"outlinewidth\": 0, \"ticks\": \"\"}}, \"type\": \"scatterpolargl\"}], \"scatterternary\": [{\"marker\": {\"colorbar\": {\"outlinewidth\": 0, \"ticks\": \"\"}}, \"type\": \"scatterternary\"}], \"surface\": [{\"colorbar\": {\"outlinewidth\": 0, \"ticks\": \"\"}, \"colorscale\": [[0.0, \"#0d0887\"], [0.1111111111111111, \"#46039f\"], [0.2222222222222222, \"#7201a8\"], [0.3333333333333333, \"#9c179e\"], [0.4444444444444444, \"#bd3786\"], [0.5555555555555556, \"#d8576b\"], [0.6666666666666666, \"#ed7953\"], [0.7777777777777778, \"#fb9f3a\"], [0.8888888888888888, \"#fdca26\"], [1.0, \"#f0f921\"]], \"type\": \"surface\"}], \"table\": [{\"cells\": {\"fill\": {\"color\": \"#EBF0F8\"}, \"line\": {\"color\": \"white\"}}, \"header\": {\"fill\": {\"color\": \"#C8D4E3\"}, \"line\": {\"color\": \"white\"}}, \"type\": \"table\"}]}, \"layout\": {\"annotationdefaults\": {\"arrowcolor\": \"#2a3f5f\", \"arrowhead\": 0, \"arrowwidth\": 1}, \"coloraxis\": {\"colorbar\": {\"outlinewidth\": 0, \"ticks\": \"\"}}, \"colorscale\": {\"diverging\": [[0, \"#8e0152\"], [0.1, \"#c51b7d\"], [0.2, \"#de77ae\"], [0.3, \"#f1b6da\"], [0.4, \"#fde0ef\"], [0.5, \"#f7f7f7\"], [0.6, \"#e6f5d0\"], [0.7, \"#b8e186\"], [0.8, \"#7fbc41\"], [0.9, \"#4d9221\"], [1, \"#276419\"]], \"sequential\": [[0.0, \"#0d0887\"], [0.1111111111111111, \"#46039f\"], [0.2222222222222222, \"#7201a8\"], [0.3333333333333333, \"#9c179e\"], [0.4444444444444444, \"#bd3786\"], [0.5555555555555556, \"#d8576b\"], [0.6666666666666666, \"#ed7953\"], [0.7777777777777778, \"#fb9f3a\"], [0.8888888888888888, \"#fdca26\"], [1.0, \"#f0f921\"]], \"sequentialminus\": [[0.0, \"#0d0887\"], [0.1111111111111111, \"#46039f\"], [0.2222222222222222, \"#7201a8\"], [0.3333333333333333, \"#9c179e\"], [0.4444444444444444, \"#bd3786\"], [0.5555555555555556, \"#d8576b\"], [0.6666666666666666, \"#ed7953\"], [0.7777777777777778, \"#fb9f3a\"], [0.8888888888888888, \"#fdca26\"], [1.0, \"#f0f921\"]]}, \"colorway\": [\"#636efa\", \"#EF553B\", \"#00cc96\", \"#ab63fa\", \"#FFA15A\", \"#19d3f3\", \"#FF6692\", \"#B6E880\", \"#FF97FF\", \"#FECB52\"], \"font\": {\"color\": \"#2a3f5f\"}, \"geo\": {\"bgcolor\": \"white\", \"lakecolor\": \"white\", \"landcolor\": \"#E5ECF6\", \"showlakes\": true, \"showland\": true, \"subunitcolor\": \"white\"}, \"hoverlabel\": {\"align\": \"left\"}, \"hovermode\": \"closest\", \"mapbox\": {\"style\": \"light\"}, \"paper_bgcolor\": \"white\", \"plot_bgcolor\": \"#E5ECF6\", \"polar\": {\"angularaxis\": {\"gridcolor\": \"white\", \"linecolor\": \"white\", \"ticks\": \"\"}, \"bgcolor\": \"#E5ECF6\", \"radialaxis\": {\"gridcolor\": \"white\", \"linecolor\": \"white\", \"ticks\": \"\"}}, \"scene\": {\"xaxis\": {\"backgroundcolor\": \"#E5ECF6\", \"gridcolor\": \"white\", \"gridwidth\": 2, \"linecolor\": \"white\", \"showbackground\": true, \"ticks\": \"\", \"zerolinecolor\": \"white\"}, \"yaxis\": {\"backgroundcolor\": \"#E5ECF6\", \"gridcolor\": \"white\", \"gridwidth\": 2, \"linecolor\": \"white\", \"showbackground\": true, \"ticks\": \"\", \"zerolinecolor\": \"white\"}, \"zaxis\": {\"backgroundcolor\": \"#E5ECF6\", \"gridcolor\": \"white\", \"gridwidth\": 2, \"linecolor\": \"white\", \"showbackground\": true, \"ticks\": \"\", \"zerolinecolor\": \"white\"}}, \"shapedefaults\": {\"line\": {\"color\": \"#2a3f5f\"}}, \"ternary\": {\"aaxis\": {\"gridcolor\": \"white\", \"linecolor\": \"white\", \"ticks\": \"\"}, \"baxis\": {\"gridcolor\": \"white\", \"linecolor\": \"white\", \"ticks\": \"\"}, \"bgcolor\": \"#E5ECF6\", \"caxis\": {\"gridcolor\": \"white\", \"linecolor\": \"white\", \"ticks\": \"\"}}, \"title\": {\"x\": 0.05}, \"xaxis\": {\"automargin\": true, \"gridcolor\": \"white\", \"linecolor\": \"white\", \"ticks\": \"\", \"title\": {\"standoff\": 15}, \"zerolinecolor\": \"white\", \"zerolinewidth\": 2}, \"yaxis\": {\"automargin\": true, \"gridcolor\": \"white\", \"linecolor\": \"white\", \"ticks\": \"\", \"title\": {\"standoff\": 15}, \"zerolinecolor\": \"white\", \"zerolinewidth\": 2}}}, \"width\": 1000, \"xaxis\": {\"anchor\": \"y\", \"domain\": [0.0, 1.0], \"title\": {\"text\": \"x\"}}, \"yaxis\": {\"anchor\": \"x\", \"domain\": [0.0, 1.0], \"title\": {\"text\": \"confirmed\"}}},\n",
       "                        {\"responsive\": true}\n",
       "                    ).then(function(){\n",
       "                            \n",
       "var gd = document.getElementById('beb071b0-8bc8-4d6d-8b27-a65f41564555');\n",
       "var x = new MutationObserver(function (mutations, observer) {{\n",
       "        var display = window.getComputedStyle(gd).display;\n",
       "        if (!display || display === 'none') {{\n",
       "            console.log([gd, 'removed!']);\n",
       "            Plotly.purge(gd);\n",
       "            observer.disconnect();\n",
       "        }}\n",
       "}});\n",
       "\n",
       "// Listen for the removal of the full notebook cells\n",
       "var notebookContainer = gd.closest('#notebook-container');\n",
       "if (notebookContainer) {{\n",
       "    x.observe(notebookContainer, {childList: true});\n",
       "}}\n",
       "\n",
       "// Listen for the clearing of the current output cell\n",
       "var outputEl = gd.closest('.output');\n",
       "if (outputEl) {{\n",
       "    x.observe(outputEl, {childList: true});\n",
       "}}\n",
       "\n",
       "                        })\n",
       "                };\n",
       "                });\n",
       "            </script>\n",
       "        </div>"
      ]
     },
     "metadata": {},
     "output_type": "display_data"
    }
   ],
   "source": [
    "import plotly.express as px\n",
    "figure = px.bar(df_india, x = df_india.index, height=800, width=1000, y = 'confirmed', color = 'confirmed')\n",
    "figure.show()"
   ]
  },
  {
   "cell_type": "code",
   "execution_count": 26,
   "metadata": {},
   "outputs": [],
   "source": [
    "location = {\n",
    "    \"Sikkim\": [27.5330,88.5122],\n",
    "    \"Maharashtra\" : [19.7515,75.7139],\n",
    "    \"West Bengal\": [22.9868,87.8550],\n",
    "    \"Chandigarh\":[30.7333,76.7794],\n",
    "    \"Karnataka\": [15.3173,75.7139],\n",
    "    \"Telangana\": [18.1124,79.0193],\n",
    "    \"Uttar Pradesh\": [26.8467,80.9462],\n",
    "    \"Gujarat\":[22.2587,71.1924],\n",
    "     \"Odisha\":[20.9517,85.0985],\n",
    "    \"Delhi\" : [28.7041,77.1025],\n",
    "    \"Tamil Nadu\": [11.1271,78.6569],\n",
    "    \"Haryana\": [29.0588,76.0856],\n",
    "    \"Madhya Pradesh\":[22.9734,78.6569],\n",
    "    \"Kerala\" : [10.8505,76.2711],\n",
    "    \"Rajasthan\": [27.0238,74.2179],\n",
    "    \"Jammu and Kashmir\":[33.7782,76.5762],\n",
    "    \"Ladakh\": [34.1526,77.5770],\n",
    "    \"Andhra Pradesh\":[15.9129,79.7400],\n",
    "    \"Bihar\": [25.0961,85.3131],\n",
    "    \"Chhattisgarh\":[21.2787,81.8661],\n",
    "    \"Uttarakhand\":[30.0668,79.0193],\n",
    "    \"Himachal Pradesh\":[31.1048,77.1734],\n",
    "    \"Goa\": [15.2993,74.1240],\n",
    "    \"Tripura\":[23.9408,91.9882],  \n",
    "    \"Andaman and Nicobar Islands\": [11.7401,92.6586],\n",
    "    \"Puducherry\":[11.9416,79.8083],\n",
    "    \"Manipur\":[24.6637,93.9063],\n",
    "    \"Mizoram\":[23.1645,92.9376],\n",
    "    \"Assam\":[26.2006,92.9376],\n",
    "    \"Meghalaya\":[25.4670,91.3662],   \n",
    "    \"Arunachal Pradesh\":[28.2180,94.7278],\n",
    "    \"Jharkhand\" : [23.6102,85.2799],\n",
    "    \"Nagaland\": [26.1584,94.5624],\n",
    "    \"Punjab\":[31.1471,75.3412], \n",
    "    \"Dadra and Nagar Haveli\":[20.1809,73.0169],\n",
    "    \"Lakshadweep\":[10.5667,72.6417],\n",
    "    \"Daman and Diu\":[20.4283,72.8397] \n",
    "}"
   ]
  },
  {
   "cell_type": "code",
   "execution_count": 27,
   "metadata": {},
   "outputs": [],
   "source": [
    "## Match key of location == index of df_india , once it is matched extract lat = [0], long = [1]\n",
    "df_india[\"Lat\"] = ''\n",
    "df_india[\"Long\"] = ''\n",
    "\n",
    "for index in df_india.index:\n",
    "    df_india.loc[df_india.index == index, \"Lat\"] = location[index][0]\n",
    "    df_india.loc[df_india.index == index, \"Long\"] = location[index][1]\n"
   ]
  },
  {
   "cell_type": "code",
   "execution_count": 28,
   "metadata": {
    "scrolled": true
   },
   "outputs": [
    {
     "data": {
      "text/html": [
       "<div>\n",
       "<style scoped>\n",
       "    .dataframe tbody tr th:only-of-type {\n",
       "        vertical-align: middle;\n",
       "    }\n",
       "\n",
       "    .dataframe tbody tr th {\n",
       "        vertical-align: top;\n",
       "    }\n",
       "\n",
       "    .dataframe thead th {\n",
       "        text-align: right;\n",
       "    }\n",
       "</style>\n",
       "<table border=\"1\" class=\"dataframe\">\n",
       "  <thead>\n",
       "    <tr style=\"text-align: right;\">\n",
       "      <th></th>\n",
       "      <th>confirmed</th>\n",
       "      <th>recovered</th>\n",
       "      <th>deaths</th>\n",
       "      <th>active</th>\n",
       "      <th>Lat</th>\n",
       "      <th>Long</th>\n",
       "    </tr>\n",
       "    <tr>\n",
       "      <th>state</th>\n",
       "      <th></th>\n",
       "      <th></th>\n",
       "      <th></th>\n",
       "      <th></th>\n",
       "      <th></th>\n",
       "      <th></th>\n",
       "    </tr>\n",
       "  </thead>\n",
       "  <tbody>\n",
       "    <tr>\n",
       "      <th>Maharashtra</th>\n",
       "      <td>12296</td>\n",
       "      <td>2000</td>\n",
       "      <td>521</td>\n",
       "      <td>9775</td>\n",
       "      <td>19.7515</td>\n",
       "      <td>75.7139</td>\n",
       "    </tr>\n",
       "    <tr>\n",
       "      <th>Gujarat</th>\n",
       "      <td>5054</td>\n",
       "      <td>896</td>\n",
       "      <td>262</td>\n",
       "      <td>3896</td>\n",
       "      <td>22.2587</td>\n",
       "      <td>71.1924</td>\n",
       "    </tr>\n",
       "    <tr>\n",
       "      <th>Delhi</th>\n",
       "      <td>4122</td>\n",
       "      <td>1256</td>\n",
       "      <td>64</td>\n",
       "      <td>2802</td>\n",
       "      <td>28.7041</td>\n",
       "      <td>77.1025</td>\n",
       "    </tr>\n",
       "    <tr>\n",
       "      <th>Madhya Pradesh</th>\n",
       "      <td>2788</td>\n",
       "      <td>622</td>\n",
       "      <td>151</td>\n",
       "      <td>2015</td>\n",
       "      <td>22.9734</td>\n",
       "      <td>78.6569</td>\n",
       "    </tr>\n",
       "    <tr>\n",
       "      <th>Rajasthan</th>\n",
       "      <td>2772</td>\n",
       "      <td>1242</td>\n",
       "      <td>68</td>\n",
       "      <td>1462</td>\n",
       "      <td>27.0238</td>\n",
       "      <td>74.2179</td>\n",
       "    </tr>\n",
       "    <tr>\n",
       "      <th>Tamil Nadu</th>\n",
       "      <td>2757</td>\n",
       "      <td>1341</td>\n",
       "      <td>29</td>\n",
       "      <td>1387</td>\n",
       "      <td>11.1271</td>\n",
       "      <td>78.6569</td>\n",
       "    </tr>\n",
       "    <tr>\n",
       "      <th>Uttar Pradesh</th>\n",
       "      <td>2487</td>\n",
       "      <td>698</td>\n",
       "      <td>43</td>\n",
       "      <td>1746</td>\n",
       "      <td>26.8467</td>\n",
       "      <td>80.9462</td>\n",
       "    </tr>\n",
       "    <tr>\n",
       "      <th>Andhra Pradesh</th>\n",
       "      <td>1525</td>\n",
       "      <td>441</td>\n",
       "      <td>33</td>\n",
       "      <td>1051</td>\n",
       "      <td>15.9129</td>\n",
       "      <td>79.74</td>\n",
       "    </tr>\n",
       "    <tr>\n",
       "      <th>Telangana</th>\n",
       "      <td>1061</td>\n",
       "      <td>499</td>\n",
       "      <td>29</td>\n",
       "      <td>533</td>\n",
       "      <td>18.1124</td>\n",
       "      <td>79.0193</td>\n",
       "    </tr>\n",
       "    <tr>\n",
       "      <th>West Bengal</th>\n",
       "      <td>795</td>\n",
       "      <td>139</td>\n",
       "      <td>48</td>\n",
       "      <td>608</td>\n",
       "      <td>22.9868</td>\n",
       "      <td>87.855</td>\n",
       "    </tr>\n",
       "    <tr>\n",
       "      <th>Jammu and Kashmir</th>\n",
       "      <td>666</td>\n",
       "      <td>254</td>\n",
       "      <td>8</td>\n",
       "      <td>404</td>\n",
       "      <td>33.7782</td>\n",
       "      <td>76.5762</td>\n",
       "    </tr>\n",
       "    <tr>\n",
       "      <th>Karnataka</th>\n",
       "      <td>601</td>\n",
       "      <td>271</td>\n",
       "      <td>25</td>\n",
       "      <td>304</td>\n",
       "      <td>15.3173</td>\n",
       "      <td>75.7139</td>\n",
       "    </tr>\n",
       "    <tr>\n",
       "      <th>Kerala</th>\n",
       "      <td>500</td>\n",
       "      <td>400</td>\n",
       "      <td>4</td>\n",
       "      <td>96</td>\n",
       "      <td>10.8505</td>\n",
       "      <td>76.2711</td>\n",
       "    </tr>\n",
       "    <tr>\n",
       "      <th>Bihar</th>\n",
       "      <td>481</td>\n",
       "      <td>107</td>\n",
       "      <td>4</td>\n",
       "      <td>370</td>\n",
       "      <td>25.0961</td>\n",
       "      <td>85.3131</td>\n",
       "    </tr>\n",
       "    <tr>\n",
       "      <th>Punjab</th>\n",
       "      <td>772</td>\n",
       "      <td>112</td>\n",
       "      <td>20</td>\n",
       "      <td>640</td>\n",
       "      <td>31.1471</td>\n",
       "      <td>75.3412</td>\n",
       "    </tr>\n",
       "    <tr>\n",
       "      <th>Haryana</th>\n",
       "      <td>376</td>\n",
       "      <td>242</td>\n",
       "      <td>5</td>\n",
       "      <td>129</td>\n",
       "      <td>29.0588</td>\n",
       "      <td>76.0856</td>\n",
       "    </tr>\n",
       "    <tr>\n",
       "      <th>Odisha</th>\n",
       "      <td>157</td>\n",
       "      <td>56</td>\n",
       "      <td>1</td>\n",
       "      <td>100</td>\n",
       "      <td>20.9517</td>\n",
       "      <td>85.0985</td>\n",
       "    </tr>\n",
       "    <tr>\n",
       "      <th>Jharkhand</th>\n",
       "      <td>115</td>\n",
       "      <td>22</td>\n",
       "      <td>3</td>\n",
       "      <td>90</td>\n",
       "      <td>23.6102</td>\n",
       "      <td>85.2799</td>\n",
       "    </tr>\n",
       "    <tr>\n",
       "      <th>Chandigarh</th>\n",
       "      <td>94</td>\n",
       "      <td>19</td>\n",
       "      <td>0</td>\n",
       "      <td>75</td>\n",
       "      <td>30.7333</td>\n",
       "      <td>76.7794</td>\n",
       "    </tr>\n",
       "    <tr>\n",
       "      <th>Uttarakhand</th>\n",
       "      <td>59</td>\n",
       "      <td>39</td>\n",
       "      <td>1</td>\n",
       "      <td>19</td>\n",
       "      <td>30.0668</td>\n",
       "      <td>79.0193</td>\n",
       "    </tr>\n",
       "    <tr>\n",
       "      <th>Himachal Pradesh</th>\n",
       "      <td>40</td>\n",
       "      <td>33</td>\n",
       "      <td>2</td>\n",
       "      <td>2</td>\n",
       "      <td>31.1048</td>\n",
       "      <td>77.1734</td>\n",
       "    </tr>\n",
       "    <tr>\n",
       "      <th>Assam</th>\n",
       "      <td>43</td>\n",
       "      <td>33</td>\n",
       "      <td>1</td>\n",
       "      <td>9</td>\n",
       "      <td>26.2006</td>\n",
       "      <td>92.9376</td>\n",
       "    </tr>\n",
       "    <tr>\n",
       "      <th>Chhattisgarh</th>\n",
       "      <td>43</td>\n",
       "      <td>36</td>\n",
       "      <td>0</td>\n",
       "      <td>7</td>\n",
       "      <td>21.2787</td>\n",
       "      <td>81.8661</td>\n",
       "    </tr>\n",
       "    <tr>\n",
       "      <th>Andaman and Nicobar Islands</th>\n",
       "      <td>33</td>\n",
       "      <td>26</td>\n",
       "      <td>0</td>\n",
       "      <td>7</td>\n",
       "      <td>11.7401</td>\n",
       "      <td>92.6586</td>\n",
       "    </tr>\n",
       "    <tr>\n",
       "      <th>Ladakh</th>\n",
       "      <td>23</td>\n",
       "      <td>17</td>\n",
       "      <td>0</td>\n",
       "      <td>6</td>\n",
       "      <td>34.1526</td>\n",
       "      <td>77.577</td>\n",
       "    </tr>\n",
       "    <tr>\n",
       "      <th>Meghalaya</th>\n",
       "      <td>12</td>\n",
       "      <td>10</td>\n",
       "      <td>1</td>\n",
       "      <td>1</td>\n",
       "      <td>25.467</td>\n",
       "      <td>91.3662</td>\n",
       "    </tr>\n",
       "    <tr>\n",
       "      <th>Puducherry</th>\n",
       "      <td>12</td>\n",
       "      <td>5</td>\n",
       "      <td>0</td>\n",
       "      <td>7</td>\n",
       "      <td>11.9416</td>\n",
       "      <td>79.8083</td>\n",
       "    </tr>\n",
       "    <tr>\n",
       "      <th>Goa</th>\n",
       "      <td>7</td>\n",
       "      <td>7</td>\n",
       "      <td>0</td>\n",
       "      <td>0</td>\n",
       "      <td>15.2993</td>\n",
       "      <td>74.124</td>\n",
       "    </tr>\n",
       "    <tr>\n",
       "      <th>Manipur</th>\n",
       "      <td>2</td>\n",
       "      <td>2</td>\n",
       "      <td>0</td>\n",
       "      <td>0</td>\n",
       "      <td>24.6637</td>\n",
       "      <td>93.9063</td>\n",
       "    </tr>\n",
       "    <tr>\n",
       "      <th>Tripura</th>\n",
       "      <td>4</td>\n",
       "      <td>2</td>\n",
       "      <td>0</td>\n",
       "      <td>2</td>\n",
       "      <td>23.9408</td>\n",
       "      <td>91.9882</td>\n",
       "    </tr>\n",
       "    <tr>\n",
       "      <th>Mizoram</th>\n",
       "      <td>1</td>\n",
       "      <td>0</td>\n",
       "      <td>0</td>\n",
       "      <td>1</td>\n",
       "      <td>23.1645</td>\n",
       "      <td>92.9376</td>\n",
       "    </tr>\n",
       "    <tr>\n",
       "      <th>Arunachal Pradesh</th>\n",
       "      <td>1</td>\n",
       "      <td>1</td>\n",
       "      <td>0</td>\n",
       "      <td>0</td>\n",
       "      <td>28.218</td>\n",
       "      <td>94.7278</td>\n",
       "    </tr>\n",
       "    <tr>\n",
       "      <th>Nagaland</th>\n",
       "      <td>0</td>\n",
       "      <td>0</td>\n",
       "      <td>0</td>\n",
       "      <td>0</td>\n",
       "      <td>26.1584</td>\n",
       "      <td>94.5624</td>\n",
       "    </tr>\n",
       "    <tr>\n",
       "      <th>Dadra and Nagar Haveli</th>\n",
       "      <td>0</td>\n",
       "      <td>0</td>\n",
       "      <td>0</td>\n",
       "      <td>0</td>\n",
       "      <td>20.1809</td>\n",
       "      <td>73.0169</td>\n",
       "    </tr>\n",
       "    <tr>\n",
       "      <th>Daman and Diu</th>\n",
       "      <td>0</td>\n",
       "      <td>0</td>\n",
       "      <td>0</td>\n",
       "      <td>0</td>\n",
       "      <td>20.4283</td>\n",
       "      <td>72.8397</td>\n",
       "    </tr>\n",
       "    <tr>\n",
       "      <th>Lakshadweep</th>\n",
       "      <td>0</td>\n",
       "      <td>0</td>\n",
       "      <td>0</td>\n",
       "      <td>0</td>\n",
       "      <td>10.5667</td>\n",
       "      <td>72.6417</td>\n",
       "    </tr>\n",
       "    <tr>\n",
       "      <th>Sikkim</th>\n",
       "      <td>0</td>\n",
       "      <td>0</td>\n",
       "      <td>0</td>\n",
       "      <td>0</td>\n",
       "      <td>27.533</td>\n",
       "      <td>88.5122</td>\n",
       "    </tr>\n",
       "  </tbody>\n",
       "</table>\n",
       "</div>"
      ],
      "text/plain": [
       "                             confirmed  recovered  deaths  active      Lat  \\\n",
       "state                                                                        \n",
       "Maharashtra                      12296       2000     521    9775  19.7515   \n",
       "Gujarat                           5054        896     262    3896  22.2587   \n",
       "Delhi                             4122       1256      64    2802  28.7041   \n",
       "Madhya Pradesh                    2788        622     151    2015  22.9734   \n",
       "Rajasthan                         2772       1242      68    1462  27.0238   \n",
       "Tamil Nadu                        2757       1341      29    1387  11.1271   \n",
       "Uttar Pradesh                     2487        698      43    1746  26.8467   \n",
       "Andhra Pradesh                    1525        441      33    1051  15.9129   \n",
       "Telangana                         1061        499      29     533  18.1124   \n",
       "West Bengal                        795        139      48     608  22.9868   \n",
       "Jammu and Kashmir                  666        254       8     404  33.7782   \n",
       "Karnataka                          601        271      25     304  15.3173   \n",
       "Kerala                             500        400       4      96  10.8505   \n",
       "Bihar                              481        107       4     370  25.0961   \n",
       "Punjab                             772        112      20     640  31.1471   \n",
       "Haryana                            376        242       5     129  29.0588   \n",
       "Odisha                             157         56       1     100  20.9517   \n",
       "Jharkhand                          115         22       3      90  23.6102   \n",
       "Chandigarh                          94         19       0      75  30.7333   \n",
       "Uttarakhand                         59         39       1      19  30.0668   \n",
       "Himachal Pradesh                    40         33       2       2  31.1048   \n",
       "Assam                               43         33       1       9  26.2006   \n",
       "Chhattisgarh                        43         36       0       7  21.2787   \n",
       "Andaman and Nicobar Islands         33         26       0       7  11.7401   \n",
       "Ladakh                              23         17       0       6  34.1526   \n",
       "Meghalaya                           12         10       1       1   25.467   \n",
       "Puducherry                          12          5       0       7  11.9416   \n",
       "Goa                                  7          7       0       0  15.2993   \n",
       "Manipur                              2          2       0       0  24.6637   \n",
       "Tripura                              4          2       0       2  23.9408   \n",
       "Mizoram                              1          0       0       1  23.1645   \n",
       "Arunachal Pradesh                    1          1       0       0   28.218   \n",
       "Nagaland                             0          0       0       0  26.1584   \n",
       "Dadra and Nagar Haveli               0          0       0       0  20.1809   \n",
       "Daman and Diu                        0          0       0       0  20.4283   \n",
       "Lakshadweep                          0          0       0       0  10.5667   \n",
       "Sikkim                               0          0       0       0   27.533   \n",
       "\n",
       "                                Long  \n",
       "state                                 \n",
       "Maharashtra                  75.7139  \n",
       "Gujarat                      71.1924  \n",
       "Delhi                        77.1025  \n",
       "Madhya Pradesh               78.6569  \n",
       "Rajasthan                    74.2179  \n",
       "Tamil Nadu                   78.6569  \n",
       "Uttar Pradesh                80.9462  \n",
       "Andhra Pradesh                 79.74  \n",
       "Telangana                    79.0193  \n",
       "West Bengal                   87.855  \n",
       "Jammu and Kashmir            76.5762  \n",
       "Karnataka                    75.7139  \n",
       "Kerala                       76.2711  \n",
       "Bihar                        85.3131  \n",
       "Punjab                       75.3412  \n",
       "Haryana                      76.0856  \n",
       "Odisha                       85.0985  \n",
       "Jharkhand                    85.2799  \n",
       "Chandigarh                   76.7794  \n",
       "Uttarakhand                  79.0193  \n",
       "Himachal Pradesh             77.1734  \n",
       "Assam                        92.9376  \n",
       "Chhattisgarh                 81.8661  \n",
       "Andaman and Nicobar Islands  92.6586  \n",
       "Ladakh                        77.577  \n",
       "Meghalaya                    91.3662  \n",
       "Puducherry                   79.8083  \n",
       "Goa                           74.124  \n",
       "Manipur                      93.9063  \n",
       "Tripura                      91.9882  \n",
       "Mizoram                      92.9376  \n",
       "Arunachal Pradesh            94.7278  \n",
       "Nagaland                     94.5624  \n",
       "Dadra and Nagar Haveli       73.0169  \n",
       "Daman and Diu                72.8397  \n",
       "Lakshadweep                  72.6417  \n",
       "Sikkim                       88.5122  "
      ]
     },
     "execution_count": 28,
     "metadata": {},
     "output_type": "execute_result"
    }
   ],
   "source": [
    "df_india\n"
   ]
  },
  {
   "cell_type": "code",
   "execution_count": 66,
   "metadata": {},
   "outputs": [
    {
     "ename": "SyntaxError",
     "evalue": "invalid syntax (<ipython-input-66-7aaad5c1da75>, line 5)",
     "output_type": "error",
     "traceback": [
      "\u001b[1;36m  File \u001b[1;32m\"<ipython-input-66-7aaad5c1da75>\"\u001b[1;36m, line \u001b[1;32m5\u001b[0m\n\u001b[1;33m    tooltip = \"<h5 style='text-align:center;font-weight: bold'>\"+covid19_deaths.iloc[i]['Country']+\"</h5>\"+\u001b[0m\n\u001b[1;37m                                                                                                           ^\u001b[0m\n\u001b[1;31mSyntaxError\u001b[0m\u001b[1;31m:\u001b[0m invalid syntax\n"
     ]
    }
   ],
   "source": [
    "india_map = folium.Map(location=[10,80], tiles=\"cartodbpositron\", zoom_start=2,max_zoom=6,min_zoom=2)\n",
    "for i in range(0,len(df_india)):\n",
    "    folium.Circle(location=[df_india.iloc[i]['Lat'], df_india.iloc[i]['Long']],\n",
    "                  radius=(int(np.log2(df_india.iloc[i]['confirmed']+1.0001)))*11000),\n",
    "    tooltip = \"<h5 style='text-align:center;font-weight: bold'>\"+covid19_deaths.iloc[i]['Country']+\"</h5>\"+\n",
    "    \"<div style='text-align:center;'>\"+str(np.nan_to_num(covid19_deaths.iloc[i]['State']))+\"</div>\"+\n",
    "    \"<hr style='margin:10px;'>\"+\n",
    "    \"<ul style='color: #444;list-style-type:circle;align-item:left;padding-left:20px;padding-right:20px'>\"+\n",
    "    \"<li>Confirmed: \"+str(covid19_deaths.iloc[i]['confirmed'])+\"</li>\"+\n",
    "    \"<li>Deaths:   \"+str(covid19_deaths.iloc[i]['deaths'])+\"</li>\"+\n",
    "    \"<li>Active:   \"+str(covid19_deaths.iloc[i]['active'])+\"</li>\"+\n",
    "    \"<li>Mortality Rate:   \"+str(np.round(covid19_deaths.iloc[i,-1]/(covid19_deaths.iloc[i,-1]+1.00001)*100,2))+\"</li>\"+\n",
    "    \"</ul>\",\n",
    "        radius=(int((np.log(covid19_deaths.iloc[i,-1]+1.00001)))+0.2)*50000,\n",
    "        color='#ff6600',\n",
    "        fill_color='#ff8533',\n",
    "        fill=True).add_to(india_map)\n",
    "        \n",
    "\n",
    "india_map"
   ]
  },
  {
   "cell_type": "code",
   "execution_count": 74,
   "metadata": {},
   "outputs": [
    {
     "ename": "IndentationError",
     "evalue": "unexpected indent (<ipython-input-74-c700b7d8287d>, line 5)",
     "output_type": "error",
     "traceback": [
      "\u001b[1;36m  File \u001b[1;32m\"<ipython-input-74-c700b7d8287d>\"\u001b[1;36m, line \u001b[1;32m5\u001b[0m\n\u001b[1;33m    tooltip= \"<h5 style='text-align:center;font-weight: bold'>\"+df_india.iloc[i].name+\"</h5>\"+\u001b[0m\n\u001b[1;37m    ^\u001b[0m\n\u001b[1;31mIndentationError\u001b[0m\u001b[1;31m:\u001b[0m unexpected indent\n"
     ]
    }
   ],
   "source": [
    "india_map = folium.Map(location=[10,80], tiles=\"cartodbpositron\", zoom_start=2,max_zoom=6,min_zoom=2)\n",
    "for i in range(0,len([df_india['confirmed']>0].index)):\n",
    "    folium.Circle(location=[df_india.iloc[i]['Lat'], df_india.iloc[i]['Long']],\n",
    "                  radius=(int(np.log2(df_india.iloc[i]['confirmed']+1.0001)))*12000),\n",
    "                    tooltip= \"<h5 style='text-align:center;font-weight: bold'>\"+df_india.iloc[i].name+\"</h5>\"+\n",
    "    \"<li>Confirmed: \"+str(df_india.iloc[i]['confirmed'])+\"</li>\"+\n",
    "    \"<li>Deaths:   \"+str(df_india.iloc[i]['deaths'])+\"</li>\"+\n",
    "\t\t\t\t  \"<li>Active:   \"+str(df_india.iloc[i]['active'])+\"</li>\"+\n",
    "\t\t\t\t  \"</ul>\",fill=True).add_to(india_map),\n",
    "india_map"
   ]
  }
 ],
 "metadata": {
  "kernelspec": {
   "display_name": "Python 3",
   "language": "python",
   "name": "python3"
  },
  "language_info": {
   "codemirror_mode": {
    "name": "ipython",
    "version": 3
   },
   "file_extension": ".py",
   "mimetype": "text/x-python",
   "name": "python",
   "nbconvert_exporter": "python",
   "pygments_lexer": "ipython3",
   "version": "3.7.7"
  }
 },
 "nbformat": 4,
 "nbformat_minor": 4
}
